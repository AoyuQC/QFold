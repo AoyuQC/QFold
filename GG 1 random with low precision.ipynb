{
 "cells": [
  {
   "cell_type": "code",
   "execution_count": 1,
   "metadata": {},
   "outputs": [
    {
     "name": "stderr",
     "output_type": "stream",
     "text": [
      "/opt/conda/lib/python3.7/site-packages/qiskit/providers/ibmq/ibmqfactory.py:192: UserWarning: Timestamps in IBMQ backend properties, jobs, and job results are all now in local time instead of UTC.\n",
      "  warnings.warn('Timestamps in IBMQ backend properties, jobs, and job results '\n"
     ]
    }
   ],
   "source": [
    "%matplotlib inline\n",
    "# Importing standard Qiskit libraries and configuring account\n",
    "from qiskit import QuantumCircuit, execute, Aer, IBMQ\n",
    "from qiskit.compiler import transpile, assemble\n",
    "#from qiskit.tools.jupyter import *\n",
    "#from qiskit.visualization import *\n",
    "# Loading your IBM Q account(s)\n",
    "provider = IBMQ.load_account()\n",
    "\n",
    "from qiskit import QuantumCircuit, execute, Aer\n",
    "from qiskit.circuit import QuantumRegister, Qubit, Gate, ClassicalRegister\n",
    "from qiskit.aqua.components.oracles import Oracle, TruthTableOracle\n",
    "from qiskit.quantum_info import Statevector\n",
    "\n",
    "# Transpiling things\n",
    "from qiskit.compiler import transpile\n",
    "from qiskit.transpiler import PassManager\n",
    "from qiskit.transpiler.passes import Unroller\n",
    "from qiskit.transpiler.passes import BasicSwap, LookaheadSwap, StochasticSwap\n",
    "from qiskit.transpiler import CouplingMap, Layout\n",
    "\n",
    "\n",
    "#import utils\n",
    "from collections import OrderedDict\n",
    "\n",
    "import math\n",
    "import numpy as np\n",
    "\n",
    "# Import general libraries (needed for functions)\n",
    "import numpy as np\n",
    "import time\n",
    "\n",
    "# Import Qiskit classes\n",
    "import qiskit\n",
    "from qiskit.providers.aer import noise\n",
    "from qiskit.tools.visualization import plot_histogram\n",
    "\n",
    "from qiskit.test.mock import FakeYorktown #, FakeCasablanca\n",
    "\n",
    "# Import measurement calibration functions\n",
    "from qiskit.ignis.mitigation.measurement import (complete_meas_cal, tensored_meas_cal,\n",
    "                                                 CompleteMeasFitter, TensoredMeasFitter)"
   ]
  },
  {
   "cell_type": "code",
   "execution_count": 2,
   "metadata": {
    "scrolled": true
   },
   "outputs": [
    {
     "name": "stdout",
     "output_type": "stream",
     "text": [
      "Requirement already satisfied: mitiq in /opt/conda/lib/python3.7/site-packages (0.2.0)\n",
      "Requirement already satisfied: scipy~=1.4.1 in /opt/conda/lib/python3.7/site-packages (from mitiq) (1.4.1)\n",
      "Requirement already satisfied: cirq-unstable==0.9.0.dev20200813185757 in /opt/conda/lib/python3.7/site-packages (from mitiq) (0.9.0.dev20200813185757)\n",
      "Requirement already satisfied: numpy~=1.18.1 in /opt/conda/lib/python3.7/site-packages (from mitiq) (1.18.5)\n",
      "Requirement already satisfied: networkx~=2.4 in /opt/conda/lib/python3.7/site-packages (from cirq-unstable==0.9.0.dev20200813185757->mitiq) (2.5)\n",
      "Requirement already satisfied: sortedcontainers~=2.0 in /opt/conda/lib/python3.7/site-packages (from cirq-unstable==0.9.0.dev20200813185757->mitiq) (2.2.2)\n",
      "Requirement already satisfied: typing-extensions in /opt/conda/lib/python3.7/site-packages (from cirq-unstable==0.9.0.dev20200813185757->mitiq) (3.7.4.2)\n",
      "Requirement already satisfied: matplotlib~=3.0 in /opt/conda/lib/python3.7/site-packages (from cirq-unstable==0.9.0.dev20200813185757->mitiq) (3.3.2)\n",
      "Requirement already satisfied: requests~=2.18 in /opt/conda/lib/python3.7/site-packages (from cirq-unstable==0.9.0.dev20200813185757->mitiq) (2.24.0)\n",
      "Requirement already satisfied: freezegun~=0.3.15 in /opt/conda/lib/python3.7/site-packages (from cirq-unstable==0.9.0.dev20200813185757->mitiq) (0.3.15)\n",
      "Requirement already satisfied: pandas in /opt/conda/lib/python3.7/site-packages (from cirq-unstable==0.9.0.dev20200813185757->mitiq) (1.1.3)\n",
      "Requirement already satisfied: google-api-core[grpc]<2.0.0dev,>=1.14.0 in /opt/conda/lib/python3.7/site-packages (from cirq-unstable==0.9.0.dev20200813185757->mitiq) (1.23.0)\n",
      "Requirement already satisfied: protobuf~=3.12.0 in /opt/conda/lib/python3.7/site-packages (from cirq-unstable==0.9.0.dev20200813185757->mitiq) (3.12.4)\n",
      "Requirement already satisfied: sympy in /opt/conda/lib/python3.7/site-packages (from cirq-unstable==0.9.0.dev20200813185757->mitiq) (1.6.2)\n",
      "Requirement already satisfied: decorator>=4.3.0 in /opt/conda/lib/python3.7/site-packages (from networkx~=2.4->cirq-unstable==0.9.0.dev20200813185757->mitiq) (4.4.2)\n",
      "Requirement already satisfied: certifi>=2020.06.20 in /opt/conda/lib/python3.7/site-packages (from matplotlib~=3.0->cirq-unstable==0.9.0.dev20200813185757->mitiq) (2020.6.20)\n",
      "Requirement already satisfied: pyparsing!=2.0.4,!=2.1.2,!=2.1.6,>=2.0.3 in /opt/conda/lib/python3.7/site-packages (from matplotlib~=3.0->cirq-unstable==0.9.0.dev20200813185757->mitiq) (2.4.7)\n",
      "Requirement already satisfied: kiwisolver>=1.0.1 in /opt/conda/lib/python3.7/site-packages (from matplotlib~=3.0->cirq-unstable==0.9.0.dev20200813185757->mitiq) (1.2.0)\n",
      "Requirement already satisfied: python-dateutil>=2.1 in /opt/conda/lib/python3.7/site-packages (from matplotlib~=3.0->cirq-unstable==0.9.0.dev20200813185757->mitiq) (2.8.1)\n",
      "Requirement already satisfied: cycler>=0.10 in /opt/conda/lib/python3.7/site-packages (from matplotlib~=3.0->cirq-unstable==0.9.0.dev20200813185757->mitiq) (0.10.0)\n",
      "Requirement already satisfied: pillow>=6.2.0 in /opt/conda/lib/python3.7/site-packages (from matplotlib~=3.0->cirq-unstable==0.9.0.dev20200813185757->mitiq) (7.2.0)\n",
      "Requirement already satisfied: urllib3!=1.25.0,!=1.25.1,<1.26,>=1.21.1 in /opt/conda/lib/python3.7/site-packages (from requests~=2.18->cirq-unstable==0.9.0.dev20200813185757->mitiq) (1.25.10)\n",
      "Requirement already satisfied: idna<3,>=2.5 in /opt/conda/lib/python3.7/site-packages (from requests~=2.18->cirq-unstable==0.9.0.dev20200813185757->mitiq) (2.10)\n",
      "Requirement already satisfied: chardet<4,>=3.0.2 in /opt/conda/lib/python3.7/site-packages (from requests~=2.18->cirq-unstable==0.9.0.dev20200813185757->mitiq) (3.0.4)\n",
      "Requirement already satisfied: six in /opt/conda/lib/python3.7/site-packages (from freezegun~=0.3.15->cirq-unstable==0.9.0.dev20200813185757->mitiq) (1.15.0)\n",
      "Requirement already satisfied: pytz>=2017.2 in /opt/conda/lib/python3.7/site-packages (from pandas->cirq-unstable==0.9.0.dev20200813185757->mitiq) (2020.1)\n",
      "Requirement already satisfied: setuptools>=34.0.0 in /opt/conda/lib/python3.7/site-packages (from google-api-core[grpc]<2.0.0dev,>=1.14.0->cirq-unstable==0.9.0.dev20200813185757->mitiq) (50.3.0)\n",
      "Requirement already satisfied: google-auth<2.0dev,>=1.21.1 in /opt/conda/lib/python3.7/site-packages (from google-api-core[grpc]<2.0.0dev,>=1.14.0->cirq-unstable==0.9.0.dev20200813185757->mitiq) (1.22.1)\n",
      "Requirement already satisfied: googleapis-common-protos<2.0dev,>=1.6.0 in /opt/conda/lib/python3.7/site-packages (from google-api-core[grpc]<2.0.0dev,>=1.14.0->cirq-unstable==0.9.0.dev20200813185757->mitiq) (1.52.0)\n",
      "Requirement already satisfied: grpcio<2.0dev,>=1.29.0; extra == \"grpc\" in /opt/conda/lib/python3.7/site-packages (from google-api-core[grpc]<2.0.0dev,>=1.14.0->cirq-unstable==0.9.0.dev20200813185757->mitiq) (1.33.1)\n",
      "Requirement already satisfied: mpmath>=0.19 in /opt/conda/lib/python3.7/site-packages (from sympy->cirq-unstable==0.9.0.dev20200813185757->mitiq) (1.1.0)\n",
      "Requirement already satisfied: rsa<5,>=3.1.4; python_version >= \"3.5\" in /opt/conda/lib/python3.7/site-packages (from google-auth<2.0dev,>=1.21.1->google-api-core[grpc]<2.0.0dev,>=1.14.0->cirq-unstable==0.9.0.dev20200813185757->mitiq) (4.6)\n",
      "Requirement already satisfied: pyasn1-modules>=0.2.1 in /opt/conda/lib/python3.7/site-packages (from google-auth<2.0dev,>=1.21.1->google-api-core[grpc]<2.0.0dev,>=1.14.0->cirq-unstable==0.9.0.dev20200813185757->mitiq) (0.2.8)\n",
      "Requirement already satisfied: cachetools<5.0,>=2.0.0 in /opt/conda/lib/python3.7/site-packages (from google-auth<2.0dev,>=1.21.1->google-api-core[grpc]<2.0.0dev,>=1.14.0->cirq-unstable==0.9.0.dev20200813185757->mitiq) (4.1.1)\n",
      "Requirement already satisfied: pyasn1>=0.1.3 in /opt/conda/lib/python3.7/site-packages (from rsa<5,>=3.1.4; python_version >= \"3.5\"->google-auth<2.0dev,>=1.21.1->google-api-core[grpc]<2.0.0dev,>=1.14.0->cirq-unstable==0.9.0.dev20200813185757->mitiq) (0.4.8)\n"
     ]
    }
   ],
   "source": [
    "!pip install mitiq\n",
    "import mitiq"
   ]
  },
  {
   "cell_type": "code",
   "execution_count": 3,
   "metadata": {},
   "outputs": [
    {
     "name": "stdout",
     "output_type": "stream",
     "text": [
      "<AccountProvider for IBMQ(hub='ibm-q-research', group='Pablo-Antonio-Mo', project='main')>\n",
      "ibmq_qasm_simulator\n",
      "ibmqx2\n",
      "ibmq_16_melbourne\n",
      "ibmq_vigo\n",
      "ibmq_ourense\n",
      "ibmq_valencia\n",
      "ibmq_armonk\n",
      "ibmq_athens\n",
      "ibmq_rome\n",
      "ibmq_santiago\n",
      "ibmq_bogota\n",
      "ibmq_casablanca\n"
     ]
    }
   ],
   "source": [
    "number_W = 2\n",
    "beta = 100\n",
    "\n",
    "coupling = [[0, 1], [0, 2], [1, 0], [1, 2], [2, 0], [2, 1], [2, 3], [2, 4], [3, 2], [3, 4], [4, 2], [4, 3]]\n",
    "\n",
    "provider = IBMQ.get_provider(hub='ibm-q-research', group='Pablo-Antonio-Mo', project='main') \n",
    "print(provider)\n",
    "backends = provider.backends()\n",
    "for backend in backends:\n",
    "    print(backend.name())\n",
    "    \n",
    "backend = provider.backends(name = 'ibmqx2')[0]\n",
    "#backend = FakeYorktown()"
   ]
  },
  {
   "cell_type": "code",
   "execution_count": 4,
   "metadata": {},
   "outputs": [
    {
     "name": "stdout",
     "output_type": "stream",
     "text": [
      "16\n",
      "corrected ------------------\n",
      "000 -0.7599604162252263\n",
      "001 -0.43577938756914136\n",
      "010 -0.491037486578648\n",
      "011 0.43577938756914136\n",
      "100 0.7599604162252263\n",
      "101 -0.1668564579225631\n",
      "110 0.491037486578648\n",
      "111 0.1668564579225631\n"
     ]
    }
   ],
   "source": [
    "import json\n",
    "with open('delta_energies_glycylglycine_1_random.json') as json_file:\n",
    "    data = json.load(json_file)\n",
    "\n",
    "deltas_dictionary = data['deltas']\n",
    "deltas_dictionary = OrderedDict(sorted(deltas_dictionary.items()))\n",
    "print(len(deltas_dictionary))\n",
    "deltas = {}\n",
    "for (key,value) in deltas_dictionary.items():\n",
    "    deltas[key[:3]] = value\n",
    "    #print(key,value)\n",
    "print('corrected ------------------')\n",
    "for (key,value) in deltas.items():\n",
    "    print(key, value)"
   ]
  },
  {
   "cell_type": "code",
   "execution_count": 5,
   "metadata": {},
   "outputs": [],
   "source": [
    "# Bitmap calculation\n",
    "def calculate_angles(deltas_dictionary, beta = 1, scaling_factor = 1000):\n",
    "    \n",
    "    exact_angles = {}\n",
    "\n",
    "    for key in deltas_dictionary.keys():\n",
    "\n",
    "        if deltas_dictionary[key] >= 0:\n",
    "\n",
    "            if scaling_factor == -1:\n",
    "                probability = math.exp(-beta * deltas_dictionary[key])\n",
    "            else:\n",
    "                probability = math.exp(-scaling_factor* beta * deltas_dictionary[key])\n",
    "        else: \n",
    "            probability = 1\n",
    "        # Instead of encoding the angle corresponding to the probability, we will encode the angle theta such that sin^2(pi/2 - theta) = probability.\n",
    "        # That way 1 -> 000, but if probability is 0 there is some small probability of acceptance\n",
    "\n",
    "        # Instead of probability save angles so rotations are easier to perform afterwards sqrt(p) = sin(pi/2-theta/2).\n",
    "        # The theta/2 is because if you input theta, qiskits rotates theta/2. Also normalised (divided between pi the result)\n",
    "        exact_angles[key] = math.pi - 2 * math.asin(math.sqrt(probability))\n",
    "\n",
    "\n",
    "    # Order angles by key\n",
    "    exact_angles = OrderedDict(sorted(exact_angles.items()))\n",
    "\n",
    "    return exact_angles"
   ]
  },
  {
   "cell_type": "markdown",
   "metadata": {},
   "source": [
    "Let us have some error correction in place"
   ]
  },
  {
   "cell_type": "code",
   "execution_count": 6,
   "metadata": {
    "scrolled": true
   },
   "outputs": [
    {
     "data": {
      "image/png": "[encoded data removed]",
      "text/plain": [
       "<Figure size 432x288 with 2 Axes>"
      ]
     },
     "metadata": {
      "needs_background": "light"
     },
     "output_type": "display_data"
    }
   ],
   "source": [
    "# Generate the calibration circuits\n",
    "qr = qiskit.QuantumRegister(5)\n",
    "qubit_list = range(5)\n",
    "meas_calibs, state_labels = complete_meas_cal(qubit_list=qubit_list, qr=qr, circlabel='mcal')\n",
    "\n",
    "def insert_spaces(string):\n",
    "    new_str = string[0]\n",
    "    for item in string[1:-1]:\n",
    "        new_str += ' '+ item\n",
    "    new_str += ' ' + string[-1]\n",
    "    return new_str\n",
    "\n",
    "job = qiskit.execute(meas_calibs, backend=backend, shots=1024)\n",
    "cal_results = job.result()\n",
    "\n",
    "# Calculate the calibration matrix with the noise model\n",
    "meas_fitter = CompleteMeasFitter(cal_results, state_labels, qubit_list=qubit_list, circlabel='mcal')\n",
    "\n",
    "# Plot the calibration matrix\n",
    "meas_fitter.plot_calibration()"
   ]
  },
  {
   "cell_type": "markdown",
   "metadata": {},
   "source": [
    "Let us first construct the substitute of the oracle"
   ]
  },
  {
   "cell_type": "code",
   "execution_count": 7,
   "metadata": {},
   "outputs": [
    {
     "name": "stdout",
     "output_type": "stream",
     "text": [
      "OrderedDict([('000', 0.0), ('001', 0.0), ('010', 0.0), ('011', 1.2728885468441173), ('100', 1.6354715267243518), ('101', 0.0), ('110', 1.3448976833778248), ('111', 0.8056505242148093)])\n"
     ]
    }
   ],
   "source": [
    "angles = calculate_angles(deltas_dictionary = deltas, beta = 1, scaling_factor = 1)\n",
    "print(angles)\n",
    "\n",
    "def new_coin_flip(circuit,coin,move_id,angle_psi,angle_phi,angles,inverse):\n",
    "    ''' Applies the controlled rotation to the target coin. Substitutes the oracle'''\n",
    "    if inverse == 1:\n",
    "        circuit.x(coin)\n",
    "    \n",
    "    if angles['111'] > .1:\n",
    "        circuit.mcrx(theta = -inverse * angles['111'], q_controls = [angle_phi[0],angle_psi[0],move_id[0]], q_target = coin[0], use_basis_gates=False)\n",
    "    circuit.x(move_id)\n",
    "    \n",
    "    if angles['110'] > .1:\n",
    "        circuit.mcrx(theta = -inverse * angles['110'], q_controls = [angle_phi[0],angle_psi[0],move_id[0]], q_target = coin[0], use_basis_gates=False)\n",
    "    circuit.x(angle_psi)\n",
    "    \n",
    "    if angles['100'] > .1:\n",
    "        circuit.mcrx(theta = -inverse * angles['100'], q_controls = [angle_phi[0],angle_psi[0],move_id[0]], q_target = coin[0], use_basis_gates=False)\n",
    "    circuit.x(move_id)\n",
    "    \n",
    "    if angles['101'] > .1:\n",
    "        circuit.mcrx(theta = -inverse * angles['101'], q_controls = [angle_phi[0],angle_psi[0],move_id[0]], q_target = coin[0], use_basis_gates=False)\n",
    "    circuit.x(angle_phi)\n",
    "    \n",
    "    if angles['001'] > .1:\n",
    "        circuit.mcrx(theta = -inverse * angles['001'], q_controls = [angle_phi[0],angle_psi[0],move_id[0]], q_target = coin[0], use_basis_gates=False)\n",
    "    circuit.x(move_id)\n",
    "    \n",
    "    if angles['000'] > .1:\n",
    "        circuit.mcrx(theta = -inverse * angles['000'], q_controls = [angle_phi[0],angle_psi[0],move_id[0]], q_target = coin[0], use_basis_gates=False)\n",
    "    circuit.x(angle_psi)\n",
    "    \n",
    "    if angles['010'] > .1:\n",
    "        circuit.mcrx(theta = -inverse * angles['010'], q_controls = [angle_phi[0],angle_psi[0],move_id[0]], q_target = coin[0], use_basis_gates=False)\n",
    "    circuit.x(move_id)\n",
    "    \n",
    "    if angles['011'] > .1:\n",
    "        circuit.mcrx(theta = -inverse * angles['011'], q_controls = [angle_phi[0],angle_psi[0],move_id[0]], q_target = coin[0], use_basis_gates=False) \n",
    "    circuit.x(angle_phi)\n",
    "    \n",
    "    if inverse == -1:\n",
    "        circuit.x(coin)"
   ]
  },
  {
   "cell_type": "code",
   "execution_count": 8,
   "metadata": {},
   "outputs": [
    {
     "name": "stdout",
     "output_type": "stream",
     "text": [
      "OrderedDict([('000', 0.0), ('001', 0.0), ('010', 0.0), ('011', 3.1415926529008225), ('100', 3.141592653589793), ('101', 0.0), ('110', 3.1415926535463132), ('111', 3.1411164550575386)])\n"
     ]
    }
   ],
   "source": [
    "angles = calculate_angles(deltas_dictionary = deltas, beta = beta, scaling_factor = 1)\n",
    "print(angles)\n",
    "\n",
    "def map_dependent_coin_flip(circuit,ancilla,coin,move_id,angle_psi,angle_phi,angles,inverse):\n",
    "    \"\"\"\n",
    "    Warning: This coin flip is dependent on the angles that are different from 0!\n",
    "    We can use the ancilla in the same way it is used in the QROM iterator\n",
    "    from the \"Babbush et al. Encoding Electronic Spectra in Quantum Circuits with Linear T Complexity\", \n",
    "    figure 6\n",
    "    \"\"\"\n",
    "    # First we should accept with probability 1\n",
    "    circuit.x(coin)\n",
    "    \n",
    "    # The first swap\n",
    "    # circuit.cswap(move_id, angle_psi, angle_phi)\n",
    "    \n",
    "    # From now we use psi and move_id only\n",
    "    circuit.ccx(angle_psi, move_id, ancilla)\n",
    "    '''\n",
    "    circuit.cu3(-inverse*angles['011'],0,0,ancilla,coin)\n",
    "    circuit.mcrx(-inverse*(angles['111']-angles['011']), [angle_phi[0], ancilla[0]], coin[0])\n",
    "    '''\n",
    "    circuit.x(angle_phi)\n",
    "    circuit.mcrx(-inverse*angles['011'],[angle_phi[0], ancilla[0]], coin[0])\n",
    "    circuit.x(angle_phi)\n",
    "    circuit.mcrx(-inverse*angles['111'], [angle_phi[0], ancilla[0]], coin[0])\n",
    "    #'''\n",
    "\n",
    "    \n",
    "    #One combines the ccx undoing the ancilla with the following one resulting in\n",
    "    # circuit.ccx(angle_psi,move_id,ancilla)\n",
    "    circuit.cx(angle_psi, ancilla)\n",
    "    # circuit.ccx(angle_psi, ¬ move_id, ancilla)\n",
    "    circuit.mcrx(-inverse*(angles['110']), [angle_phi[0], ancilla[0]], coin[0])\n",
    "    \n",
    "    #Same trick, this time we have to control on move_id being on state 0\n",
    "    # circuit.ccx(angle_psi, ¬ move_id, ancilla)\n",
    "    circuit.x(move_id)\n",
    "    circuit.cx(move_id, ancilla)\n",
    "    circuit.x(move_id)\n",
    "    # circuit.ccx(¬ angle_psi, ¬ move_id, ancilla)\n",
    "    \n",
    "    circuit.mcrx(-inverse*angles['100'], [angle_phi[0], ancilla[0]], coin[0])\n",
    "    \n",
    "    #Controlling on angle_psi being on state 0\n",
    "    # circuit.ccx(¬ angle_psi, ¬ move_id, ancilla)\n",
    "    circuit.x(angle_psi)\n",
    "    circuit.x(move_id)\n",
    "    circuit.ccx(angle_psi, move_id, ancilla)\n",
    "    circuit.x(angle_psi)\n",
    "    circuit.x(move_id)\n",
    "    '''\n",
    "    circuit.x(angle_psi)\n",
    "    circuit.cx(angle_psi, ancilla)\n",
    "    circuit.x(angle_psi)\n",
    "    # circuit.cxx(¬ angle_psi,  move_id, ancilla)\n",
    "    \n",
    "    #circuit.mcrx(-inverse*angles['011'], [angle_phi[0], ancilla[0]], coin[0]) Redundant\n",
    "    \n",
    "    # Finally uncompute the ancilla, circuit.cxx(¬ angle_psi,  move_id, ancilla)\n",
    "    circuit.x(angle_psi)\n",
    "    circuit.ccx(angle_psi,move_id,ancilla)\n",
    "    circuit.x(angle_psi)\n",
    "    '''\n",
    "    # And final swap to get things back to where it belongs\n",
    "    # circuit.cswap(move_id, angle_psi, angle_phi)"
   ]
  },
  {
   "cell_type": "markdown",
   "metadata": {},
   "source": [
    "The quantum Walk is composed of several parts, $$W = R V^\\dagger B^\\dagger F B V,$$\n",
    "where $V$ prepares possible moves, $B$ is the Boltzmann coin, $F$ the coin flip, and $R$ a reflection of all registers except the state one over state $\\ket{0}$. The first thing we do is prepare the oracle\n"
   ]
  },
  {
   "cell_type": "code",
   "execution_count": 9,
   "metadata": {},
   "outputs": [],
   "source": [
    "def W_step(qc,ancilla,coin,move_id,angle_psi,angle_phi,angles,iteration): \n",
    "    # Perform the preparation of possible moves----\n",
    "    qc.h(move_id)\n",
    "\n",
    "    # Prepare the Boltzmann coin ------------------\n",
    "    #new_coin_flip(qc,coin,move_id,angle_psi,angle_phi,angles,inverse = 1)\n",
    "    map_dependent_coin_flip(qc,ancilla,coin,move_id,angle_psi,angle_phi,angles,1)\n",
    "    \n",
    "    # Perform move ---------------------------------\n",
    "    # For the second angle\n",
    "    qc.ccx(coin,move_id,angle_psi)\n",
    "\n",
    "    # For the first angle\n",
    "    qc.x(move_id)\n",
    "    qc.ccx(coin,move_id,angle_phi)\n",
    "    qc.x(move_id)\n",
    "\n",
    "    if iteration == 0:\n",
    "        # Unprepare the Boltzmann coin--------------------\n",
    "        #new_coin_flip(qc,coin,move_id,angle_psi,angle_phi,angles,inverse = -1)\n",
    "        map_dependent_coin_flip(qc,ancilla,coin,move_id,angle_psi,angle_phi,angles,-1)\n",
    "\n",
    "        # Perform the preparation of possible moves ----\n",
    "        qc.h(move_id)\n",
    "\n",
    "        #Reflection -------------------------------------\n",
    "        qc.x(move_id)\n",
    "        qc.x(coin)\n",
    "\n",
    "        # Perform a multicontrolled Z\n",
    "        qc.cz(move_id,coin)\n",
    "\n",
    "        qc.x(move_id)\n",
    "        qc.x(coin)"
   ]
  },
  {
   "cell_type": "markdown",
   "metadata": {},
   "source": [
    "Running the model on a backend"
   ]
  },
  {
   "cell_type": "code",
   "execution_count": 10,
   "metadata": {
    "scrolled": true
   },
   "outputs": [
    {
     "name": "stdout",
     "output_type": "stream",
     "text": [
      "After optimization--------\n",
      "gates =  OrderedDict([('cx', 240), ('u3', 93), ('u2', 72), ('u1', 52), ('measure', 5), ('barrier', 1)])\n",
      "depth =  311\n",
      "{'00000': 439, '00001': 298, '10000': 267, '10001': 164, '10010': 235, '10011': 189, '10100': 162, '10101': 226, '10110': 111, '10111': 218, '11000': 308, '11001': 196, '11010': 271, '11011': 209, '11100': 201, '11101': 303, '11110': 196, '11111': 304, '00010': 350, '00011': 236, '00100': 244, '00101': 292, '00110': 180, '00111': 291, '01000': 427, '01001': 285, '01010': 296, '01011': 243, '01100': 238, '01101': 291, '01110': 194, '01111': 328}\n"
     ]
    }
   ],
   "source": [
    "move_id  = QuantumRegister(1)\n",
    "angle_phi = QuantumRegister(1)\n",
    "angle_psi = QuantumRegister(1)\n",
    "coin = QuantumRegister(1)\n",
    "ancilla = QuantumRegister(1)\n",
    "c_reg = ClassicalRegister(5)\n",
    "qc = QuantumCircuit(ancilla,coin,move_id,angle_psi,angle_phi,c_reg)\n",
    "\n",
    "#Circuit ----------\n",
    "qc.h(angle_phi)\n",
    "qc.h(angle_psi)\n",
    "for i in range(number_W):\n",
    "    W_step(qc,ancilla,coin,move_id,angle_psi,angle_phi,angles,i)\n",
    "\n",
    "# Measure\n",
    "qc.measure(range(5), range(5))\n",
    "\n",
    "# Transpiling -------\n",
    "pass_ = Unroller(['u1', 'u2', 'u3', 'cx'])\n",
    "pm = PassManager(pass_)\n",
    "qc = pm.run(qc)\n",
    "\n",
    "coupling_map = CouplingMap(couplinglist=coupling)\n",
    "qc = transpile(qc, backend = backend, seed_transpiler=1, optimization_level=1, layout_method = 'dense')\n",
    "#'''\n",
    "bs = BasicSwap(coupling_map=coupling_map)\n",
    "pass_manager = PassManager(bs)\n",
    "qc = pass_manager.run(qc)\n",
    "\n",
    "ls = LookaheadSwap(coupling_map=coupling_map)\n",
    "pass_manager = PassManager(ls)\n",
    "qc = pass_manager.run(qc)\n",
    "\n",
    "ss = StochasticSwap(coupling_map=coupling_map)\n",
    "pass_manager = PassManager(ss)\n",
    "qc = pass_manager.run(qc)\n",
    "#'''\n",
    "qc = transpile(qc, backend = backend, seed_transpiler=1, optimization_level=2)\n",
    "\n",
    "pass_ = Unroller(['u1', 'u2', 'u3', 'cx'])\n",
    "pm = PassManager(pass_)\n",
    "qc = pm.run(qc)\n",
    "\n",
    "qc = transpile(qc, backend = backend, seed_transpiler=1, optimization_level=3)\n",
    "print('After optimization--------')\n",
    "print('gates = ', qc.count_ops())\n",
    "print('depth = ', qc.depth())\n",
    "\n",
    "job = execute(qc, backend, shots=8192)\n",
    "results = job.result()\n",
    "\n",
    "# Results without mitigation\n",
    "raw_counts = results.get_counts()\n",
    "print(raw_counts)\n",
    "\n",
    "# Get the filter object\n",
    "meas_filter = meas_fitter.filter\n",
    "\n",
    "# Results with mitigation\n",
    "mitigated_results = meas_filter.apply(results)\n",
    "mitigated_counts = mitigated_results.get_counts()"
   ]
  },
  {
   "cell_type": "code",
   "execution_count": 11,
   "metadata": {},
   "outputs": [
    {
     "data": {
      "image/png": "[encoded data removed]",
      "text/plain": [
       "<Figure size 504x360 with 1 Axes>"
      ]
     },
     "execution_count": 11,
     "metadata": {},
     "output_type": "execute_result"
    }
   ],
   "source": [
    "plot_histogram([raw_counts, mitigated_counts], legend=['raw', 'mitigated'], color = ['red','orange'])"
   ]
  },
  {
   "cell_type": "code",
   "execution_count": 12,
   "metadata": {},
   "outputs": [],
   "source": [
    "def calc_probabilities(counts):\n",
    "    'Calculates the probabilities when measuring the first two qubits'\n",
    "    new_counts = {}\n",
    "    for i in ['00','01','10','11']:\n",
    "        new_counts[i] = 0\n",
    "    for item in counts:\n",
    "        new_counts[item[0] + item[1]] += counts[item]\n",
    "    return new_counts"
   ]
  },
  {
   "cell_type": "markdown",
   "metadata": {},
   "source": [
    "Let us try some other kind of mitigation of error, using mitiq: https://mitiq.readthedocs.io/en/stable/guide/guide-ibmq-backends.html"
   ]
  },
  {
   "cell_type": "code",
   "execution_count": 13,
   "metadata": {},
   "outputs": [
    {
     "name": "stdout",
     "output_type": "stream",
     "text": [
      "After optimization--------\n",
      "gates =  OrderedDict([('cx', 240), ('u3', 93), ('u2', 72), ('u1', 52), ('measure', 2), ('barrier', 1)])\n",
      "depth =  311\n",
      "{'0 0': 2411, '0 1': 2211, '1 0': 1625, '1 1': 1945}\n",
      "{'0 0': 2427, '0 1': 2187, '1 0': 1672, '1 1': 1906}\n",
      "{'0 0': 2433, '0 1': 2057, '1 0': 1797, '1 1': 1905}\n"
     ]
    }
   ],
   "source": [
    "\n",
    "def backend_executor(circuit: QuantumCircuit, shots: int = 8192) -> float:\n",
    "    \"\"\"Returns the expectation value to be mitigated.\n",
    "\n",
    "    Args:\n",
    "        circuit: Circuit to run.\n",
    "        shots: Number of times to execute the circuit to compute the expectation value.\n",
    "    \"\"\"\n",
    "    # (1) Add measurements to the circuit\n",
    "    #circuit.measure(circuit.qregs[0], circuit.cregs[0])\n",
    "\n",
    "    # (2) Run the circuit\n",
    "    job = qiskit.execute(\n",
    "        experiments=circuit,\n",
    "        backend=backend,\n",
    "        optimization_level=0,  # Important!\n",
    "        shots=shots\n",
    "    )\n",
    "\n",
    "    # (3) Convert from raw measurement counts to the expectation value\n",
    "    counts = job.result().get_counts()\n",
    "    print(counts)\n",
    "    if counts.get(\"1 1\") is None:\n",
    "        expectation_value = 0.\n",
    "    else:\n",
    "        expectation_value = counts.get(\"1 1\") / shots\n",
    "    return expectation_value\n",
    "\n",
    "# The circuit ------------------------------------------------------------------------------\n",
    "def mitig()\n",
    "move_id  = QuantumRegister(1)\n",
    "angle_phi = QuantumRegister(1)\n",
    "angle_psi = QuantumRegister(1)\n",
    "coin = QuantumRegister(1)\n",
    "ancilla = QuantumRegister(1)\n",
    "c_reg = ClassicalRegister(5)\n",
    "qc = QuantumCircuit(ancilla,coin,move_id,angle_psi,angle_phi,c_reg)\n",
    "\n",
    "number_W = 2 # Parameter\n",
    "\n",
    "#Circuit ----------\n",
    "qc.h(angle_phi)\n",
    "qc.h(angle_psi)\n",
    "for i in range(number_W):\n",
    "    W_step(qc,ancilla,coin,move_id,angle_psi,angle_phi,angles,i)\n",
    "\n",
    "# Measure\n",
    "qc.measure([3,4], [3,4])\n",
    "\n",
    "# Transpiling -------\n",
    "pass_ = Unroller(['u1', 'u2', 'u3', 'cx'])\n",
    "pm = PassManager(pass_)\n",
    "qc = pm.run(qc)\n",
    "\n",
    "coupling_map = CouplingMap(couplinglist=coupling)\n",
    "qc = transpile(qc, backend = backend, seed_transpiler=1, optimization_level=1, layout_method = 'dense')\n",
    "#'''\n",
    "bs = BasicSwap(coupling_map=coupling_map)\n",
    "pass_manager = PassManager(bs)\n",
    "qc = pass_manager.run(qc)\n",
    "\n",
    "ls = LookaheadSwap(coupling_map=coupling_map)\n",
    "pass_manager = PassManager(ls)\n",
    "qc = pass_manager.run(qc)\n",
    "\n",
    "ss = StochasticSwap(coupling_map=coupling_map)\n",
    "pass_manager = PassManager(ss)\n",
    "qc = pass_manager.run(qc)\n",
    "#'''\n",
    "qc = transpile(qc, backend = backend, seed_transpiler=1, optimization_level=2)\n",
    "\n",
    "pass_ = Unroller(['u1', 'u2', 'u3', 'cx'])\n",
    "pm = PassManager(pass_)\n",
    "qc = pm.run(qc)\n",
    "\n",
    "qc = transpile(qc, backend = backend, seed_transpiler=1, optimization_level=3)\n",
    "print('After optimization--------')\n",
    "print('gates = ', qc.count_ops())\n",
    "print('depth = ', qc.depth())\n",
    "\n",
    "# Executing the mitigation ----------------------------------------------------------\n",
    "miti= {}\n",
    "miti['11'] = mitiq.execute_with_zne(qc, backend_executor)\n",
    "miti['00'] = 0\n",
    "miti['01'] = 0\n",
    "miti['10'] = 0"
   ]
  },
  {
   "cell_type": "markdown",
   "metadata": {},
   "source": [
    "The same circuit without error can be seen in"
   ]
  },
  {
   "cell_type": "code",
   "execution_count": 14,
   "metadata": {},
   "outputs": [
    {
     "data": {
      "image/png": "[encoded data removed]",
      "text/plain": [
       "<Figure size 504x360 with 1 Axes>"
      ]
     },
     "execution_count": 14,
     "metadata": {},
     "output_type": "execute_result"
    }
   ],
   "source": [
    "move_id  = QuantumRegister(1)\n",
    "angle_phi = QuantumRegister(1)\n",
    "angle_psi = QuantumRegister(1)\n",
    "coin = QuantumRegister(1)\n",
    "ancilla = QuantumRegister(1)\n",
    "c_reg = ClassicalRegister(5)\n",
    "aerqc = QuantumCircuit(ancilla,coin,move_id,angle_psi,angle_phi,c_reg)\n",
    "\n",
    "#Circuit ----------\n",
    "aerqc.h(angle_phi)\n",
    "aerqc.h(angle_psi)\n",
    "for i in range(number_W):\n",
    "    W_step(aerqc,ancilla,coin,move_id,angle_psi,angle_phi,angles,i)\n",
    "    \n",
    "# Measure\n",
    "aerbackend = Aer.get_backend('statevector_simulator')\n",
    "backend_options = {\"method\" : \"statevector\"}\n",
    "experiment = execute(aerqc, aerbackend, backend_options=backend_options)\n",
    "state_vector = Statevector(experiment.result().get_statevector(aerqc))\n",
    "\n",
    "probabilities = state_vector.probabilities([3,4])\n",
    "noiseless_counts = {}\n",
    "noiseless_counts['00'] = float(probabilities[0])\n",
    "noiseless_counts['01'] = float(probabilities[1])\n",
    "noiseless_counts['10'] = float(probabilities[2])\n",
    "noiseless_counts['11'] = float(probabilities[3])\n",
    "\n",
    "from qiskit.visualization import plot_histogram\n",
    "plot_histogram(noiseless_counts)"
   ]
  },
  {
   "cell_type": "code",
   "execution_count": 15,
   "metadata": {},
   "outputs": [
    {
     "data": {
      "image/png": "[encoded data removed]",
      "text/plain": [
       "<Figure size 504x360 with 1 Axes>"
      ]
     },
     "execution_count": 15,
     "metadata": {},
     "output_type": "execute_result"
    }
   ],
   "source": [
    "plot_histogram([calc_probabilities(raw_counts), calc_probabilities(mitigated_counts),miti,noiseless_counts], legend=['raw', 'mitigated','mitiq','noiseless'], color = ['red','orange','yellow','green'])"
   ]
  },
  {
   "cell_type": "code",
   "execution_count": null,
   "metadata": {},
   "outputs": [],
   "source": []
  }
 ],
 "metadata": {
  "kernelspec": {
   "display_name": "Python 3",
   "language": "python",
   "name": "python3"
  },
  "language_info": {
   "codemirror_mode": {
    "name": "ipython",
    "version": 3
   },
   "file_extension": ".py",
   "mimetype": "text/x-python",
   "name": "python",
   "nbconvert_exporter": "python",
   "pygments_lexer": "ipython3",
   "version": "3.7.8"
  }
 },
 "nbformat": 4,
 "nbformat_minor": 4
}
