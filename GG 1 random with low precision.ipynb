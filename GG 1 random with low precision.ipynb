{
 "cells": [
  {
   "cell_type": "code",
   "execution_count": 1,
   "metadata": {},
   "outputs": [
    {
     "name": "stderr",
     "output_type": "stream",
     "text": [
      "/opt/conda/lib/python3.7/site-packages/qiskit/providers/ibmq/ibmqfactory.py:192: UserWarning: Timestamps in IBMQ backend properties, jobs, and job results are all now in local time instead of UTC.\n",
      "  warnings.warn('Timestamps in IBMQ backend properties, jobs, and job results '\n"
     ]
    }
   ],
   "source": [
    "%matplotlib inline\n",
    "# Importing standard Qiskit libraries and configuring account\n",
    "from qiskit import QuantumCircuit, execute, Aer, IBMQ\n",
    "from qiskit.compiler import transpile, assemble\n",
    "from qiskit.tools.jupyter import *\n",
    "from qiskit.visualization import *\n",
    "# Loading your IBM Q account(s)\n",
    "provider = IBMQ.load_account()\n",
    "\n",
    "from qiskit import QuantumCircuit, execute, Aer\n",
    "from qiskit.circuit import QuantumRegister, Qubit, Gate, ClassicalRegister\n",
    "from qiskit.aqua.components.oracles import Oracle, TruthTableOracle\n",
    "from qiskit.quantum_info import Statevector\n",
    "\n",
    "#import utils\n",
    "from collections import OrderedDict\n",
    "\n",
    "import math\n",
    "import numpy as np\n",
    "\n",
    "# Import general libraries (needed for functions)\n",
    "import numpy as np\n",
    "import time\n",
    "\n",
    "# Import Qiskit classes\n",
    "import qiskit\n",
    "from qiskit.providers.aer import noise\n",
    "from qiskit.tools.visualization import plot_histogram\n",
    "\n",
    "from qiskit.test.mock import FakeYorktown #, FakeCasablanca\n",
    "\n",
    "# Import measurement calibration functions\n",
    "from qiskit.ignis.mitigation.measurement import (complete_meas_cal, tensored_meas_cal,\n",
    "                                                 CompleteMeasFitter, TensoredMeasFitter)"
   ]
  },
  {
   "cell_type": "code",
   "execution_count": 2,
   "metadata": {},
   "outputs": [
    {
     "name": "stdout",
     "output_type": "stream",
     "text": [
      "<AccountProvider for IBMQ(hub='ibm-q-research', group='Pablo-Antonio-Mo', project='main')>\n",
      "ibmq_qasm_simulator\n",
      "ibmqx2\n",
      "ibmq_16_melbourne\n",
      "ibmq_vigo\n",
      "ibmq_ourense\n",
      "ibmq_valencia\n",
      "ibmq_armonk\n",
      "ibmq_athens\n",
      "ibmq_rome\n",
      "ibmq_santiago\n",
      "ibmq_bogota\n",
      "ibmq_casablanca\n"
     ]
    }
   ],
   "source": [
    "provider = IBMQ.get_provider(hub='ibm-q-research', group='Pablo-Antonio-Mo', project='main') \n",
    "print(provider)\n",
    "backends = provider.backends()\n",
    "for backend in backends:\n",
    "    print(backend.name())\n",
    "    \n",
    "backend = provider.backends(name = 'ibmqx2')[0]\n",
    "#backend = FakeYorktown()"
   ]
  },
  {
   "cell_type": "code",
   "execution_count": 3,
   "metadata": {},
   "outputs": [
    {
     "name": "stdout",
     "output_type": "stream",
     "text": [
      "16\n",
      "corrected ------------------\n",
      "000 -0.7599604162252263\n",
      "001 -0.43577938756914136\n",
      "010 -0.491037486578648\n",
      "011 0.43577938756914136\n",
      "100 0.7599604162252263\n",
      "101 -0.1668564579225631\n",
      "110 0.491037486578648\n",
      "111 0.1668564579225631\n"
     ]
    }
   ],
   "source": [
    "import json\n",
    "with open('delta_energies_glycylglycine_1_random.json') as json_file:\n",
    "    data = json.load(json_file)\n",
    "\n",
    "deltas_dictionary = data['deltas']\n",
    "deltas_dictionary = OrderedDict(sorted(deltas_dictionary.items()))\n",
    "print(len(deltas_dictionary))\n",
    "deltas = {}\n",
    "for (key,value) in deltas_dictionary.items():\n",
    "    deltas[key[:3]] = value\n",
    "    #print(key,value)\n",
    "print('corrected ------------------')\n",
    "for (key,value) in deltas.items():\n",
    "    print(key, value)"
   ]
  },
  {
   "cell_type": "code",
   "execution_count": 4,
   "metadata": {},
   "outputs": [],
   "source": [
    "# Bitmap calculation\n",
    "def calculate_angles(deltas_dictionary, beta = 1, scaling_factor = 1000):\n",
    "    \n",
    "    exact_angles = {}\n",
    "\n",
    "    for key in deltas_dictionary.keys():\n",
    "\n",
    "        if deltas_dictionary[key] >= 0:\n",
    "\n",
    "            if scaling_factor == -1:\n",
    "                probability = math.exp(-beta * deltas_dictionary[key])\n",
    "            else:\n",
    "                probability = math.exp(-scaling_factor* beta * deltas_dictionary[key])\n",
    "        else: \n",
    "            probability = 1\n",
    "        # Instead of encoding the angle corresponding to the probability, we will encode the angle theta such that sin^2(pi/2 - theta) = probability.\n",
    "        # That way 1 -> 000, but if probability is 0 there is some small probability of acceptance\n",
    "\n",
    "        # Instead of probability save angles so rotations are easier to perform afterwards sqrt(p) = sin(pi/2-theta/2).\n",
    "        # The theta/2 is because if you input theta, qiskits rotates theta/2. Also normalised (divided between pi the result)\n",
    "        exact_angles[key] = math.pi - 2 * math.asin(math.sqrt(probability))\n",
    "\n",
    "\n",
    "    # Order angles by key\n",
    "    exact_angles = OrderedDict(sorted(exact_angles.items()))\n",
    "\n",
    "    return exact_angles"
   ]
  },
  {
   "cell_type": "code",
   "execution_count": 5,
   "metadata": {},
   "outputs": [],
   "source": [
    "# This is a parameter that calculates the precision in the rotations\n",
    "n_ancilla_bits = 0"
   ]
  },
  {
   "cell_type": "markdown",
   "metadata": {},
   "source": [
    "Let us have some error correction in place"
   ]
  },
  {
   "cell_type": "code",
   "execution_count": 6,
   "metadata": {},
   "outputs": [
    {
     "data": {
      "image/png": "[encoded data removed]",
      "text/plain": [
       "<Figure size 432x288 with 2 Axes>"
      ]
     },
     "metadata": {
      "needs_background": "light"
     },
     "output_type": "display_data"
    }
   ],
   "source": [
    "# Generate the calibration circuits\n",
    "qr = qiskit.QuantumRegister(4+n_ancilla_bits)\n",
    "qubit_list = range(4+n_ancilla_bits)\n",
    "meas_calibs, state_labels = complete_meas_cal(qubit_list=qubit_list, qr=qr, circlabel='mcal')\n",
    "\n",
    "def insert_spaces(string):\n",
    "    new_str = string[0]\n",
    "    for item in string[1:-1]:\n",
    "        new_str += ' '+ item\n",
    "    new_str += ' ' + string[-1]\n",
    "    return new_str\n",
    "\n",
    "job = qiskit.execute(meas_calibs, backend=backend, shots=1024)\n",
    "cal_results = job.result()\n",
    "\n",
    "# Calculate the calibration matrix with the noise model\n",
    "meas_fitter = CompleteMeasFitter(cal_results, state_labels, qubit_list=qubit_list, circlabel='mcal')\n",
    "\n",
    "# Plot the calibration matrix\n",
    "meas_fitter.plot_calibration()"
   ]
  },
  {
   "cell_type": "markdown",
   "metadata": {},
   "source": [
    "Let us first construct the substitute of the oracle"
   ]
  },
  {
   "cell_type": "code",
   "execution_count": 7,
   "metadata": {},
   "outputs": [
    {
     "name": "stdout",
     "output_type": "stream",
     "text": [
      "OrderedDict([('000', 0.0), ('001', 0.0), ('010', 0.0), ('011', 1.2728885468441173), ('100', 1.6354715267243518), ('101', 0.0), ('110', 1.3448976833778248), ('111', 0.8056505242148093)])\n"
     ]
    }
   ],
   "source": [
    "\n",
    "angles = calculate_angles(deltas_dictionary = deltas, beta = 1, scaling_factor = 1)\n",
    "print(angles)\n",
    "\n",
    "def new_coin_flip(circuit,coin,move_id,angle_psi,angle_phi,angles,inverse):\n",
    "    ''' Applies the controlled rotation to the target coin. Substitutes the oracle'''\n",
    "    if inverse == 1:\n",
    "        circuit.x(coin)\n",
    "    \n",
    "    if angles['111'] > .1:\n",
    "        circuit.mcrx(theta = -inverse * angles['111'], q_controls = [move_id[0],angle_psi[0],angle_phi[0]], q_target = coin[0], use_basis_gates=False)\n",
    "    circuit.x(angle_phi)\n",
    "    \n",
    "    if angles['110'] > .1:\n",
    "        circuit.mcrx(theta = -inverse * angles['110'], q_controls = [move_id[0],angle_psi[0],angle_phi[0]], q_target = coin[0], use_basis_gates=False)\n",
    "    circuit.x(angle_psi)\n",
    "    \n",
    "    if angles['100'] > .1:\n",
    "        circuit.mcrx(theta = -inverse * angles['100'], q_controls = [move_id[0],angle_psi[0],angle_phi[0]], q_target = coin[0], use_basis_gates=False)\n",
    "    circuit.x(angle_phi)\n",
    "    \n",
    "    if angles['101'] > .1:\n",
    "        circuit.mcrx(theta = -inverse * angles['101'], q_controls = [move_id[0],angle_psi[0],angle_phi[0]], q_target = coin[0], use_basis_gates=False)\n",
    "    circuit.x(move_id)\n",
    "    \n",
    "    if angles['001'] > .1:\n",
    "        circuit.mcrx(theta = -inverse * angles['001'], q_controls = [move_id[0],angle_psi[0],angle_phi[0]], q_target = coin[0], use_basis_gates=False)\n",
    "    circuit.x(angle_phi)\n",
    "    \n",
    "    if angles['000'] > .1:\n",
    "        circuit.mcrx(theta = -inverse * angles['000'], q_controls = [move_id[0],angle_psi[0],angle_phi[0]], q_target = coin[0], use_basis_gates=False)\n",
    "    circuit.x(angle_psi)\n",
    "    \n",
    "    if angles['010'] > .1:\n",
    "        circuit.mcrx(theta = -inverse * angles['010'], q_controls = [move_id[0],angle_psi[0],angle_phi[0]], q_target = coin[0], use_basis_gates=False)\n",
    "    circuit.x(angle_phi)\n",
    "    \n",
    "    if angles['011'] > .1:\n",
    "        circuit.mcrx(theta = -inverse * angles['011'], q_controls = [move_id[0],angle_psi[0],angle_phi[0]], q_target = coin[0], use_basis_gates=False) \n",
    "    circuit.x(move_id)\n",
    "    \n",
    "    if inverse == -1:\n",
    "        circuit.x(coin)"
   ]
  },
  {
   "cell_type": "markdown",
   "metadata": {},
   "source": [
    "The quantum Walk is composed of several parts, $$W = R V^\\dagger B^\\dagger F B V,$$\n",
    "where $V$ prepares possible moves, $B$ is the Boltzmann coin, $F$ the coin flip, and $R$ a reflection of all registers except the state one over state $\\ket{0}$. The first thing we do is prepare the oracle\n"
   ]
  },
  {
   "cell_type": "code",
   "execution_count": 8,
   "metadata": {},
   "outputs": [],
   "source": [
    "def W_step(qc,coin,move_id,angle_psi,angle_phi,angles): \n",
    "    # Perform the preparation of possible moves----\n",
    "    qc.h(move_id)\n",
    "\n",
    "    # Prepare the Boltzmann coin ------------------\n",
    "    new_coin_flip(qc,coin,move_id,angle_psi,angle_phi,angles,inverse = 1)\n",
    "    \n",
    "    # Perform move ---------------------------------\n",
    "    # For the second angle\n",
    "    qc.ccx(coin,move_id,angle_psi)\n",
    "\n",
    "    # For the first angle\n",
    "    qc.x(move_id)\n",
    "    qc.ccx(coin,move_id,angle_phi)\n",
    "    qc.x(move_id)\n",
    "\n",
    "    # Prepare the Boltzmann coin--------------------\n",
    "    new_coin_flip(qc,coin,move_id,angle_psi,angle_phi,angles,inverse = -1)\n",
    "\n",
    "    # Perform the preparation of possible moves ----\n",
    "    qc.h(move_id)\n",
    "\n",
    "    #Reflection -------------------------------------\n",
    "    qc.x(move_id)\n",
    "    qc.x(coin)\n",
    "\n",
    "    # Perform a multicontrolled Z\n",
    "    qc.cz(move_id,coin)\n",
    "    \n",
    "    qc.x(move_id)\n",
    "    qc.x(coin)"
   ]
  },
  {
   "cell_type": "markdown",
   "metadata": {},
   "source": [
    "Running the model on a backend"
   ]
  },
  {
   "cell_type": "code",
   "execution_count": 9,
   "metadata": {},
   "outputs": [
    {
     "name": "stdout",
     "output_type": "stream",
     "text": [
      "Before optimization-------\n",
      "gates =  OrderedDict([('cu3', 112), ('cx', 96), ('x', 48), ('h', 6), ('ccx', 4), ('measure', 4), ('cz', 2)])\n",
      "depth =  237\n",
      "After optimization--------\n",
      "gates =  OrderedDict([('cx', 520), ('u3', 257), ('u2', 181), ('u1', 32), ('measure', 4), ('barrier', 1)])\n",
      "depth =  703\n",
      "{'0000': 557, '0001': 742, '0010': 270, '0011': 346, '0100': 427, '0101': 675, '0110': 232, '0111': 409, '1000': 485, '1001': 685, '1010': 486, '1011': 666, '1100': 432, '1101': 631, '1110': 407, '1111': 742}\n"
     ]
    }
   ],
   "source": [
    "move_id  = QuantumRegister(1)\n",
    "angle_phi = QuantumRegister(1)\n",
    "angle_psi = QuantumRegister(1)\n",
    "coin = QuantumRegister(1)\n",
    "c_reg = ClassicalRegister(4+ n_ancilla_bits)\n",
    "qc = QuantumCircuit(coin,move_id,angle_psi,angle_phi,c_reg)\n",
    "\n",
    "number_W = 2 # Parameter\n",
    "\n",
    "#Circuit ----------\n",
    "qc.h(angle_phi)\n",
    "qc.h(angle_psi)\n",
    "for i in range(number_W):\n",
    "    W_step(qc,coin,move_id,angle_psi,angle_phi,angles)\n",
    "\n",
    "# Measure\n",
    "qc.measure(range(n_ancilla_bits + 4), range(n_ancilla_bits + 4))\n",
    "\n",
    "# Transpiling -------\n",
    "print('Before optimization-------')\n",
    "qc = transpile(qc, seed_transpiler=1, optimization_level=0)\n",
    "print('gates = ', qc.count_ops())\n",
    "print('depth = ', qc.depth())\n",
    "qc = transpile(qc, backend = backend, seed_transpiler=1, optimization_level=3)\n",
    "print('After optimization--------')\n",
    "print('gates = ', qc.count_ops())\n",
    "print('depth = ', qc.depth())\n",
    "\n",
    "job = execute(qc, backend, shots=8192)\n",
    "results = job.result()\n",
    "\n",
    "# Results without mitigation\n",
    "raw_counts = results.get_counts()\n",
    "print(raw_counts)\n",
    "\n",
    "# Get the filter object\n",
    "meas_filter = meas_fitter.filter\n",
    "\n",
    "# Results with mitigation\n",
    "mitigated_results = meas_filter.apply(results)\n",
    "mitigated_counts = mitigated_results.get_counts()"
   ]
  },
  {
   "cell_type": "code",
   "execution_count": 10,
   "metadata": {},
   "outputs": [
    {
     "data": {
      "image/png": "[encoded data removed]",
      "text/plain": [
       "<Figure size 504x360 with 1 Axes>"
      ]
     },
     "execution_count": 10,
     "metadata": {},
     "output_type": "execute_result"
    }
   ],
   "source": [
    "plot_histogram([raw_counts, mitigated_counts], legend=['raw', 'mitigated'], color = ['red','orange'])"
   ]
  },
  {
   "cell_type": "markdown",
   "metadata": {},
   "source": [
    "The same circuit without error can be seen in"
   ]
  },
  {
   "cell_type": "code",
   "execution_count": 11,
   "metadata": {},
   "outputs": [
    {
     "data": {
      "image/png": "[encoded data removed]",
      "text/plain": [
       "<Figure size 504x360 with 1 Axes>"
      ]
     },
     "execution_count": 11,
     "metadata": {},
     "output_type": "execute_result"
    }
   ],
   "source": [
    "move_id  = QuantumRegister(1)\n",
    "angle_phi = QuantumRegister(1)\n",
    "angle_psi = QuantumRegister(1)\n",
    "coin = QuantumRegister(1)\n",
    "c_reg = ClassicalRegister(4+n_ancilla_bits)\n",
    "qc = QuantumCircuit(coin,move_id,angle_psi,angle_phi,c_reg)\n",
    "\n",
    "\n",
    "#Circuit ----------\n",
    "qc.h(angle_phi)\n",
    "qc.h(angle_psi)\n",
    "for i in range(number_W):\n",
    "    W_step(qc,coin,move_id,angle_psi,angle_phi,angles)\n",
    "    \n",
    "# Measure\n",
    "backend = Aer.get_backend('statevector_simulator')\n",
    "backend_options = {\"method\" : \"statevector\"}\n",
    "experiment = execute(qc, backend, backend_options=backend_options)\n",
    "state_vector = Statevector(experiment.result().get_statevector(qc))\n",
    "\n",
    "probabilities = state_vector.probabilities([2,3])\n",
    "noiseless_counts = {}\n",
    "noiseless_counts['00'] = float(probabilities[0])\n",
    "noiseless_counts['01'] = float(probabilities[1])\n",
    "noiseless_counts['10'] = float(probabilities[2])\n",
    "noiseless_counts['11'] = float(probabilities[3])\n",
    "\n",
    "from qiskit.visualization import plot_histogram\n",
    "plot_histogram(noiseless_counts)"
   ]
  },
  {
   "cell_type": "code",
   "execution_count": 12,
   "metadata": {},
   "outputs": [
    {
     "data": {
      "text/plain": [
       "{'00': 2, '01': 0, '10': 0, '11': 0}"
      ]
     },
     "execution_count": 12,
     "metadata": {},
     "output_type": "execute_result"
    }
   ],
   "source": [
    "def calc_probabilities(counts):\n",
    "    'Calculates the probabilities when measuring the first two qubits'\n",
    "    new_counts = {}\n",
    "    for i in ['00','01','10','11']:\n",
    "        new_counts[i] = 0\n",
    "    for item in counts:\n",
    "        new_counts[item[0] + item[1]] += counts[item]\n",
    "    return new_counts\n",
    "counts = {'0000':1, '0010':1}\n",
    "new_counts = calc_probabilities(counts)\n",
    "new_counts"
   ]
  },
  {
   "cell_type": "code",
   "execution_count": 13,
   "metadata": {},
   "outputs": [
    {
     "data": {
      "image/png": "[encoded data removed]",
      "text/plain": [
       "<Figure size 504x360 with 1 Axes>"
      ]
     },
     "execution_count": 13,
     "metadata": {},
     "output_type": "execute_result"
    }
   ],
   "source": [
    "plot_histogram([calc_probabilities(raw_counts), calc_probabilities(mitigated_counts),noiseless_counts], legend=['raw', 'mitigated','noiseless'], color = ['red','orange','green'])"
   ]
  },
  {
   "cell_type": "code",
   "execution_count": 14,
   "metadata": {},
   "outputs": [
    {
     "name": "stdout",
     "output_type": "stream",
     "text": [
      "OrderedDict([('000', 0.0), ('001', 0.0), ('010', 0.0), ('011', 1.2728885468441173), ('100', 1.6354715267243518), ('101', 0.0), ('110', 1.3448976833778248), ('111', 0.8056505242148093)])\n"
     ]
    }
   ],
   "source": [
    "print(angles)"
   ]
  },
  {
   "cell_type": "code",
   "execution_count": null,
   "metadata": {},
   "outputs": [],
   "source": []
  }
 ],
 "metadata": {
  "kernelspec": {
   "display_name": "Python 3",
   "language": "python",
   "name": "python3"
  },
  "language_info": {
   "codemirror_mode": {
    "name": "ipython",
    "version": 3
   },
   "file_extension": ".py",
   "mimetype": "text/x-python",
   "name": "python",
   "nbconvert_exporter": "python",
   "pygments_lexer": "ipython3",
   "version": "3.7.8"
  }
 },
 "nbformat": 4,
 "nbformat_minor": 4
}
