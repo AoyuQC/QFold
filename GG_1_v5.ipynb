{
 "cells": [
  {
   "cell_type": "code",
   "execution_count": 21,
   "metadata": {},
   "outputs": [
    {
     "name": "stderr",
     "output_type": "stream",
     "text": [
      "/opt/conda/lib/python3.7/site-packages/qiskit/providers/ibmq/ibmqfactory.py:192: UserWarning: Timestamps in IBMQ backend properties, jobs, and job results are all now in local time instead of UTC.\n",
      "  warnings.warn('Timestamps in IBMQ backend properties, jobs, and job results '\n",
      "ibmqfactory.load_account:WARNING:2020-10-31 13:43:22,464: Credentials are already in use. The existing account in the session will be replaced.\n"
     ]
    }
   ],
   "source": [
    "%matplotlib inline\n",
    "# Importing standard Qiskit libraries and configuring account\n",
    "from qiskit import QuantumCircuit, execute, Aer, IBMQ\n",
    "from qiskit.compiler import transpile, assemble\n",
    "from qiskit.tools.jupyter import *\n",
    "\n",
    "# Loading your IBM Q account(s)\n",
    "provider = IBMQ.load_account()\n",
    "\n",
    "from qiskit import QuantumCircuit, execute, Aer\n",
    "from qiskit.circuit import QuantumRegister, Qubit, Gate, ClassicalRegister\n",
    "from qiskit.quantum_info import Statevector\n",
    "\n",
    "# Transpiling stuff\n",
    "from qiskit.compiler import transpile\n",
    "\n",
    "#import utils\n",
    "from collections import OrderedDict\n",
    "\n",
    "import math\n",
    "import numpy as np\n",
    "\n",
    "# Import general libraries (needed for functions)\n",
    "import time\n",
    "\n",
    "# Import Qiskit classes\n",
    "import qiskit\n",
    "from qiskit.providers.aer import noise\n",
    "from qiskit.tools.visualization import plot_histogram\n",
    "\n",
    "from qiskit.test.mock import FakeYorktown\n",
    "\n",
    "# Import measurement calibration functions\n",
    "from qiskit.ignis.mitigation.measurement import (complete_meas_cal, tensored_meas_cal,\n",
    "                                                 CompleteMeasFitter, TensoredMeasFitter)"
   ]
  },
  {
   "cell_type": "code",
   "execution_count": 1,
   "metadata": {},
   "outputs": [
    {
     "name": "stdout",
     "output_type": "stream",
     "text": [
      "Collecting mitiq\n",
      "  Downloading mitiq-0.3.0-py3-none-any.whl (72 kB)\n",
      "\u001b[K     |████████████████████████████████| 72 kB 4.0 kB/s  eta 0:00:01\n",
      "\u001b[?25hCollecting numpy~=1.18.1\n",
      "  Using cached numpy-1.18.5-cp37-cp37m-manylinux1_x86_64.whl (20.1 MB)\n",
      "Requirement already satisfied: scipy~=1.4.1 in /opt/conda/lib/python3.7/site-packages (from mitiq) (1.4.1)\n",
      "Collecting cirq~=0.9.1\n",
      "  Downloading cirq-0.9.1-py3-none-any.whl (1.6 MB)\n",
      "\u001b[K     |████████████████████████████████| 1.6 MB 11.2 MB/s eta 0:00:01\n",
      "\u001b[?25hRequirement already satisfied: pandas in /opt/conda/lib/python3.7/site-packages (from cirq~=0.9.1->mitiq) (1.1.3)\n",
      "Requirement already satisfied: sortedcontainers~=2.0 in /opt/conda/lib/python3.7/site-packages (from cirq~=0.9.1->mitiq) (2.2.2)\n",
      "Requirement already satisfied: matplotlib~=3.0 in /opt/conda/lib/python3.7/site-packages (from cirq~=0.9.1->mitiq) (3.3.2)\n",
      "Collecting protobuf~=3.12.0\n",
      "  Using cached protobuf-3.12.4-cp37-cp37m-manylinux1_x86_64.whl (1.3 MB)\n",
      "Requirement already satisfied: typing-extensions in /opt/conda/lib/python3.7/site-packages (from cirq~=0.9.1->mitiq) (3.7.4.3)\n",
      "Requirement already satisfied: sympy in /opt/conda/lib/python3.7/site-packages (from cirq~=0.9.1->mitiq) (1.6.2)\n",
      "Collecting google-api-core[grpc]<2.0.0dev,>=1.14.0\n",
      "  Using cached google_api_core-1.23.0-py2.py3-none-any.whl (91 kB)\n",
      "Collecting freezegun~=0.3.15\n",
      "  Using cached freezegun-0.3.15-py2.py3-none-any.whl (14 kB)\n",
      "Requirement already satisfied: requests~=2.18 in /opt/conda/lib/python3.7/site-packages (from cirq~=0.9.1->mitiq) (2.24.0)\n",
      "Requirement already satisfied: networkx~=2.4 in /opt/conda/lib/python3.7/site-packages (from cirq~=0.9.1->mitiq) (2.5)\n",
      "Requirement already satisfied: python-dateutil>=2.7.3 in /opt/conda/lib/python3.7/site-packages (from pandas->cirq~=0.9.1->mitiq) (2.8.1)\n",
      "Requirement already satisfied: pytz>=2017.2 in /opt/conda/lib/python3.7/site-packages (from pandas->cirq~=0.9.1->mitiq) (2020.1)\n",
      "Requirement already satisfied: cycler>=0.10 in /opt/conda/lib/python3.7/site-packages (from matplotlib~=3.0->cirq~=0.9.1->mitiq) (0.10.0)\n",
      "Requirement already satisfied: pyparsing!=2.0.4,!=2.1.2,!=2.1.6,>=2.0.3 in /opt/conda/lib/python3.7/site-packages (from matplotlib~=3.0->cirq~=0.9.1->mitiq) (2.4.7)\n",
      "Requirement already satisfied: pillow>=6.2.0 in /opt/conda/lib/python3.7/site-packages (from matplotlib~=3.0->cirq~=0.9.1->mitiq) (8.0.1)\n",
      "Requirement already satisfied: certifi>=2020.06.20 in /opt/conda/lib/python3.7/site-packages (from matplotlib~=3.0->cirq~=0.9.1->mitiq) (2020.6.20)\n",
      "Requirement already satisfied: kiwisolver>=1.0.1 in /opt/conda/lib/python3.7/site-packages (from matplotlib~=3.0->cirq~=0.9.1->mitiq) (1.2.0)\n",
      "Requirement already satisfied: setuptools in /opt/conda/lib/python3.7/site-packages (from protobuf~=3.12.0->cirq~=0.9.1->mitiq) (50.3.2)\n",
      "Requirement already satisfied: six>=1.9 in /opt/conda/lib/python3.7/site-packages (from protobuf~=3.12.0->cirq~=0.9.1->mitiq) (1.15.0)\n",
      "Requirement already satisfied: mpmath>=0.19 in /opt/conda/lib/python3.7/site-packages (from sympy->cirq~=0.9.1->mitiq) (1.1.0)\n",
      "Collecting googleapis-common-protos<2.0dev,>=1.6.0\n",
      "  Using cached googleapis_common_protos-1.52.0-py2.py3-none-any.whl (100 kB)\n",
      "Collecting google-auth<2.0dev,>=1.21.1\n",
      "  Using cached google_auth-1.23.0-py2.py3-none-any.whl (114 kB)\n",
      "Collecting grpcio<2.0dev,>=1.29.0; extra == \"grpc\"\n",
      "  Using cached grpcio-1.33.2-cp37-cp37m-manylinux2014_x86_64.whl (3.8 MB)\n",
      "Requirement already satisfied: urllib3!=1.25.0,!=1.25.1,<1.26,>=1.21.1 in /opt/conda/lib/python3.7/site-packages (from requests~=2.18->cirq~=0.9.1->mitiq) (1.25.11)\n",
      "Requirement already satisfied: chardet<4,>=3.0.2 in /opt/conda/lib/python3.7/site-packages (from requests~=2.18->cirq~=0.9.1->mitiq) (3.0.4)\n",
      "Requirement already satisfied: idna<3,>=2.5 in /opt/conda/lib/python3.7/site-packages (from requests~=2.18->cirq~=0.9.1->mitiq) (2.10)\n",
      "Requirement already satisfied: decorator>=4.3.0 in /opt/conda/lib/python3.7/site-packages (from networkx~=2.4->cirq~=0.9.1->mitiq) (4.4.2)\n",
      "Collecting cachetools<5.0,>=2.0.0\n",
      "  Using cached cachetools-4.1.1-py3-none-any.whl (10 kB)\n",
      "Collecting pyasn1-modules>=0.2.1\n",
      "  Using cached pyasn1_modules-0.2.8-py2.py3-none-any.whl (155 kB)\n",
      "Collecting rsa<5,>=3.1.4; python_version >= \"3.5\"\n",
      "  Using cached rsa-4.6-py3-none-any.whl (47 kB)\n",
      "Collecting pyasn1<0.5.0,>=0.4.6\n",
      "  Using cached pyasn1-0.4.8-py2.py3-none-any.whl (77 kB)\n",
      "Installing collected packages: numpy, protobuf, googleapis-common-protos, cachetools, pyasn1, pyasn1-modules, rsa, google-auth, grpcio, google-api-core, freezegun, cirq, mitiq\n",
      "  Attempting uninstall: numpy\n",
      "    Found existing installation: numpy 1.19.2\n",
      "    Uninstalling numpy-1.19.2:\n",
      "      Successfully uninstalled numpy-1.19.2\n",
      "  Attempting uninstall: protobuf\n",
      "    Found existing installation: protobuf 3.11.4\n",
      "    Uninstalling protobuf-3.11.4:\n",
      "      Successfully uninstalled protobuf-3.11.4\n",
      "Successfully installed cachetools-4.1.1 cirq-0.9.1 freezegun-0.3.15 google-api-core-1.23.0 google-auth-1.23.0 googleapis-common-protos-1.52.0 grpcio-1.33.2 mitiq-0.3.0 numpy-1.19.2 protobuf-3.12.4 pyasn1-0.4.8 pyasn1-modules-0.2.8 rsa-4.6\n"
     ]
    }
   ],
   "source": [
    "!pip install mitiq\n",
    "import mitiq"
   ]
  },
  {
   "cell_type": "code",
   "execution_count": 42,
   "metadata": {},
   "outputs": [
    {
     "name": "stdout",
     "output_type": "stream",
     "text": [
      "<AccountProvider for IBMQ(hub='ibm-q-research', group='Pablo-Antonio-Mo', project='main')>\n",
      "ibmq_qasm_simulator\n",
      "ibmqx2\n",
      "ibmq_16_melbourne\n",
      "ibmq_vigo\n",
      "ibmq_ourense\n",
      "ibmq_valencia\n",
      "ibmq_armonk\n",
      "ibmq_athens\n",
      "ibmq_rome\n",
      "ibmq_santiago\n",
      "ibmq_bogota\n",
      "ibmq_casablanca\n"
     ]
    }
   ],
   "source": [
    "number_W = 2\n",
    "beta = 1\n",
    "\n",
    "provider = IBMQ.get_provider(hub='ibm-q-research', group='Pablo-Antonio-Mo', project='main') \n",
    "print(provider)\n",
    "backends = provider.backends()\n",
    "for backend in backends:\n",
    "    print(backend.name())\n",
    "    \n",
    "backend = provider.backends(name = 'ibmq_valencia')[0]\n",
    "#backend = provider.backends(name = 'ibmq_casablanca')[0]\n",
    "properties = backend.properties() \n",
    "coupling_map = backend.configuration().coupling_map\n",
    "\n",
    "#backend = FakeYorktown()\n"
   ]
  },
  {
   "cell_type": "code",
   "execution_count": 43,
   "metadata": {},
   "outputs": [
    {
     "data": {
      "application/vnd.jupyter.widget-view+json": {
       "model_id": "7f3033b9ccfe401f94f936dc053e1b47",
       "version_major": 2,
       "version_minor": 0
      },
      "text/plain": [
       "VBox(children=(HTML(value=\"<h1 style='color:#ffffff;background-color:#000000;padding-top: 1%;padding-bottom: 1…"
      ]
     },
     "metadata": {},
     "output_type": "display_data"
    },
    {
     "data": {
      "text/plain": [
       "<IBMQBackend('ibmq_valencia') from IBMQ(hub='ibm-q-research', group='Pablo-Antonio-Mo', project='main')>"
      ]
     },
     "execution_count": 43,
     "metadata": {},
     "output_type": "execute_result"
    }
   ],
   "source": [
    "backend"
   ]
  },
  {
   "cell_type": "code",
   "execution_count": 24,
   "metadata": {},
   "outputs": [
    {
     "name": "stdout",
     "output_type": "stream",
     "text": [
      "16\n",
      "corrected ------------------\n",
      "000 0.27042123529724904\n",
      "001 26.032737333542684\n",
      "010 0.24282032166763656\n",
      "011 -26.032737333542684\n",
      "100 -0.27042123529724904\n",
      "101 26.00513641991307\n",
      "110 -0.24282032166763656\n",
      "111 -26.00513641991307\n"
     ]
    }
   ],
   "source": [
    "import json\n",
    "with open('delta_energies_glycylglycine_1_hardware.json') as json_file:\n",
    "    data = json.load(json_file)\n",
    "\n",
    "deltas_dictionary = data['deltas']\n",
    "deltas_dictionary = OrderedDict(sorted(deltas_dictionary.items()))\n",
    "print(len(deltas_dictionary))\n",
    "deltas = {}\n",
    "for (key,value) in deltas_dictionary.items():\n",
    "    deltas[key[:3]] = value\n",
    "    #print(key,value)\n",
    "print('corrected ------------------')\n",
    "for (key,value) in deltas.items():\n",
    "    print(key, value)"
   ]
  },
  {
   "cell_type": "code",
   "execution_count": 25,
   "metadata": {},
   "outputs": [],
   "source": [
    "# Bitmap calculation\n",
    "def calculate_angles(deltas_dictionary, beta = 1):\n",
    "    \n",
    "    exact_angles = {}\n",
    "\n",
    "    for key in deltas_dictionary.keys():\n",
    "\n",
    "        if deltas_dictionary[key] >= 0:\n",
    "            probability = math.exp(-beta * deltas_dictionary[key])\n",
    "        else: \n",
    "            probability = 1\n",
    "        # Instead of encoding the angle corresponding to the probability, we will encode the angle theta such that sin^2(pi/2 - theta) = probability.\n",
    "        # That way 1 -> 000, but if probability is 0 there is some small probability of acceptance\n",
    "\n",
    "        # Instead of probability save angles so rotations are easier to perform afterwards sqrt(p) = sin(pi/2-theta/2).\n",
    "        # The theta/2 is because if you input theta, qiskits rotates theta/2. Also normalised (divided between pi the result)\n",
    "        exact_angles[key] = math.pi - 2 * math.asin(math.sqrt(probability))\n",
    "\n",
    "    # Order angles by key\n",
    "    exact_angles = OrderedDict(sorted(exact_angles.items()))\n",
    "\n",
    "    return exact_angles"
   ]
  },
  {
   "cell_type": "markdown",
   "metadata": {},
   "source": [
    "Let us have some error correction in place"
   ]
  },
  {
   "cell_type": "code",
   "execution_count": 26,
   "metadata": {},
   "outputs": [
    {
     "data": {
      "text/plain": [
       "\"\\n# Generate the calibration circuits\\ncoin = QuantumRegister(1, name = 'coin')\\nmove_id  = QuantumRegister(1, name = 'move_id')\\nangle_psi = QuantumRegister(1, name = 'angle_psi')\\nangle_phi = QuantumRegister(1, name = 'angle_phi')\\n# By order those qubits will be qr[0], qr[1], qr[2] abnd qr[3]\\n\\n\\n#qubit_list = [angle_phi[0], angle_psi[0], move_id[0], coin[0]]\\nqr = qiskit.QuantumRegister(4)\\nqubit_list = [0,1,2,3]\\n#\\nmeas_calibs, state_labels = complete_meas_cal(qubit_list=qubit_list, qr = qr, circlabel='mcal')\\n\\nlayout = {3: qr[3], 6: qr[2], 4: qr[1], 5: qr[0]}\\n# layout = {2: angle_psi[0], 3: angle_phi[0], 1: coin[0], 0: move_id[0]} # This is another possible configuration\\njob = qiskit.execute(meas_calibs, backend=backend, shots=1024, initial_layout=layout)\\ncal_results = job.result()\\n\\n# Calculate the calibration matrix with the noise model\\nmeas_fitter = CompleteMeasFitter(cal_results, state_labels, qubit_list=qubit_list, circlabel='mcal')\\n\\n# Plot the calibration matrix\\nmeas_fitter.plot_calibration()\\n\""
      ]
     },
     "execution_count": 26,
     "metadata": {},
     "output_type": "execute_result"
    }
   ],
   "source": [
    "'''\n",
    "# Generate the calibration circuits\n",
    "coin = QuantumRegister(1, name = 'coin')\n",
    "move_id  = QuantumRegister(1, name = 'move_id')\n",
    "angle_psi = QuantumRegister(1, name = 'angle_psi')\n",
    "angle_phi = QuantumRegister(1, name = 'angle_phi')\n",
    "# By order those qubits will be qr[0], qr[1], qr[2] abnd qr[3]\n",
    "\n",
    "\n",
    "#qubit_list = [angle_phi[0], angle_psi[0], move_id[0], coin[0]]\n",
    "qr = qiskit.QuantumRegister(4)\n",
    "qubit_list = [0,1,2,3]\n",
    "#\n",
    "meas_calibs, state_labels = complete_meas_cal(qubit_list=qubit_list, qr = qr, circlabel='mcal')\n",
    "\n",
    "layout = {3: qr[3], 6: qr[2], 4: qr[1], 5: qr[0]}\n",
    "# layout = {2: angle_psi[0], 3: angle_phi[0], 1: coin[0], 0: move_id[0]} # This is another possible configuration\n",
    "job = qiskit.execute(meas_calibs, backend=backend, shots=1024, initial_layout=layout)\n",
    "cal_results = job.result()\n",
    "\n",
    "# Calculate the calibration matrix with the noise model\n",
    "meas_fitter = CompleteMeasFitter(cal_results, state_labels, qubit_list=qubit_list, circlabel='mcal')\n",
    "\n",
    "# Plot the calibration matrix\n",
    "meas_fitter.plot_calibration()\n",
    "'''"
   ]
  },
  {
   "cell_type": "markdown",
   "metadata": {},
   "source": [
    "Let us first construct the substitute of the oracle"
   ]
  },
  {
   "cell_type": "code",
   "execution_count": 27,
   "metadata": {},
   "outputs": [
    {
     "name": "stdout",
     "output_type": "stream",
     "text": [
      "OrderedDict([('000', 0.328149137182979), ('001', 2.5904722228055745), ('010', 0.3110236124064589), ('011', 0.0), ('100', 0.0), ('101', 2.58969121534896), ('110', 0.0), ('111', 0.0)])\n"
     ]
    }
   ],
   "source": [
    "angles = calculate_angles(deltas_dictionary = deltas, beta = .1)\n",
    "print(angles)\n",
    "def hardware_GG_1_coin_flip(circuit,coin,move_id,angle_psi,angle_phi,angles,inv,iteration,beta):\n",
    "    '''Warning! This only works for GG 1 in hardware mode. Do not use elsewhere!'''\n",
    "    # First we have to identify the non-zero angles. For the rest we accept with probability 1\n",
    "    circuit.x(coin)\n",
    "    '''\n",
    "    Since the angles from 001 and 101 ~= 2.59; and those from 010 and 000 ~= 0.32 (when beta = .1, \n",
    "    but they'll always be similar nevertheless), we will perform those rotations together\n",
    "    '''\n",
    "    non_zero_angles = {}\n",
    "    non_zero_angles['0x0'] = (angles['000']+angles['010'])/2\n",
    "    non_zero_angles['x01'] = (angles['001']+angles['101'])/2\n",
    "    \n",
    "    # Let us first perform the first\n",
    "    circuit.x(angle_phi)\n",
    "    circuit.x(move_id)\n",
    "    circuit.mcrx(theta = -inv*non_zero_angles['0x0'],\n",
    "                 q_controls = [move_id[0],angle_phi[0]], q_target = coin[0], use_basis_gates=True)\n",
    "    circuit.x(angle_phi)\n",
    "    circuit.x(move_id)\n",
    "    \n",
    "    # Let us perform the second\n",
    "    circuit.x(angle_psi)\n",
    "    circuit.mcrx(theta = -inv*non_zero_angles['x01'],\n",
    "                 q_controls = [move_id[0],angle_psi[0]], q_target = coin[0], use_basis_gates=True)\n",
    "    circuit.x(angle_psi)"
   ]
  },
  {
   "cell_type": "markdown",
   "metadata": {},
   "source": [
    "The quantum Walk is composed of several parts, $$W = R V^\\dagger B^\\dagger F B V,$$\n",
    "where $V$ prepares possible moves, $B$ is the Boltzmann coin, $F$ the coin flip, and $R$ a reflection of all registers except the state one over state $\\ket{0}$. The first thing we do is prepare the oracle\n"
   ]
  },
  {
   "cell_type": "code",
   "execution_count": 28,
   "metadata": {},
   "outputs": [],
   "source": [
    "def W_step(qc,coin,move_id,angle_psi,angle_phi,angles,iteration,beta): \n",
    "    # Perform the preparation of possible moves----\n",
    "    qc.h(move_id)\n",
    "\n",
    "    # Prepare the Boltzmann coin ------------------\n",
    "    hardware_GG_1_coin_flip(qc,coin,move_id,angle_psi,angle_phi,angles,inv = 1,iteration=iteration,beta = beta)\n",
    "    \n",
    "    # Perform move ---------------------------------\n",
    "    # For the second angle\n",
    "    qc.ccx(coin,move_id,angle_psi)\n",
    "\n",
    "    # For the first angle\n",
    "    qc.x(move_id)\n",
    "    qc.ccx(coin,move_id,angle_phi)\n",
    "    qc.x(move_id)\n",
    "\n",
    "    if iteration == 0:\n",
    "        # Unprepare the Boltzmann coin--------------------\n",
    "        hardware_GG_1_coin_flip(qc,coin,move_id,angle_psi,angle_phi,angles,inv = -1,iteration=0,beta = beta)\n",
    "\n",
    "        # Perform the preparation of possible moves ----\n",
    "        qc.h(move_id)\n",
    "\n",
    "        #Reflection -------------------------------------\n",
    "        qc.x(move_id)\n",
    "        qc.x(coin)\n",
    "\n",
    "        # Perform a multicontrolled Z\n",
    "        qc.cz(move_id,coin)\n",
    "\n",
    "        qc.x(move_id)\n",
    "        qc.x(coin)"
   ]
  },
  {
   "cell_type": "markdown",
   "metadata": {},
   "source": [
    "Running the model on a backend"
   ]
  },
  {
   "cell_type": "code",
   "execution_count": 29,
   "metadata": {
    "scrolled": true
   },
   "outputs": [],
   "source": [
    "def generate_circ(betas = [.1,1]):\n",
    "    \n",
    "    move_id  = QuantumRegister(1)\n",
    "    angle_phi = QuantumRegister(1)\n",
    "    angle_psi = QuantumRegister(1)\n",
    "    coin = QuantumRegister(1)\n",
    "    c_reg = ClassicalRegister(2)\n",
    "    qc = QuantumCircuit(coin,move_id,angle_psi,angle_phi,c_reg)\n",
    "\n",
    "    #Circuit ----------\n",
    "    qc.h(angle_phi)\n",
    "    qc.h(angle_psi)\n",
    "    for (i,beta) in zip(range(number_W),betas):\n",
    "        angles = calculate_angles(deltas_dictionary = deltas, betas = betas)\n",
    "        W_step(qc,coin,move_id,angle_psi,angle_phi,angles,i,beta = beta)\n",
    "\n",
    "    # Measure\n",
    "    qc.measure(angle_phi[0], c_reg[1])\n",
    "    qc.measure(angle_psi[0], c_reg[0])\n",
    "\n",
    "    # Transpiling -------\n",
    "\n",
    "    #layout = {5: angle_phi[0], 6: angle_psi[0], 4: move_id[0], 5: coin[0]}\n",
    "    layout = {2: angle_psi[0], 3: angle_phi[0], 1: coin[0], 0: move_id[0]} \n",
    "    qc = transpile(qc, backend = backend, optimization_level=3, \n",
    "                   initial_layout=layout, basis_gates = ['u1', 'u2', 'u3', 'cx'], routing_method = 'lookahead')\n",
    "    print('After optimization--------')\n",
    "    print('gates = ', qc.count_ops())\n",
    "    print('depth = ', qc.depth())\n",
    "    return qc"
   ]
  },
  {
   "cell_type": "markdown",
   "metadata": {},
   "source": [
    "We can first execute the same circuit without error"
   ]
  },
  {
   "cell_type": "code",
   "execution_count": 30,
   "metadata": {
    "scrolled": false
   },
   "outputs": [],
   "source": [
    "def exe_noiseless(betas = betas):\n",
    "\n",
    "    move_id  = QuantumRegister(1, name = 'move_id')\n",
    "    angle_phi = QuantumRegister(1, name = 'angle_phi')\n",
    "    angle_psi = QuantumRegister(1, name = 'angle_psi')\n",
    "    coin = QuantumRegister(1, name = 'coin')\n",
    "    c_reg = ClassicalRegister(4)\n",
    "    aerqc = QuantumCircuit(coin,move_id,angle_psi,angle_phi,c_reg)\n",
    "\n",
    "    #Circuit ----------\n",
    "    aerqc.h(angle_phi)\n",
    "    aerqc.h(angle_psi)\n",
    "    for (i,beta) in zip(range(number_W),betas):\n",
    "        angles = calculate_angles(deltas_dictionary = deltas, betas = betas)\n",
    "        W_step(aerqc,coin,move_id,angle_psi,angle_phi,angles,i,beta)\n",
    "\n",
    "    # Measure\n",
    "    aerbackend = Aer.get_backend('statevector_simulator')\n",
    "    backend_options = {\"method\" : \"statevector\"}\n",
    "    experiment = execute(aerqc, aerbackend, backend_options=backend_options)\n",
    "    state_vector = Statevector(experiment.result().get_statevector(aerqc))\n",
    "\n",
    "    probabilities = state_vector.probabilities([3,2])\n",
    "    noiseless_counts = {}\n",
    "    noiseless_counts['00'] = float(probabilities[0])\n",
    "    noiseless_counts['01'] = float(probabilities[1])\n",
    "    noiseless_counts['10'] = float(probabilities[2])\n",
    "    noiseless_counts['11'] = float(probabilities[3])\n",
    "\n",
    "    return noiseless_counts\n",
    "    #plot_histogram(noiseless_counts)\n",
    "#noiseless_counts = exe_noiseless(beta = 1e-15)\n",
    "#noiseless_counts"
   ]
  },
  {
   "cell_type": "markdown",
   "metadata": {},
   "source": [
    "We will do a small experiment to see if we can measure anything different from noise. The initialization is"
   ]
  },
  {
   "cell_type": "code",
   "execution_count": 44,
   "metadata": {},
   "outputs": [],
   "source": [
    "n_iterations = 10\n",
    "raw_counts = {'beta=1e-10': [], 'beta=0.1': []}\n",
    "noiseless_counts = {'beta=1e-10': [], 'beta=0.1': []}"
   ]
  },
  {
   "cell_type": "markdown",
   "metadata": {},
   "source": [
    "We can calculate what would happen with the exact same circuit (except for parametrised angles) with very small beta"
   ]
  },
  {
   "cell_type": "code",
   "execution_count": 45,
   "metadata": {
    "scrolled": true
   },
   "outputs": [
    {
     "name": "stdout",
     "output_type": "stream",
     "text": [
      "After optimization--------\n",
      "gates =  OrderedDict([('cx', 105), ('u2', 51), ('u3', 44), ('u1', 18), ('measure', 2), ('barrier', 1)])\n",
      "depth =  173\n",
      "iteration = 0\n",
      "iteration = 1\n",
      "iteration = 2\n",
      "iteration = 3\n",
      "iteration = 4\n",
      "iteration = 5\n",
      "iteration = 6\n",
      "iteration = 7\n",
      "iteration = 8\n",
      "iteration = 9\n",
      "1919.5\n",
      "30.735159020249107\n"
     ]
    },
    {
     "name": "stderr",
     "output_type": "stream",
     "text": [
      "/opt/conda/lib/python3.7/site-packages/ipykernel_launcher.py:21: DeprecationWarning: Using `backend_options` kwarg has been deprecated as of qiskit-aer 0.7.0 and will be removed no earlier than 3 months from that release date. Runtime backend options should now be added directly using kwargs for each option.\n"
     ]
    }
   ],
   "source": [
    "betas = [1e-10,1e-10]\n",
    "qc = generate_circ(betas = betas)\n",
    "\n",
    "for i in range(n_iterations):\n",
    "    print('iteration =',i)\n",
    "    counts= execute(qc, backend, shots=8192).result().get_counts()\n",
    "    raw_counts['beta=0'].append(counts['00'])\n",
    "    \n",
    "noiseless_counts['beta=0'] = exe_noiseless(beta = beta)['00']\n",
    "\n",
    "print(np.average(raw_counts['beta=0']))\n",
    "print(np.std(raw_counts['beta=0']))\n",
    "#plot = plot_histogram([raw_counts,noiseless_counts], legend=['raw','noiseless'], color = ['red','green'])"
   ]
  },
  {
   "cell_type": "markdown",
   "metadata": {},
   "source": [
    "Then, we choose the right beta to correct"
   ]
  },
  {
   "cell_type": "code",
   "execution_count": 46,
   "metadata": {
    "scrolled": true
   },
   "outputs": [
    {
     "name": "stdout",
     "output_type": "stream",
     "text": [
      "After optimization--------\n",
      "gates =  OrderedDict([('cx', 105), ('u2', 50), ('u3', 45), ('u1', 18), ('measure', 2), ('barrier', 1)])\n",
      "depth =  173\n",
      "iteration = 0\n",
      "iteration = 1\n",
      "iteration = 2\n",
      "iteration = 3\n",
      "iteration = 4\n",
      "iteration = 5\n",
      "iteration = 6\n",
      "iteration = 7\n",
      "iteration = 8\n",
      "iteration = 9\n",
      "2008.7\n",
      "51.60242242375836\n"
     ]
    },
    {
     "name": "stderr",
     "output_type": "stream",
     "text": [
      "/opt/conda/lib/python3.7/site-packages/ipykernel_launcher.py:21: DeprecationWarning: Using `backend_options` kwarg has been deprecated as of qiskit-aer 0.7.0 and will be removed no earlier than 3 months from that release date. Runtime backend options should now be added directly using kwargs for each option.\n"
     ]
    }
   ],
   "source": [
    "betas = [0.1,1]\n",
    "qc = generate_circ(betas = betas)\n",
    "\n",
    "for i in range(n_iterations):\n",
    "    print('iteration =',i)\n",
    "    counts= execute(qc, backend, shots=8192).result().get_counts()\n",
    "    raw_counts['beta=1'].append(counts['00'])\n",
    "    \n",
    "noiseless_counts['beta=1'] = exe_noiseless(betas = betas)['00']\n",
    "\n",
    "print(np.average(raw_counts['beta=1']))\n",
    "print(np.std(raw_counts['beta=1']))\n",
    "\n",
    "#plot = plot_histogram([raw_counts,noiseless_counts], legend=['raw','noiseless'], color = ['red','green'])"
   ]
  },
  {
   "cell_type": "code",
   "execution_count": 62,
   "metadata": {},
   "outputs": [
    {
     "data": {
      "text/plain": [
       "Ttest_indResult(statistic=-5.162081762713354, pvalue=2.4450295754288155e-07)"
      ]
     },
     "execution_count": 62,
     "metadata": {},
     "output_type": "execute_result"
    }
   ],
   "source": [
    "import scipy\n",
    "def generate_bernouilli(n_0,n):\n",
    "    array = np.random.binomial(1,n_0/n,n)\n",
    "    s = np.sum(array)\n",
    "    while s != n_0:\n",
    "        i = np.random.randint(n)\n",
    "        if s<n_0 and array[i] == 0:\n",
    "            array[i] = 1\n",
    "        elif s>n_0 and array[i] == 1:\n",
    "            array[i] = 0\n",
    "        s = np.sum(array)\n",
    "    return array    \n",
    "beta0_bernouilli = generate_bernouilli(np.sum(raw_counts['beta=0']), 81920)\n",
    "beta1_bernouilli = generate_bernouilli(np.sum(raw_counts['beta=1']), 81920)\n",
    "scipy.stats.ttest_ind(beta0_bernouilli, beta01_bernouilli, equal_var=False)\n",
    "#scipy.stats.ttest_ind(raw_counts['beta=1e-10'], raw_counts['beta=0.1'], equal_var=False)"
   ]
  },
  {
   "cell_type": "code",
   "execution_count": 55,
   "metadata": {},
   "outputs": [
    {
     "data": {
      "text/plain": [
       "{'beta=1e-10': [1902, 1944, 1958, 1928, 1867, 1886, 1915, 1891, 1961, 1943],\n",
       " 'beta=0.1': [2050, 1981, 1985, 2008, 1986, 2111, 2066, 1989, 1915, 1996]}"
      ]
     },
     "execution_count": 55,
     "metadata": {},
     "output_type": "execute_result"
    }
   ],
   "source": [
    "def executor(circuit: qiskit.QuantumCircuit, shots: int = 8192) -> float:\n",
    "    \"\"\"Returns the expectation value to be mitigated.\n",
    "\n",
    "    Args:\n",
    "        circuit: Circuit to run.\n",
    "        shots: Number of times to execute the circuit to compute the expectation value.\n",
    "    \"\"\"\n",
    "\n",
    "    # (1) Run the circuit\n",
    "    raw_counts = 0\n",
    "    for i in range(n_iterations):\n",
    "        print('iteration =',i)\n",
    "        counts= execute(qc, backend, shots=shots, optimization_level=0).result().get_counts()\n",
    "        raw_counts += counts['00']\n",
    "        \n",
    "    # (2) Convert from raw measurement counts to the expectation value    \n",
    "    expectation_value = raw_counts/(shots*n_iterations)\n",
    "\n",
    "    return expectation_value\n",
    "\n",
    "\n",
    "betas = [0.1,1]\n",
    "qc = generate_circ(betas = betas)\n",
    "linear_factory = mitiq.zne.inference.LinearFactory(scale_factors=[1.0, 1.05, 1.1, 1.15, 1.2, 1.25])\n",
    "mitigated = mitiq.execute_with_zne(qc, executor, fac=linear_factory)"
   ]
  },
  {
   "cell_type": "markdown",
   "metadata": {},
   "source": [
    "beta = 0, theoretical_expected_value = 0.25\n",
    "\n",
    "1. Ourense (1450.6, 68.7447452537283)\n",
    "\n",
    "2. Valencia (1919.5, 30.735159020249107)\n",
    "\n",
    "beta = 0.1, theoretical_expected_value = 0.48\n",
    "\n",
    "1. Ourense (1650.7, 87.46204891265697)\n",
    "\n",
    "2. Valencia (2008.7, 51.60242242375836)"
   ]
  },
  {
   "cell_type": "code",
   "execution_count": null,
   "metadata": {},
   "outputs": [],
   "source": [
    "def success_rate(cnot_error, u_error, cnot_number, u3_number, u2_number, T1s, T2s, circ_depth):\n",
    "    # Calculate gate success rate\n",
    "    gate_success = (1-cnot_error)**cnot_number*(1-u_error)**(u3_number + u2_number)\n",
    "    \n",
    "    # Calculate execution time\n",
    "    T = 0.8*cnot_numer + 0.3*u3_number +0.15*(circ_depth - cnot_number - u3_number)\n",
    "    \n",
    "    s = 1\n",
    "    \n",
    "    # Either:\n",
    "    #for (T1,T2) in zip(T1s,T2s):\n",
    "    #   s *= math.exp(-T/T1)*math.exp(-T/T2)\n",
    "        \n",
    "    # Or, since T2 < T1\n",
    "    for T2 in T2s:\n",
    "        s *= math.exp(-T/T2)\n",
    "        \n",
    "    return s*gate_success"
   ]
  }
 ],
 "metadata": {
  "kernelspec": {
   "display_name": "Python 3",
   "language": "python",
   "name": "python3"
  },
  "language_info": {
   "codemirror_mode": {
    "name": "ipython",
    "version": 3
   },
   "file_extension": ".py",
   "mimetype": "text/x-python",
   "name": "python",
   "nbconvert_exporter": "python",
   "pygments_lexer": "ipython3",
   "version": "3.7.8"
  }
 },
 "nbformat": 4,
 "nbformat_minor": 4
}
