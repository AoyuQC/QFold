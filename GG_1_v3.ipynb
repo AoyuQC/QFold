{
 "cells": [
  {
   "cell_type": "code",
   "execution_count": 1,
   "metadata": {},
   "outputs": [
    {
     "name": "stderr",
     "output_type": "stream",
     "text": [
      "/opt/conda/lib/python3.7/site-packages/qiskit/providers/ibmq/ibmqfactory.py:192: UserWarning: Timestamps in IBMQ backend properties, jobs, and job results are all now in local time instead of UTC.\n",
      "  warnings.warn('Timestamps in IBMQ backend properties, jobs, and job results '\n"
     ]
    }
   ],
   "source": [
    "%matplotlib inline\n",
    "# Importing standard Qiskit libraries and configuring account\n",
    "from qiskit import QuantumCircuit, execute, Aer, IBMQ\n",
    "from qiskit.compiler import transpile, assemble\n",
    "#from qiskit.tools.jupyter import *\n",
    "#from qiskit.visualization import *\n",
    "# Loading your IBM Q account(s)\n",
    "provider = IBMQ.load_account()\n",
    "\n",
    "from qiskit import QuantumCircuit, execute, Aer\n",
    "from qiskit.circuit import QuantumRegister, Qubit, Gate, ClassicalRegister\n",
    "from qiskit.aqua.components.oracles import Oracle, TruthTableOracle\n",
    "from qiskit.quantum_info import Statevector\n",
    "\n",
    "# Transpiling stuff\n",
    "from qiskit.compiler import transpile\n",
    "from qiskit.transpiler import PassManager\n",
    "from qiskit.transpiler.passes import Unroller\n",
    "from qiskit.transpiler.passes import BasicSwap, LookaheadSwap, StochasticSwap\n",
    "from qiskit.transpiler import CouplingMap, Layout\n",
    "\n",
    "\n",
    "#import utils\n",
    "from collections import OrderedDict\n",
    "\n",
    "import math\n",
    "import numpy as np\n",
    "from sympy.combinatorics.graycode import GrayCode, bin_to_gray, gray_to_bin\n",
    "\n",
    "# Import general libraries (needed for functions)\n",
    "import time\n",
    "\n",
    "# Import Qiskit classes\n",
    "import qiskit\n",
    "from qiskit.providers.aer import noise\n",
    "from qiskit.tools.visualization import plot_histogram\n",
    "\n",
    "from qiskit.test.mock import FakeYorktown\n",
    "\n",
    "# Import measurement calibration functions\n",
    "from qiskit.ignis.mitigation.measurement import (complete_meas_cal, tensored_meas_cal,\n",
    "                                                 CompleteMeasFitter, TensoredMeasFitter)"
   ]
  },
  {
   "cell_type": "code",
   "execution_count": 2,
   "metadata": {
    "scrolled": true
   },
   "outputs": [
    {
     "name": "stdout",
     "output_type": "stream",
     "text": [
      "Collecting mitiq\n",
      "  Using cached mitiq-0.2.0-py3-none-any.whl (61 kB)\n",
      "Requirement already satisfied: scipy~=1.4.1 in /opt/conda/lib/python3.7/site-packages (from mitiq) (1.4.1)\n",
      "Collecting cirq-unstable==0.9.0.dev20200813185757\n",
      "  Using cached cirq_unstable-0.9.0.dev20200813185757-py3-none-any.whl (1.5 MB)\n",
      "Collecting numpy~=1.18.1\n",
      "  Using cached numpy-1.18.5-cp37-cp37m-manylinux1_x86_64.whl (20.1 MB)\n",
      "Collecting protobuf~=3.12.0\n",
      "  Using cached protobuf-3.12.4-cp37-cp37m-manylinux1_x86_64.whl (1.3 MB)\n",
      "Requirement already satisfied: pandas in /opt/conda/lib/python3.7/site-packages (from cirq-unstable==0.9.0.dev20200813185757->mitiq) (1.1.3)\n",
      "Collecting google-api-core[grpc]<2.0.0dev,>=1.14.0\n",
      "  Using cached google_api_core-1.23.0-py2.py3-none-any.whl (91 kB)\n",
      "Collecting freezegun~=0.3.15\n",
      "  Using cached freezegun-0.3.15-py2.py3-none-any.whl (14 kB)\n",
      "Requirement already satisfied: typing-extensions in /opt/conda/lib/python3.7/site-packages (from cirq-unstable==0.9.0.dev20200813185757->mitiq) (3.7.4.3)\n",
      "Requirement already satisfied: matplotlib~=3.0 in /opt/conda/lib/python3.7/site-packages (from cirq-unstable==0.9.0.dev20200813185757->mitiq) (3.3.2)\n",
      "Requirement already satisfied: requests~=2.18 in /opt/conda/lib/python3.7/site-packages (from cirq-unstable==0.9.0.dev20200813185757->mitiq) (2.24.0)\n",
      "Requirement already satisfied: sortedcontainers~=2.0 in /opt/conda/lib/python3.7/site-packages (from cirq-unstable==0.9.0.dev20200813185757->mitiq) (2.2.2)\n",
      "Requirement already satisfied: networkx~=2.4 in /opt/conda/lib/python3.7/site-packages (from cirq-unstable==0.9.0.dev20200813185757->mitiq) (2.5)\n",
      "Requirement already satisfied: sympy in /opt/conda/lib/python3.7/site-packages (from cirq-unstable==0.9.0.dev20200813185757->mitiq) (1.6.2)\n",
      "Requirement already satisfied: setuptools in /opt/conda/lib/python3.7/site-packages (from protobuf~=3.12.0->cirq-unstable==0.9.0.dev20200813185757->mitiq) (50.3.2)\n",
      "Requirement already satisfied: six>=1.9 in /opt/conda/lib/python3.7/site-packages (from protobuf~=3.12.0->cirq-unstable==0.9.0.dev20200813185757->mitiq) (1.15.0)\n",
      "Requirement already satisfied: pytz>=2017.2 in /opt/conda/lib/python3.7/site-packages (from pandas->cirq-unstable==0.9.0.dev20200813185757->mitiq) (2020.1)\n",
      "Requirement already satisfied: python-dateutil>=2.7.3 in /opt/conda/lib/python3.7/site-packages (from pandas->cirq-unstable==0.9.0.dev20200813185757->mitiq) (2.8.1)\n",
      "Collecting googleapis-common-protos<2.0dev,>=1.6.0\n",
      "  Using cached googleapis_common_protos-1.52.0-py2.py3-none-any.whl (100 kB)\n",
      "Collecting google-auth<2.0dev,>=1.21.1\n",
      "  Using cached google_auth-1.22.1-py2.py3-none-any.whl (114 kB)\n",
      "Collecting grpcio<2.0dev,>=1.29.0; extra == \"grpc\"\n",
      "  Downloading grpcio-1.33.2-cp37-cp37m-manylinux2014_x86_64.whl (3.8 MB)\n",
      "\u001b[K     |████████████████████████████████| 3.8 MB 10.5 MB/s eta 0:00:01\n",
      "\u001b[?25hRequirement already satisfied: pyparsing!=2.0.4,!=2.1.2,!=2.1.6,>=2.0.3 in /opt/conda/lib/python3.7/site-packages (from matplotlib~=3.0->cirq-unstable==0.9.0.dev20200813185757->mitiq) (2.4.7)\n",
      "Requirement already satisfied: pillow>=6.2.0 in /opt/conda/lib/python3.7/site-packages (from matplotlib~=3.0->cirq-unstable==0.9.0.dev20200813185757->mitiq) (8.0.1)\n",
      "Requirement already satisfied: certifi>=2020.06.20 in /opt/conda/lib/python3.7/site-packages (from matplotlib~=3.0->cirq-unstable==0.9.0.dev20200813185757->mitiq) (2020.6.20)\n",
      "Requirement already satisfied: kiwisolver>=1.0.1 in /opt/conda/lib/python3.7/site-packages (from matplotlib~=3.0->cirq-unstable==0.9.0.dev20200813185757->mitiq) (1.2.0)\n",
      "Requirement already satisfied: cycler>=0.10 in /opt/conda/lib/python3.7/site-packages (from matplotlib~=3.0->cirq-unstable==0.9.0.dev20200813185757->mitiq) (0.10.0)\n",
      "Requirement already satisfied: idna<3,>=2.5 in /opt/conda/lib/python3.7/site-packages (from requests~=2.18->cirq-unstable==0.9.0.dev20200813185757->mitiq) (2.10)\n",
      "Requirement already satisfied: urllib3!=1.25.0,!=1.25.1,<1.26,>=1.21.1 in /opt/conda/lib/python3.7/site-packages (from requests~=2.18->cirq-unstable==0.9.0.dev20200813185757->mitiq) (1.25.11)\n",
      "Requirement already satisfied: chardet<4,>=3.0.2 in /opt/conda/lib/python3.7/site-packages (from requests~=2.18->cirq-unstable==0.9.0.dev20200813185757->mitiq) (3.0.4)\n",
      "Requirement already satisfied: decorator>=4.3.0 in /opt/conda/lib/python3.7/site-packages (from networkx~=2.4->cirq-unstable==0.9.0.dev20200813185757->mitiq) (4.4.2)\n",
      "Requirement already satisfied: mpmath>=0.19 in /opt/conda/lib/python3.7/site-packages (from sympy->cirq-unstable==0.9.0.dev20200813185757->mitiq) (1.1.0)\n",
      "Collecting pyasn1-modules>=0.2.1\n",
      "  Using cached pyasn1_modules-0.2.8-py2.py3-none-any.whl (155 kB)\n",
      "Collecting cachetools<5.0,>=2.0.0\n",
      "  Using cached cachetools-4.1.1-py3-none-any.whl (10 kB)\n",
      "Collecting rsa<5,>=3.1.4; python_version >= \"3.5\"\n",
      "  Using cached rsa-4.6-py3-none-any.whl (47 kB)\n",
      "Collecting pyasn1<0.5.0,>=0.4.6\n",
      "  Using cached pyasn1-0.4.8-py2.py3-none-any.whl (77 kB)\n",
      "Installing collected packages: protobuf, googleapis-common-protos, pyasn1, pyasn1-modules, cachetools, rsa, google-auth, grpcio, google-api-core, freezegun, numpy, cirq-unstable, mitiq\n",
      "  Attempting uninstall: protobuf\n",
      "    Found existing installation: protobuf 3.11.4\n",
      "    Uninstalling protobuf-3.11.4:\n",
      "      Successfully uninstalled protobuf-3.11.4\n",
      "  Attempting uninstall: numpy\n",
      "    Found existing installation: numpy 1.19.2\n",
      "    Uninstalling numpy-1.19.2:\n",
      "      Successfully uninstalled numpy-1.19.2\n",
      "Successfully installed cachetools-4.1.1 cirq-unstable-0.9.0.dev20200813185757 freezegun-0.3.15 google-api-core-1.23.0 google-auth-1.22.1 googleapis-common-protos-1.52.0 grpcio-1.33.2 mitiq-0.2.0 numpy-1.19.2 protobuf-3.12.4 pyasn1-0.4.8 pyasn1-modules-0.2.8 rsa-4.6\n"
     ]
    }
   ],
   "source": [
    "!pip install mitiq\n",
    "import mitiq"
   ]
  },
  {
   "cell_type": "code",
   "execution_count": 3,
   "metadata": {},
   "outputs": [
    {
     "name": "stdout",
     "output_type": "stream",
     "text": [
      "<AccountProvider for IBMQ(hub='ibm-q-research', group='Pablo-Antonio-Mo', project='main')>\n",
      "ibmq_qasm_simulator\n",
      "ibmqx2\n",
      "ibmq_16_melbourne\n",
      "ibmq_vigo\n",
      "ibmq_ourense\n",
      "ibmq_valencia\n",
      "ibmq_armonk\n",
      "ibmq_athens\n",
      "ibmq_rome\n",
      "ibmq_santiago\n",
      "ibmq_bogota\n",
      "ibmq_casablanca\n"
     ]
    }
   ],
   "source": [
    "number_W = 2\n",
    "beta = 1\n",
    "\n",
    "provider = IBMQ.get_provider(hub='ibm-q-research', group='Pablo-Antonio-Mo', project='main') \n",
    "print(provider)\n",
    "backends = provider.backends()\n",
    "for backend in backends:\n",
    "    print(backend.name())\n",
    "    \n",
    "backend = provider.backends(name = 'ibmq_casablanca')[0]\n",
    "properties = backend.properties() \n",
    "coupling_map = backend.configuration().coupling_map\n",
    "#backend = FakeYorktown()\n"
   ]
  },
  {
   "cell_type": "code",
   "execution_count": 4,
   "metadata": {},
   "outputs": [
    {
     "data": {
      "text/plain": [
       "<IBMQBackend('ibmq_casablanca') from IBMQ(hub='ibm-q-research', group='Pablo-Antonio-Mo', project='main')>"
      ]
     },
     "execution_count": 4,
     "metadata": {},
     "output_type": "execute_result"
    }
   ],
   "source": [
    "backend"
   ]
  },
  {
   "cell_type": "code",
   "execution_count": 5,
   "metadata": {},
   "outputs": [
    {
     "name": "stdout",
     "output_type": "stream",
     "text": [
      "16\n",
      "corrected ------------------\n",
      "000 0.27042123529724904\n",
      "001 26.032737333542684\n",
      "010 0.24282032166763656\n",
      "011 -26.032737333542684\n",
      "100 -0.27042123529724904\n",
      "101 26.00513641991307\n",
      "110 -0.24282032166763656\n",
      "111 -26.00513641991307\n"
     ]
    }
   ],
   "source": [
    "import json\n",
    "with open('delta_energies_glycylglycine_1_hardware.json') as json_file:\n",
    "    data = json.load(json_file)\n",
    "\n",
    "deltas_dictionary = data['deltas']\n",
    "deltas_dictionary = OrderedDict(sorted(deltas_dictionary.items()))\n",
    "print(len(deltas_dictionary))\n",
    "deltas = {}\n",
    "for (key,value) in deltas_dictionary.items():\n",
    "    deltas[key[:3]] = value\n",
    "    #print(key,value)\n",
    "print('corrected ------------------')\n",
    "for (key,value) in deltas.items():\n",
    "    print(key, value)"
   ]
  },
  {
   "cell_type": "code",
   "execution_count": 6,
   "metadata": {},
   "outputs": [],
   "source": [
    "# Bitmap calculation\n",
    "def calculate_angles(deltas_dictionary, beta = 1, scaling_factor = 1000):\n",
    "    \n",
    "    exact_angles = {}\n",
    "\n",
    "    for key in deltas_dictionary.keys():\n",
    "\n",
    "        if deltas_dictionary[key] >= 0:\n",
    "\n",
    "            if scaling_factor == -1:\n",
    "                probability = math.exp(-beta * deltas_dictionary[key])\n",
    "            else:\n",
    "                probability = math.exp(-scaling_factor* beta * deltas_dictionary[key])\n",
    "        else: \n",
    "            probability = 1\n",
    "        # Instead of encoding the angle corresponding to the probability, we will encode the angle theta such that sin^2(pi/2 - theta) = probability.\n",
    "        # That way 1 -> 000, but if probability is 0 there is some small probability of acceptance\n",
    "\n",
    "        # Instead of probability save angles so rotations are easier to perform afterwards sqrt(p) = sin(pi/2-theta/2).\n",
    "        # The theta/2 is because if you input theta, qiskits rotates theta/2. Also normalised (divided between pi the result)\n",
    "        exact_angles[key] = math.pi - 2 * math.asin(math.sqrt(probability))\n",
    "\n",
    "\n",
    "    # Order angles by key\n",
    "    exact_angles = OrderedDict(sorted(exact_angles.items()))\n",
    "\n",
    "    return exact_angles"
   ]
  },
  {
   "cell_type": "markdown",
   "metadata": {},
   "source": [
    "Let us have some error correction in place"
   ]
  },
  {
   "cell_type": "code",
   "execution_count": 7,
   "metadata": {
    "scrolled": true
   },
   "outputs": [
    {
     "data": {
      "image/png": "[encoded data removed]",
      "text/plain": [
       "<Figure size 432x288 with 2 Axes>"
      ]
     },
     "metadata": {
      "needs_background": "light"
     },
     "output_type": "display_data"
    }
   ],
   "source": [
    "# Generate the calibration circuits\n",
    "coin = QuantumRegister(1, name = 'coin')\n",
    "move_id  = QuantumRegister(1, name = 'move_id')\n",
    "angle_psi = QuantumRegister(1, name = 'angle_psi')\n",
    "angle_phi = QuantumRegister(1, name = 'angle_phi')\n",
    "# By order those qubits will be qr[0], qr[1], qr[2] abnd qr[3]\n",
    "\n",
    "\n",
    "#qubit_list = [angle_phi[0], angle_psi[0], move_id[0], coin[0]]\n",
    "qr = qiskit.QuantumRegister(4)\n",
    "qubit_list = [0,1,2,3]\n",
    "#\n",
    "meas_calibs, state_labels = complete_meas_cal(qubit_list=qubit_list, qr = qr, circlabel='mcal')\n",
    "\n",
    "layout = {3: qr[3], 6: qr[2], 4: qr[1], 5: qr[0]}\n",
    "# layout = {2: angle_psi[0], 3: angle_phi[0], 1: coin[0], 0: move_id[0]} # This is another possible configuration\n",
    "job = qiskit.execute(meas_calibs, backend=backend, shots=1024, initial_layout=layout)\n",
    "cal_results = job.result()\n",
    "\n",
    "# Calculate the calibration matrix with the noise model\n",
    "meas_fitter = CompleteMeasFitter(cal_results, state_labels, qubit_list=qubit_list, circlabel='mcal')\n",
    "\n",
    "# Plot the calibration matrix\n",
    "meas_fitter.plot_calibration()"
   ]
  },
  {
   "cell_type": "markdown",
   "metadata": {},
   "source": [
    "Let us first construct the substitute of the oracle"
   ]
  },
  {
   "cell_type": "code",
   "execution_count": 8,
   "metadata": {},
   "outputs": [
    {
     "name": "stdout",
     "output_type": "stream",
     "text": [
      "OrderedDict([('000', 0.328149137182979), ('001', 2.5904722228055745), ('010', 0.3110236124064589), ('011', 0.0), ('100', 0.0), ('101', 2.58969121534896), ('110', 0.0), ('111', 0.0)])\n"
     ]
    }
   ],
   "source": [
    "angles = calculate_angles(deltas_dictionary = deltas, beta = .1, scaling_factor = 1)\n",
    "print(angles)\n",
    "def hardware_GG_1_coin_flip(circuit,coin,move_id,angle_psi,angle_phi,angles,inv,iteration,beta):\n",
    "    '''Warning! This only works for GG 1 in hardware mode. Do not use elsewhere!'''\n",
    "    # First we have to identify the non-zero angles. For the rest we accept with probability 1\n",
    "    circuit.x(coin)\n",
    "    '''\n",
    "    Since the angles from 001 and 101 ~= 2.59; and those from 010 and 000 ~= 0.32 (when beta = .1, \n",
    "    but they'll always be similar nevertheless), we will perform those rotations together\n",
    "    '''\n",
    "    non_zero_angles = {}\n",
    "    non_zero_angles['0x0'] = (angles['000']+angles['010'])/2\n",
    "    non_zero_angles['x01'] = (angles['001']+angles['101'])/2\n",
    "    \n",
    "    # Let us first perform the first\n",
    "    circuit.x(angle_phi)\n",
    "    circuit.x(move_id)\n",
    "    circuit.mcrx(theta = -inv*non_zero_angles['0x0'],\n",
    "                 q_controls = [move_id[0],angle_phi[0]], q_target = coin[0], use_basis_gates=True)\n",
    "    circuit.x(angle_phi)\n",
    "    circuit.x(move_id)\n",
    "    \n",
    "    # Let us perform the second\n",
    "    circuit.x(angle_psi)\n",
    "    circuit.mcrx(theta = -inv*non_zero_angles['x01'],\n",
    "                 q_controls = [move_id[0],angle_psi[0]], q_target = coin[0], use_basis_gates=True)\n",
    "    circuit.x(angle_psi)"
   ]
  },
  {
   "cell_type": "markdown",
   "metadata": {},
   "source": [
    "The quantum Walk is composed of several parts, $$W = R V^\\dagger B^\\dagger F B V,$$\n",
    "where $V$ prepares possible moves, $B$ is the Boltzmann coin, $F$ the coin flip, and $R$ a reflection of all registers except the state one over state $\\ket{0}$. The first thing we do is prepare the oracle\n"
   ]
  },
  {
   "cell_type": "code",
   "execution_count": 9,
   "metadata": {},
   "outputs": [],
   "source": [
    "def W_step(qc,coin,move_id,angle_psi,angle_phi,angles,iteration,beta): \n",
    "    # Perform the preparation of possible moves----\n",
    "    qc.h(move_id)\n",
    "\n",
    "    # Prepare the Boltzmann coin ------------------\n",
    "    #new_coin_flip(qc,coin,move_id,angle_psi,angle_phi,angles,inverse = 1)\n",
    "    #map_dependent_coin_flip(qc,ancilla,coin,move_id,angle_psi,angle_phi,angles,1)\n",
    "    hardware_GG_1_coin_flip(qc,coin,move_id,angle_psi,angle_phi,angles,inv = 1,iteration=iteration,beta = beta)\n",
    "    \n",
    "    # Perform move ---------------------------------\n",
    "    # For the second angle\n",
    "    qc.ccx(coin,move_id,angle_psi)\n",
    "\n",
    "    # For the first angle\n",
    "    qc.x(move_id)\n",
    "    qc.ccx(coin,move_id,angle_phi)\n",
    "    qc.x(move_id)\n",
    "\n",
    "    if iteration == 0:\n",
    "        # Unprepare the Boltzmann coin--------------------\n",
    "        #new_coin_flip(qc,coin,move_id,angle_psi,angle_phi,angles,inverse = -1)\n",
    "        #map_dependent_coin_flip(qc,ancilla,coin,move_id,angle_psi,angle_phi,angles,-1)\n",
    "        hardware_GG_1_coin_flip(qc,coin,move_id,angle_psi,angle_phi,angles,inv = -1,iteration=0,beta = beta)\n",
    "\n",
    "        # Perform the preparation of possible moves ----\n",
    "        qc.h(move_id)\n",
    "\n",
    "        #Reflection -------------------------------------\n",
    "        qc.x(move_id)\n",
    "        qc.x(coin)\n",
    "\n",
    "        # Perform a multicontrolled Z\n",
    "        qc.cz(move_id,coin)\n",
    "\n",
    "        qc.x(move_id)\n",
    "        qc.x(coin)"
   ]
  },
  {
   "cell_type": "markdown",
   "metadata": {},
   "source": [
    "Running the model on a backend"
   ]
  },
  {
   "cell_type": "code",
   "execution_count": 22,
   "metadata": {
    "scrolled": true
   },
   "outputs": [],
   "source": [
    "def exe(raw_counts = None, mitigated_counts  = None, beta = 1, attemps = 1):\n",
    "    \n",
    "    angles = calculate_angles(deltas_dictionary = deltas, beta = beta, scaling_factor = 1)\n",
    "    \n",
    "    move_id  = QuantumRegister(1)\n",
    "    angle_phi = QuantumRegister(1)\n",
    "    angle_psi = QuantumRegister(1)\n",
    "    coin = QuantumRegister(1)\n",
    "    c_reg = ClassicalRegister(4)\n",
    "    qc = QuantumCircuit(coin,move_id,angle_psi,angle_phi,c_reg)\n",
    "\n",
    "    #Circuit ----------\n",
    "    qc.h(angle_phi)\n",
    "    qc.h(angle_psi)\n",
    "    for i in [1]:#range(number_W):\n",
    "        W_step(qc,coin,move_id,angle_psi,angle_phi,angles,i,beta = beta)\n",
    "\n",
    "    # Measure\n",
    "    qc.measure(range(4), range(4))\n",
    "\n",
    "    # Transpiling -------\n",
    "\n",
    "    #layout = {5: angle_phi[0], 6: angle_psi[0], 4: move_id[0], 5: coin[0]}\n",
    "    layout = {2: angle_psi[0], 3: angle_phi[0], 1: coin[0], 0: move_id[0]} \n",
    "    qc = transpile(qc, backend = backend, seed_transpiler=1, optimization_level=3, initial_layout=layout, basis_gates = ['u1', 'u2', 'u3', 'cx'])\n",
    "    print('After optimization--------')\n",
    "    print('gates = ', qc.count_ops())\n",
    "    print('depth = ', qc.depth())\n",
    "\n",
    "    job = execute(qc, backend, shots=8192)\n",
    "    results = job.result()\n",
    "    \n",
    "    print('time taken:',results.time_taken )\n",
    "\n",
    "    # Results without mitigation\n",
    "    if raw_counts == None:\n",
    "        raw_counts = results.get_counts()\n",
    "    else:\n",
    "        new_raw = results.get_counts()\n",
    "        for key in raw_counts:\n",
    "            raw_counts[key] += new_raw[key]\n",
    "\n",
    "\n",
    "    # Get the filter object\n",
    "    meas_filter = meas_fitter.filter\n",
    "\n",
    "    # Results with mitigation\n",
    "    mitigated_results = meas_filter.apply(results)\n",
    "    if mitigated_counts == None:\n",
    "        mitigated_counts = mitigated_results.get_counts()\n",
    "    else:\n",
    "        new_miti = mitigated_results.get_counts()\n",
    "        for key in mitigated_counts:\n",
    "            mitigated_counts[key] += new_miti[key]\n",
    "            \n",
    "    return raw_counts, mitigated_counts\n",
    "\n",
    "#raw_counts, mitigated_counts = exe(beta = .1)"
   ]
  },
  {
   "cell_type": "markdown",
   "metadata": {},
   "source": [
    "plot_histogram([raw_counts, mitigated_counts], legend=['raw', 'mitigated'], color = ['red','orange'])"
   ]
  },
  {
   "cell_type": "code",
   "execution_count": 12,
   "metadata": {},
   "outputs": [],
   "source": [
    "def calc_probabilities(counts):\n",
    "    'Calculates the probabilities when measuring the first two qubits'\n",
    "    new_counts = {}\n",
    "    for i in ['00','01','10','11']:\n",
    "        new_counts[i] = 0\n",
    "    for item in counts:\n",
    "        new_counts[item[0] + item[1]] += counts[item]\n",
    "    return new_counts"
   ]
  },
  {
   "cell_type": "markdown",
   "metadata": {},
   "source": [
    "Let us try some other kind of mitigation of error, using mitiq: https://mitiq.readthedocs.io/en/stable/guide/guide-ibmq-backends.html"
   ]
  },
  {
   "cell_type": "code",
   "execution_count": 13,
   "metadata": {},
   "outputs": [
    {
     "data": {
      "text/plain": [
       "\"miti= {}\\nmiti['11'] = 0\\nmiti['00'] = mitiq.execute_with_zne(circ_generator(beta = beta), backend_executor)\\nmiti['01'] = 0\\nmiti['10'] = 0\\nprint(miti['00'])\""
      ]
     },
     "execution_count": 13,
     "metadata": {},
     "output_type": "execute_result"
    }
   ],
   "source": [
    "def backend_executor(circuit: QuantumCircuit, shots: int = 8192) -> float:\n",
    "    \"\"\"Returns the expectation value to be mitigated.\n",
    "\n",
    "    Args:\n",
    "        circuit: Circuit to run.\n",
    "        shots: Number of times to execute the circuit to compute the expectation value.\n",
    "    \"\"\"\n",
    "    # (1) Add measurements to the circuit\n",
    "    #circuit.measure(circuit.qregs[0], circuit.cregs[0])\n",
    "\n",
    "    # (2) Run the circuit\n",
    "    job = qiskit.execute(\n",
    "        experiments=circuit,\n",
    "        backend=backend,\n",
    "        optimization_level=0,  # Important!\n",
    "        shots=shots\n",
    "    )\n",
    "\n",
    "    # (3) Convert from raw measurement counts to the expectation value\n",
    "    counts = job.result().get_counts()\n",
    "    print(counts)\n",
    "    if counts.get(\"0 0\") is None:\n",
    "        expectation_value = 0.\n",
    "    else:\n",
    "        expectation_value = counts.get(\"0 0\") / shots\n",
    "    return expectation_value\n",
    "\n",
    "# The circuit ------------------------------------------------------------------------------\n",
    "def circ_generator(beta = beta):\n",
    "    move_id  = QuantumRegister(1)\n",
    "    angle_phi = QuantumRegister(1)\n",
    "    angle_psi = QuantumRegister(1)\n",
    "    coin = QuantumRegister(1)\n",
    "    c_reg = ClassicalRegister(4)\n",
    "    qc = QuantumCircuit(coin,move_id,angle_psi,angle_phi,c_reg)\n",
    "\n",
    "    number_W = 2 # Parameter\n",
    "\n",
    "    #Circuit ----------\n",
    "    qc.h(angle_phi)\n",
    "    qc.h(angle_psi)\n",
    "    for i in [1]:#range(number_W):\n",
    "        W_step(qc,coin,move_id,angle_psi,angle_phi,angles,i,beta = beta)\n",
    "\n",
    "    # Measure\n",
    "    qc.measure([2,3], [2,3])\n",
    "\n",
    "    # Transpiling -------\n",
    "    layout = {3: angle_phi[0], 6: angle_psi[0], 4: move_id[0], 5: coin[0]}\n",
    "    qc = transpile(qc, backend = backend, seed_transpiler=1, optimization_level=3, initial_layout=layout, basis_gates = ['u1', 'u2', 'u3', 'cx'])\n",
    "    print('After optimization--------')\n",
    "    print('gates = ', qc.count_ops())\n",
    "    print('depth = ', qc.depth())\n",
    "    return qc\n",
    "    \n",
    "# Executing the mitigation ----------------------------------------------------------\n",
    "'''miti= {}\n",
    "miti['11'] = 0\n",
    "miti['00'] = mitiq.execute_with_zne(circ_generator(beta = beta), backend_executor)\n",
    "miti['01'] = 0\n",
    "miti['10'] = 0\n",
    "print(miti['00'])'''"
   ]
  },
  {
   "cell_type": "code",
   "execution_count": null,
   "metadata": {},
   "outputs": [],
   "source": []
  },
  {
   "cell_type": "markdown",
   "metadata": {},
   "source": [
    "from mitiq.mitiq_qiskit.conversions import to_qiskit\n",
    "#from mitiq.mitiq_qiskit.qiskit_utils import random_identity_circuit\n",
    "from mitiq.zne.scaling import fold_gates_at_random\n",
    "from mitiq.zne.scaling import fold_local\n",
    "\n",
    "scale_factors = [1., 1.5, 2., 2.5, 3.]\n",
    "folded_circuits = [\n",
    "        mitiq.zne.scaling.fold_local(\n",
    "        qc, scale, method=mitiq.zne.scaling.fold_gates_at_random\n",
    "    ) for scale in scale_factors\n",
    "]\n",
    "for folded_circuit in folded_circuits:\n",
    "    folded_circuit.measure([qreg for qreg in folded_circuit.qregs if (qreg.name == 'angle_psi' or qreg.name == 'angle_phi')], \n",
    "                           folded_circuit.cregs[3:])\n",
    "job = qiskit.execute(\n",
    "   experiments=folded_circuits,\n",
    "   backend=backend,\n",
    "   optimization_level=0,  # Important!\n",
    "   shots=shots\n",
    ")\n",
    "all_counts = [job.result().get_counts(i) for i in range(len(folded_circuits))]\n",
    "expectation_values = [counts.get() / shots for counts in all_counts]\n",
    "print(expectation_values)\n",
    "\n",
    "fac = mitiq.zne.inference.LinearFactory(scale_factors)\n",
    "fac.instack, fac.outstack = scale_factors, expectation_values\n",
    "zero_noise_value = fac.reduce()\n",
    "print(\"Extrapolated zero-noise value:\", round(zero_noise_value, 3))\n"
   ]
  },
  {
   "cell_type": "markdown",
   "metadata": {},
   "source": [
    "The same circuit without error can be seen in"
   ]
  },
  {
   "cell_type": "code",
   "execution_count": 14,
   "metadata": {
    "scrolled": false
   },
   "outputs": [],
   "source": [
    "def exe_noiseless(beta = beta):\n",
    "    \n",
    "    angles = calculate_angles(deltas_dictionary = deltas, beta = beta, scaling_factor = 1)\n",
    "    \n",
    "    move_id  = QuantumRegister(1, name = 'move_id')\n",
    "    angle_phi = QuantumRegister(1, name = 'angle_phi')\n",
    "    angle_psi = QuantumRegister(1, name = 'angle_psi')\n",
    "    coin = QuantumRegister(1, name = 'coin')\n",
    "    c_reg = ClassicalRegister(4)\n",
    "    aerqc = QuantumCircuit(coin,move_id,angle_psi,angle_phi,c_reg)\n",
    "\n",
    "    #Circuit ----------\n",
    "    aerqc.h(angle_phi)\n",
    "    aerqc.h(angle_psi)\n",
    "    for i in [1]:#range(number_W):\n",
    "        W_step(aerqc,coin,move_id,angle_psi,angle_phi,angles,i,beta)\n",
    "\n",
    "    # Measure\n",
    "    aerbackend = Aer.get_backend('statevector_simulator')\n",
    "    backend_options = {\"method\" : \"statevector\"}\n",
    "    experiment = execute(aerqc, aerbackend, backend_options=backend_options)\n",
    "    state_vector = Statevector(experiment.result().get_statevector(aerqc))\n",
    "\n",
    "    probabilities = state_vector.probabilities([3,2])\n",
    "    noiseless_counts = {}\n",
    "    noiseless_counts['00'] = float(probabilities[0])\n",
    "    noiseless_counts['01'] = float(probabilities[1])\n",
    "    noiseless_counts['10'] = float(probabilities[2])\n",
    "    noiseless_counts['11'] = float(probabilities[3])\n",
    "\n",
    "    return noiseless_counts\n",
    "    #plot_histogram(noiseless_counts)\n",
    "#noiseless_counts = exe_noiseless(beta = beta)"
   ]
  },
  {
   "cell_type": "code",
   "execution_count": 15,
   "metadata": {},
   "outputs": [],
   "source": [
    "#plot_histogram([calc_probabilities(raw_counts), calc_probabilities(mitigated_counts),miti,noiseless_counts], legend=['raw', 'mitigated','mitiq','noiseless'], color = ['red','orange','yellow','green'])\n",
    "#plot_histogram([calc_probabilities(raw_counts), calc_probabilities(mitigated_counts),noiseless_counts], legend=['raw', 'mitigated','noiseless'], color = ['red','orange','green'])"
   ]
  },
  {
   "cell_type": "markdown",
   "metadata": {},
   "source": [
    "for beta in [0,0.1,1,10,100000]:\n",
    "    raw_counts, mitigated_counts = exe(beta = beta)\n",
    "    noiseless_counts = exe_noiseless(beta = beta)\n",
    "    plot = plot_histogram([calc_probabilities(raw_counts), \n",
    "                    calc_probabilities(mitigated_counts),\n",
    "                    noiseless_counts], \n",
    "                   legend=['raw', 'mitigated','noiseless'], color = ['red','orange','green'])\n",
    "    \n",
    "    plot.savefig('histogram'+str(beta)+'.png')\n",
    "    plot.show()"
   ]
  },
  {
   "cell_type": "code",
   "execution_count": 16,
   "metadata": {
    "scrolled": true
   },
   "outputs": [
    {
     "name": "stdout",
     "output_type": "stream",
     "text": [
      "After optimization--------\n",
      "gates =  OrderedDict([('u2', 29), ('cx', 25), ('u3', 9), ('u1', 7), ('measure', 4), ('barrier', 1)])\n",
      "depth =  48\n"
     ]
    },
    {
     "name": "stderr",
     "output_type": "stream",
     "text": [
      "/opt/conda/lib/python3.7/site-packages/ipykernel_launcher.py:21: DeprecationWarning: Using `backend_options` kwarg has been deprecated as of qiskit-aer 0.7.0 and will be removed no earlier than 3 months from that release date. Runtime backend options should now be added directly using kwargs for each option.\n"
     ]
    },
    {
     "name": "stdout",
     "output_type": "stream",
     "text": [
      "After optimization--------\n",
      "gates =  OrderedDict([('cx', 47), ('u2', 38), ('u3', 16), ('u1', 10), ('measure', 2), ('barrier', 1)])\n",
      "depth =  80\n",
      "{'0 0': 2150, '0 1': 1880, '1 0': 2308, '1 1': 1854}\n",
      "{'0 0': 1752, '0 1': 2171, '1 0': 1918, '1 1': 2351}\n",
      "{'0 0': 1557, '0 1': 2510, '1 0': 1604, '1 1': 2521}\n",
      "0.33581542968749983\n"
     ]
    },
    {
     "data": {
      "image/png": "[encoded data removed]",
      "text/plain": [
       "<Figure size 504x360 with 1 Axes>"
      ]
     },
     "execution_count": 16,
     "metadata": {},
     "output_type": "execute_result"
    }
   ],
   "source": [
    "beta = 0\n",
    "raw_counts, mitigated_counts = exe(beta = beta)\n",
    "noiseless_counts = exe_noiseless(beta = beta)\n",
    "# Executing the mitigation ----------------------------------------------------------\n",
    "miti = {}\n",
    "for i in range(4):\n",
    "    miti[np.binary_repr(i,width = 2)] = 0\n",
    "    \n",
    "miti['00'] = mitiq.execute_with_zne(circ_generator(beta = beta), backend_executor)\n",
    "\n",
    "print(miti['00'])\n",
    "plot = plot_histogram([calc_probabilities(raw_counts), \n",
    "                calc_probabilities(mitigated_counts),\n",
    "                miti,noiseless_counts], \n",
    "               legend=['raw', 'mitigated','mitiq','noiseless'], color = ['red','orange','blue','green'])\n",
    "\n",
    "plot.savefig('histogram_hardware_GG1_1step_'+str(beta)+'.png')\n",
    "plot"
   ]
  },
  {
   "cell_type": "code",
   "execution_count": 23,
   "metadata": {},
   "outputs": [
    {
     "name": "stdout",
     "output_type": "stream",
     "text": [
      "After optimization--------\n",
      "gates =  OrderedDict([('cx', 41), ('u2', 37), ('u3', 17), ('u1', 7), ('measure', 4), ('barrier', 1)])\n",
      "depth =  72\n",
      "time taken: 32.484755992889404\n"
     ]
    },
    {
     "name": "stderr",
     "output_type": "stream",
     "text": [
      "/opt/conda/lib/python3.7/site-packages/ipykernel_launcher.py:21: DeprecationWarning: Using `backend_options` kwarg has been deprecated as of qiskit-aer 0.7.0 and will be removed no earlier than 3 months from that release date. Runtime backend options should now be added directly using kwargs for each option.\n"
     ]
    },
    {
     "name": "stdout",
     "output_type": "stream",
     "text": [
      "After optimization--------\n",
      "gates =  OrderedDict([('cx', 47), ('u2', 38), ('u3', 16), ('u1', 10), ('measure', 2), ('barrier', 1)])\n",
      "depth =  80\n",
      "{'0 0': 2496, '0 1': 2070, '1 0': 1996, '1 1': 1630}\n"
     ]
    },
    {
     "ename": "KeyboardInterrupt",
     "evalue": "",
     "output_type": "error",
     "traceback": [
      "\u001b[0;31m---------------------------------------------------------------------------\u001b[0m",
      "\u001b[0;31mKeyboardInterrupt\u001b[0m                         Traceback (most recent call last)",
      "\u001b[0;32m<ipython-input-23-eddf11ecc962>\u001b[0m in \u001b[0;36m<module>\u001b[0;34m\u001b[0m\n\u001b[1;32m      7\u001b[0m     \u001b[0mmiti\u001b[0m\u001b[0;34m[\u001b[0m\u001b[0mnp\u001b[0m\u001b[0;34m.\u001b[0m\u001b[0mbinary_repr\u001b[0m\u001b[0;34m(\u001b[0m\u001b[0mi\u001b[0m\u001b[0;34m,\u001b[0m\u001b[0mwidth\u001b[0m \u001b[0;34m=\u001b[0m \u001b[0;36m2\u001b[0m\u001b[0;34m)\u001b[0m\u001b[0;34m]\u001b[0m \u001b[0;34m=\u001b[0m \u001b[0;36m0\u001b[0m\u001b[0;34m\u001b[0m\u001b[0;34m\u001b[0m\u001b[0m\n\u001b[1;32m      8\u001b[0m \u001b[0;34m\u001b[0m\u001b[0m\n\u001b[0;32m----> 9\u001b[0;31m \u001b[0mmiti\u001b[0m\u001b[0;34m[\u001b[0m\u001b[0;34m'00'\u001b[0m\u001b[0;34m]\u001b[0m \u001b[0;34m=\u001b[0m \u001b[0mmitiq\u001b[0m\u001b[0;34m.\u001b[0m\u001b[0mexecute_with_zne\u001b[0m\u001b[0;34m(\u001b[0m\u001b[0mcirc_generator\u001b[0m\u001b[0;34m(\u001b[0m\u001b[0mbeta\u001b[0m \u001b[0;34m=\u001b[0m \u001b[0mbeta\u001b[0m\u001b[0;34m)\u001b[0m\u001b[0;34m,\u001b[0m \u001b[0mbackend_executor\u001b[0m\u001b[0;34m)\u001b[0m\u001b[0;34m\u001b[0m\u001b[0;34m\u001b[0m\u001b[0m\n\u001b[0m\u001b[1;32m     10\u001b[0m \u001b[0;34m\u001b[0m\u001b[0m\n\u001b[1;32m     11\u001b[0m \u001b[0mprint\u001b[0m\u001b[0;34m(\u001b[0m\u001b[0mmiti\u001b[0m\u001b[0;34m[\u001b[0m\u001b[0;34m'00'\u001b[0m\u001b[0;34m]\u001b[0m\u001b[0;34m)\u001b[0m\u001b[0;34m\u001b[0m\u001b[0;34m\u001b[0m\u001b[0m\n",
      "\u001b[0;32m/opt/conda/lib/python3.7/site-packages/mitiq/zne/zne.py\u001b[0m in \u001b[0;36mexecute_with_zne\u001b[0;34m(qp, executor, factory, scale_noise, num_to_average)\u001b[0m\n\u001b[1;32m     60\u001b[0m         \u001b[0;32mraise\u001b[0m \u001b[0mValueError\u001b[0m\u001b[0;34m(\u001b[0m\u001b[0;34m\"Argument `num_to_average` must be a positive int.\"\u001b[0m\u001b[0;34m)\u001b[0m\u001b[0;34m\u001b[0m\u001b[0;34m\u001b[0m\u001b[0m\n\u001b[1;32m     61\u001b[0m \u001b[0;34m\u001b[0m\u001b[0m\n\u001b[0;32m---> 62\u001b[0;31m     \u001b[0;32mreturn\u001b[0m \u001b[0mfactory\u001b[0m\u001b[0;34m.\u001b[0m\u001b[0mrun\u001b[0m\u001b[0;34m(\u001b[0m\u001b[0mqp\u001b[0m\u001b[0;34m,\u001b[0m \u001b[0mexecutor\u001b[0m\u001b[0;34m,\u001b[0m \u001b[0mscale_noise\u001b[0m\u001b[0;34m,\u001b[0m \u001b[0mint\u001b[0m\u001b[0;34m(\u001b[0m\u001b[0mnum_to_average\u001b[0m\u001b[0;34m)\u001b[0m\u001b[0;34m)\u001b[0m\u001b[0;34m.\u001b[0m\u001b[0mreduce\u001b[0m\u001b[0;34m(\u001b[0m\u001b[0;34m)\u001b[0m\u001b[0;34m\u001b[0m\u001b[0;34m\u001b[0m\u001b[0m\n\u001b[0m\u001b[1;32m     63\u001b[0m \u001b[0;34m\u001b[0m\u001b[0m\n\u001b[1;32m     64\u001b[0m \u001b[0;34m\u001b[0m\u001b[0m\n",
      "\u001b[0;32m/opt/conda/lib/python3.7/site-packages/mitiq/zne/inference.py\u001b[0m in \u001b[0;36mrun\u001b[0;34m(self, qp, executor, scale_noise, num_to_average, max_iterations)\u001b[0m\n\u001b[1;32m    303\u001b[0m             \u001b[0;32mreturn\u001b[0m \u001b[0mnp\u001b[0m\u001b[0;34m.\u001b[0m\u001b[0maverage\u001b[0m\u001b[0;34m(\u001b[0m\u001b[0mexpectation_values\u001b[0m\u001b[0;34m)\u001b[0m\u001b[0;34m\u001b[0m\u001b[0;34m\u001b[0m\u001b[0m\n\u001b[1;32m    304\u001b[0m \u001b[0;34m\u001b[0m\u001b[0m\n\u001b[0;32m--> 305\u001b[0;31m         \u001b[0;32mreturn\u001b[0m \u001b[0mself\u001b[0m\u001b[0;34m.\u001b[0m\u001b[0miterate\u001b[0m\u001b[0;34m(\u001b[0m\u001b[0m_noise_to_expval\u001b[0m\u001b[0;34m,\u001b[0m \u001b[0mmax_iterations\u001b[0m\u001b[0;34m)\u001b[0m\u001b[0;34m\u001b[0m\u001b[0;34m\u001b[0m\u001b[0m\n\u001b[0m\u001b[1;32m    306\u001b[0m \u001b[0;34m\u001b[0m\u001b[0m\n\u001b[1;32m    307\u001b[0m     \u001b[0;32mdef\u001b[0m \u001b[0m__eq__\u001b[0m\u001b[0;34m(\u001b[0m\u001b[0mself\u001b[0m\u001b[0;34m,\u001b[0m \u001b[0mother\u001b[0m\u001b[0;34m:\u001b[0m \u001b[0mAny\u001b[0m\u001b[0;34m)\u001b[0m \u001b[0;34m->\u001b[0m \u001b[0mbool\u001b[0m\u001b[0;34m:\u001b[0m\u001b[0;34m\u001b[0m\u001b[0;34m\u001b[0m\u001b[0m\n",
      "\u001b[0;32m/opt/conda/lib/python3.7/site-packages/mitiq/zne/inference.py\u001b[0m in \u001b[0;36miterate\u001b[0;34m(self, noise_to_expval, max_iterations)\u001b[0m\n\u001b[1;32m    256\u001b[0m             \u001b[0;31m# Get next scale factor and remove it from next_exec_params\u001b[0m\u001b[0;34m\u001b[0m\u001b[0;34m\u001b[0m\u001b[0;34m\u001b[0m\u001b[0m\n\u001b[1;32m    257\u001b[0m             \u001b[0mscale_factor\u001b[0m \u001b[0;34m=\u001b[0m \u001b[0mnext_exec_params\u001b[0m\u001b[0;34m.\u001b[0m\u001b[0mpop\u001b[0m\u001b[0;34m(\u001b[0m\u001b[0;34m\"scale_factor\"\u001b[0m\u001b[0;34m)\u001b[0m\u001b[0;34m\u001b[0m\u001b[0;34m\u001b[0m\u001b[0m\n\u001b[0;32m--> 258\u001b[0;31m             \u001b[0mnext_expval\u001b[0m \u001b[0;34m=\u001b[0m \u001b[0mnoise_to_expval\u001b[0m\u001b[0;34m(\u001b[0m\u001b[0mscale_factor\u001b[0m\u001b[0;34m,\u001b[0m \u001b[0;34m**\u001b[0m\u001b[0mnext_exec_params\u001b[0m\u001b[0;34m)\u001b[0m\u001b[0;34m\u001b[0m\u001b[0;34m\u001b[0m\u001b[0m\n\u001b[0m\u001b[1;32m    259\u001b[0m             \u001b[0mself\u001b[0m\u001b[0;34m.\u001b[0m\u001b[0mpush\u001b[0m\u001b[0;34m(\u001b[0m\u001b[0mnext_in_params\u001b[0m\u001b[0;34m,\u001b[0m \u001b[0mnext_expval\u001b[0m\u001b[0;34m)\u001b[0m\u001b[0;34m\u001b[0m\u001b[0;34m\u001b[0m\u001b[0m\n\u001b[1;32m    260\u001b[0m             \u001b[0mcounter\u001b[0m \u001b[0;34m+=\u001b[0m \u001b[0;36m1\u001b[0m\u001b[0;34m\u001b[0m\u001b[0;34m\u001b[0m\u001b[0m\n",
      "\u001b[0;32m/opt/conda/lib/python3.7/site-packages/mitiq/zne/inference.py\u001b[0m in \u001b[0;36m_noise_to_expval\u001b[0;34m(scale_factor, **exec_params)\u001b[0m\n\u001b[1;32m    300\u001b[0m             \u001b[0;32mfor\u001b[0m \u001b[0m_\u001b[0m \u001b[0;32min\u001b[0m \u001b[0mrange\u001b[0m\u001b[0;34m(\u001b[0m\u001b[0mnum_to_average\u001b[0m\u001b[0;34m)\u001b[0m\u001b[0;34m:\u001b[0m\u001b[0;34m\u001b[0m\u001b[0;34m\u001b[0m\u001b[0m\n\u001b[1;32m    301\u001b[0m                 \u001b[0mscaled_qp\u001b[0m \u001b[0;34m=\u001b[0m \u001b[0mscale_noise\u001b[0m\u001b[0;34m(\u001b[0m\u001b[0mqp\u001b[0m\u001b[0;34m,\u001b[0m \u001b[0mscale_factor\u001b[0m\u001b[0;34m)\u001b[0m\u001b[0;34m\u001b[0m\u001b[0;34m\u001b[0m\u001b[0m\n\u001b[0;32m--> 302\u001b[0;31m                 \u001b[0mexpectation_values\u001b[0m\u001b[0;34m.\u001b[0m\u001b[0mappend\u001b[0m\u001b[0;34m(\u001b[0m\u001b[0mexecutor\u001b[0m\u001b[0;34m(\u001b[0m\u001b[0mscaled_qp\u001b[0m\u001b[0;34m,\u001b[0m \u001b[0;34m**\u001b[0m\u001b[0mexec_params\u001b[0m\u001b[0;34m)\u001b[0m\u001b[0;34m)\u001b[0m\u001b[0;34m\u001b[0m\u001b[0;34m\u001b[0m\u001b[0m\n\u001b[0m\u001b[1;32m    303\u001b[0m             \u001b[0;32mreturn\u001b[0m \u001b[0mnp\u001b[0m\u001b[0;34m.\u001b[0m\u001b[0maverage\u001b[0m\u001b[0;34m(\u001b[0m\u001b[0mexpectation_values\u001b[0m\u001b[0;34m)\u001b[0m\u001b[0;34m\u001b[0m\u001b[0;34m\u001b[0m\u001b[0m\n\u001b[1;32m    304\u001b[0m \u001b[0;34m\u001b[0m\u001b[0m\n",
      "\u001b[0;32m<ipython-input-13-bfa5393cf438>\u001b[0m in \u001b[0;36mbackend_executor\u001b[0;34m(circuit, shots)\u001b[0m\n\u001b[1;32m     18\u001b[0m \u001b[0;34m\u001b[0m\u001b[0m\n\u001b[1;32m     19\u001b[0m     \u001b[0;31m# (3) Convert from raw measurement counts to the expectation value\u001b[0m\u001b[0;34m\u001b[0m\u001b[0;34m\u001b[0m\u001b[0;34m\u001b[0m\u001b[0m\n\u001b[0;32m---> 20\u001b[0;31m     \u001b[0mcounts\u001b[0m \u001b[0;34m=\u001b[0m \u001b[0mjob\u001b[0m\u001b[0;34m.\u001b[0m\u001b[0mresult\u001b[0m\u001b[0;34m(\u001b[0m\u001b[0;34m)\u001b[0m\u001b[0;34m.\u001b[0m\u001b[0mget_counts\u001b[0m\u001b[0;34m(\u001b[0m\u001b[0;34m)\u001b[0m\u001b[0;34m\u001b[0m\u001b[0;34m\u001b[0m\u001b[0m\n\u001b[0m\u001b[1;32m     21\u001b[0m     \u001b[0mprint\u001b[0m\u001b[0;34m(\u001b[0m\u001b[0mcounts\u001b[0m\u001b[0;34m)\u001b[0m\u001b[0;34m\u001b[0m\u001b[0;34m\u001b[0m\u001b[0m\n\u001b[1;32m     22\u001b[0m     \u001b[0;32mif\u001b[0m \u001b[0mcounts\u001b[0m\u001b[0;34m.\u001b[0m\u001b[0mget\u001b[0m\u001b[0;34m(\u001b[0m\u001b[0;34m\"0 0\"\u001b[0m\u001b[0;34m)\u001b[0m \u001b[0;32mis\u001b[0m \u001b[0;32mNone\u001b[0m\u001b[0;34m:\u001b[0m\u001b[0;34m\u001b[0m\u001b[0;34m\u001b[0m\u001b[0m\n",
      "\u001b[0;32m/opt/conda/lib/python3.7/site-packages/qiskit/providers/ibmq/job/ibmqjob.py\u001b[0m in \u001b[0;36mresult\u001b[0;34m(self, timeout, wait, partial, refresh)\u001b[0m\n\u001b[1;32m    274\u001b[0m         \u001b[0;31m# pylint: disable=arguments-differ\u001b[0m\u001b[0;34m\u001b[0m\u001b[0;34m\u001b[0m\u001b[0;34m\u001b[0m\u001b[0m\n\u001b[1;32m    275\u001b[0m         if not self._wait_for_completion(timeout=timeout, wait=wait,\n\u001b[0;32m--> 276\u001b[0;31m                                          required_status=(JobStatus.DONE,)):\n\u001b[0m\u001b[1;32m    277\u001b[0m             \u001b[0;32mif\u001b[0m \u001b[0mself\u001b[0m\u001b[0;34m.\u001b[0m\u001b[0m_status\u001b[0m \u001b[0;32mis\u001b[0m \u001b[0mJobStatus\u001b[0m\u001b[0;34m.\u001b[0m\u001b[0mCANCELLED\u001b[0m\u001b[0;34m:\u001b[0m\u001b[0;34m\u001b[0m\u001b[0;34m\u001b[0m\u001b[0m\n\u001b[1;32m    278\u001b[0m                 raise IBMQJobInvalidStateError('Unable to retrieve result for job {}. '\n",
      "\u001b[0;32m/opt/conda/lib/python3.7/site-packages/qiskit/providers/ibmq/job/ibmqjob.py\u001b[0m in \u001b[0;36m_wait_for_completion\u001b[0;34m(self, timeout, wait, required_status, status_queue)\u001b[0m\n\u001b[1;32m    872\u001b[0m         \u001b[0;32mtry\u001b[0m\u001b[0;34m:\u001b[0m\u001b[0;34m\u001b[0m\u001b[0;34m\u001b[0m\u001b[0m\n\u001b[1;32m    873\u001b[0m             status_response = self._api_client.job_final_status(\n\u001b[0;32m--> 874\u001b[0;31m                 self.job_id(), timeout=timeout, wait=wait, status_queue=status_queue)\n\u001b[0m\u001b[1;32m    875\u001b[0m         \u001b[0;32mexcept\u001b[0m \u001b[0mUserTimeoutExceededError\u001b[0m\u001b[0;34m:\u001b[0m\u001b[0;34m\u001b[0m\u001b[0;34m\u001b[0m\u001b[0m\n\u001b[1;32m    876\u001b[0m             raise IBMQJobTimeoutError(\n",
      "\u001b[0;32m/opt/conda/lib/python3.7/site-packages/qiskit/providers/ibmq/api/clients/account.py\u001b[0m in \u001b[0;36mjob_final_status\u001b[0;34m(self, job_id, timeout, wait, status_queue)\u001b[0m\n\u001b[1;32m    359\u001b[0m             \u001b[0;32mtry\u001b[0m\u001b[0;34m:\u001b[0m\u001b[0;34m\u001b[0m\u001b[0;34m\u001b[0m\u001b[0m\n\u001b[1;32m    360\u001b[0m                 status_response = self._job_final_status_websocket(\n\u001b[0;32m--> 361\u001b[0;31m                     job_id=job_id, timeout=timeout, status_queue=status_queue)\n\u001b[0m\u001b[1;32m    362\u001b[0m             \u001b[0;32mexcept\u001b[0m \u001b[0mWebsocketTimeoutError\u001b[0m \u001b[0;32mas\u001b[0m \u001b[0mex\u001b[0m\u001b[0;34m:\u001b[0m\u001b[0;34m\u001b[0m\u001b[0;34m\u001b[0m\u001b[0m\n\u001b[1;32m    363\u001b[0m                 logger.info('Timeout checking job status using websocket, '\n",
      "\u001b[0;32m/opt/conda/lib/python3.7/site-packages/qiskit/providers/ibmq/api/clients/account.py\u001b[0m in \u001b[0;36m_job_final_status_websocket\u001b[0;34m(self, job_id, timeout, status_queue)\u001b[0m\n\u001b[1;32m    411\u001b[0m                 \u001b[0;32mraise\u001b[0m\u001b[0;34m\u001b[0m\u001b[0;34m\u001b[0m\u001b[0m\n\u001b[1;32m    412\u001b[0m         return loop.run_until_complete(\n\u001b[0;32m--> 413\u001b[0;31m             self.client_ws.get_job_status(job_id, timeout=timeout, status_queue=status_queue))\n\u001b[0m\u001b[1;32m    414\u001b[0m \u001b[0;34m\u001b[0m\u001b[0m\n\u001b[1;32m    415\u001b[0m     def _job_final_status_polling(\n",
      "\u001b[0;32m/opt/conda/lib/python3.7/site-packages/nest_asyncio.py\u001b[0m in \u001b[0;36mrun_until_complete\u001b[0;34m(self, future)\u001b[0m\n\u001b[1;32m     88\u001b[0m                 \u001b[0mf\u001b[0m\u001b[0;34m.\u001b[0m\u001b[0m_log_destroy_pending\u001b[0m \u001b[0;34m=\u001b[0m \u001b[0;32mFalse\u001b[0m\u001b[0;34m\u001b[0m\u001b[0;34m\u001b[0m\u001b[0m\n\u001b[1;32m     89\u001b[0m             \u001b[0;32mwhile\u001b[0m \u001b[0;32mnot\u001b[0m \u001b[0mf\u001b[0m\u001b[0;34m.\u001b[0m\u001b[0mdone\u001b[0m\u001b[0;34m(\u001b[0m\u001b[0;34m)\u001b[0m\u001b[0;34m:\u001b[0m\u001b[0;34m\u001b[0m\u001b[0;34m\u001b[0m\u001b[0m\n\u001b[0;32m---> 90\u001b[0;31m                 \u001b[0mself\u001b[0m\u001b[0;34m.\u001b[0m\u001b[0m_run_once\u001b[0m\u001b[0;34m(\u001b[0m\u001b[0;34m)\u001b[0m\u001b[0;34m\u001b[0m\u001b[0;34m\u001b[0m\u001b[0m\n\u001b[0m\u001b[1;32m     91\u001b[0m                 \u001b[0;32mif\u001b[0m \u001b[0mself\u001b[0m\u001b[0;34m.\u001b[0m\u001b[0m_stopping\u001b[0m\u001b[0;34m:\u001b[0m\u001b[0;34m\u001b[0m\u001b[0;34m\u001b[0m\u001b[0m\n\u001b[1;32m     92\u001b[0m                     \u001b[0;32mbreak\u001b[0m\u001b[0;34m\u001b[0m\u001b[0;34m\u001b[0m\u001b[0m\n",
      "\u001b[0;32m/opt/conda/lib/python3.7/site-packages/nest_asyncio.py\u001b[0m in \u001b[0;36m_run_once\u001b[0;34m(self)\u001b[0m\n\u001b[1;32m    114\u001b[0m             \u001b[0;32melse\u001b[0m \u001b[0;36m0.01\u001b[0m \u001b[0;32mif\u001b[0m \u001b[0mself\u001b[0m\u001b[0;34m.\u001b[0m\u001b[0m_is_proactorloop\u001b[0m\u001b[0;34m\u001b[0m\u001b[0;34m\u001b[0m\u001b[0m\n\u001b[1;32m    115\u001b[0m             else None)\n\u001b[0;32m--> 116\u001b[0;31m         \u001b[0mevent_list\u001b[0m \u001b[0;34m=\u001b[0m \u001b[0mself\u001b[0m\u001b[0;34m.\u001b[0m\u001b[0m_selector\u001b[0m\u001b[0;34m.\u001b[0m\u001b[0mselect\u001b[0m\u001b[0;34m(\u001b[0m\u001b[0mtimeout\u001b[0m\u001b[0;34m)\u001b[0m\u001b[0;34m\u001b[0m\u001b[0;34m\u001b[0m\u001b[0m\n\u001b[0m\u001b[1;32m    117\u001b[0m         \u001b[0mself\u001b[0m\u001b[0;34m.\u001b[0m\u001b[0m_process_events\u001b[0m\u001b[0;34m(\u001b[0m\u001b[0mevent_list\u001b[0m\u001b[0;34m)\u001b[0m\u001b[0;34m\u001b[0m\u001b[0;34m\u001b[0m\u001b[0m\n\u001b[1;32m    118\u001b[0m \u001b[0;34m\u001b[0m\u001b[0m\n",
      "\u001b[0;32m/opt/conda/lib/python3.7/selectors.py\u001b[0m in \u001b[0;36mselect\u001b[0;34m(self, timeout)\u001b[0m\n\u001b[1;32m    466\u001b[0m             \u001b[0mready\u001b[0m \u001b[0;34m=\u001b[0m \u001b[0;34m[\u001b[0m\u001b[0;34m]\u001b[0m\u001b[0;34m\u001b[0m\u001b[0;34m\u001b[0m\u001b[0m\n\u001b[1;32m    467\u001b[0m             \u001b[0;32mtry\u001b[0m\u001b[0;34m:\u001b[0m\u001b[0;34m\u001b[0m\u001b[0;34m\u001b[0m\u001b[0m\n\u001b[0;32m--> 468\u001b[0;31m                 \u001b[0mfd_event_list\u001b[0m \u001b[0;34m=\u001b[0m \u001b[0mself\u001b[0m\u001b[0;34m.\u001b[0m\u001b[0m_selector\u001b[0m\u001b[0;34m.\u001b[0m\u001b[0mpoll\u001b[0m\u001b[0;34m(\u001b[0m\u001b[0mtimeout\u001b[0m\u001b[0;34m,\u001b[0m \u001b[0mmax_ev\u001b[0m\u001b[0;34m)\u001b[0m\u001b[0;34m\u001b[0m\u001b[0;34m\u001b[0m\u001b[0m\n\u001b[0m\u001b[1;32m    469\u001b[0m             \u001b[0;32mexcept\u001b[0m \u001b[0mInterruptedError\u001b[0m\u001b[0;34m:\u001b[0m\u001b[0;34m\u001b[0m\u001b[0;34m\u001b[0m\u001b[0m\n\u001b[1;32m    470\u001b[0m                 \u001b[0;32mreturn\u001b[0m \u001b[0mready\u001b[0m\u001b[0;34m\u001b[0m\u001b[0;34m\u001b[0m\u001b[0m\n",
      "\u001b[0;31mKeyboardInterrupt\u001b[0m: "
     ]
    }
   ],
   "source": [
    "beta = 0.1\n",
    "raw_counts, mitigated_counts = exe(beta = beta)\n",
    "noiseless_counts = exe_noiseless(beta = beta)\n",
    "# Executing the mitigation ----------------------------------------------------------\n",
    "miti = {}\n",
    "for i in range(4):\n",
    "    miti[np.binary_repr(i,width = 2)] = 0\n",
    "    \n",
    "miti['00'] = mitiq.execute_with_zne(circ_generator(beta = beta), backend_executor)\n",
    "\n",
    "print(miti['00'])\n",
    "plot = plot_histogram([calc_probabilities(raw_counts), \n",
    "                calc_probabilities(mitigated_counts),\n",
    "                miti,noiseless_counts], \n",
    "               legend=['raw', 'mitigated','mitiq','noiseless'], color = ['red','orange','blue','green'])\n",
    "\n",
    "plot.savefig('histogram_hardware_GG1_1step_'+str(beta)+'.png')\n",
    "plot"
   ]
  },
  {
   "cell_type": "code",
   "execution_count": 18,
   "metadata": {
    "scrolled": true
   },
   "outputs": [
    {
     "name": "stdout",
     "output_type": "stream",
     "text": [
      "After optimization--------\n",
      "gates =  OrderedDict([('cx', 41), ('u2', 37), ('u3', 17), ('u1', 7), ('measure', 4), ('barrier', 1)])\n",
      "depth =  72\n"
     ]
    },
    {
     "name": "stderr",
     "output_type": "stream",
     "text": [
      "/opt/conda/lib/python3.7/site-packages/ipykernel_launcher.py:21: DeprecationWarning: Using `backend_options` kwarg has been deprecated as of qiskit-aer 0.7.0 and will be removed no earlier than 3 months from that release date. Runtime backend options should now be added directly using kwargs for each option.\n"
     ]
    },
    {
     "name": "stdout",
     "output_type": "stream",
     "text": [
      "After optimization--------\n",
      "gates =  OrderedDict([('cx', 47), ('u2', 38), ('u3', 16), ('u1', 10), ('measure', 2), ('barrier', 1)])\n",
      "depth =  80\n",
      "{'0 0': 2248, '0 1': 1813, '1 0': 2379, '1 1': 1752}\n",
      "{'0 0': 1937, '0 1': 2124, '1 0': 1923, '1 1': 2208}\n",
      "{'0 0': 1790, '0 1': 2307, '1 0': 1762, '1 1': 2333}\n",
      "0.3323974609375003\n"
     ]
    },
    {
     "data": {
      "image/png": "[encoded data removed]",
      "text/plain": [
       "<Figure size 504x360 with 1 Axes>"
      ]
     },
     "execution_count": 18,
     "metadata": {},
     "output_type": "execute_result"
    }
   ],
   "source": [
    "beta = 1\n",
    "raw_counts, mitigated_counts = exe(beta = beta)\n",
    "noiseless_counts = exe_noiseless(beta = beta)\n",
    "# Executing the mitigation ----------------------------------------------------------\n",
    "miti = {}\n",
    "for i in range(4):\n",
    "    miti[np.binary_repr(i,width = 2)] = 0\n",
    "    \n",
    "miti['00'] = mitiq.execute_with_zne(circ_generator(beta = beta), backend_executor)\n",
    "\n",
    "print(miti['00'])\n",
    "plot = plot_histogram([calc_probabilities(raw_counts), \n",
    "                calc_probabilities(mitigated_counts),\n",
    "                miti,noiseless_counts], \n",
    "               legend=['raw', 'mitigated','mitiq','noiseless'], color = ['red','orange','blue','green'])\n",
    "\n",
    "plot.savefig('histogram_hardware_GG1_1step_'+str(beta)+'.png')\n",
    "plot"
   ]
  },
  {
   "cell_type": "code",
   "execution_count": 19,
   "metadata": {
    "scrolled": true
   },
   "outputs": [
    {
     "name": "stdout",
     "output_type": "stream",
     "text": [
      "After optimization--------\n",
      "gates =  OrderedDict([('cx', 41), ('u2', 37), ('u3', 17), ('u1', 7), ('measure', 4), ('barrier', 1)])\n",
      "depth =  72\n"
     ]
    },
    {
     "name": "stderr",
     "output_type": "stream",
     "text": [
      "/opt/conda/lib/python3.7/site-packages/ipykernel_launcher.py:21: DeprecationWarning: Using `backend_options` kwarg has been deprecated as of qiskit-aer 0.7.0 and will be removed no earlier than 3 months from that release date. Runtime backend options should now be added directly using kwargs for each option.\n"
     ]
    },
    {
     "name": "stdout",
     "output_type": "stream",
     "text": [
      "After optimization--------\n",
      "gates =  OrderedDict([('cx', 47), ('u2', 38), ('u3', 16), ('u1', 10), ('measure', 2), ('barrier', 1)])\n",
      "depth =  80\n",
      "{'0 0': 2037, '0 1': 2476, '1 0': 1715, '1 1': 1964}\n",
      "{'0 0': 1633, '0 1': 2160, '1 0': 1915, '1 1': 2484}\n",
      "{'0 0': 1465, '0 1': 2391, '1 0': 1676, '1 1': 2660}\n",
      "0.32678222656250006\n"
     ]
    },
    {
     "data": {
      "image/png": "[encoded data removed]",
      "text/plain": [
       "<Figure size 504x360 with 1 Axes>"
      ]
     },
     "execution_count": 19,
     "metadata": {},
     "output_type": "execute_result"
    }
   ],
   "source": [
    "beta = 10\n",
    "raw_counts, mitigated_counts = exe(beta = beta)\n",
    "noiseless_counts = exe_noiseless(beta = beta)\n",
    "# Executing the mitigation ----------------------------------------------------------\n",
    "miti = {}\n",
    "for i in range(4):\n",
    "    miti[np.binary_repr(i,width = 2)] = 0\n",
    "    \n",
    "miti['00'] = mitiq.execute_with_zne(circ_generator(beta = beta), backend_executor)\n",
    "\n",
    "print(miti['00'])\n",
    "plot = plot_histogram([calc_probabilities(raw_counts), \n",
    "                calc_probabilities(mitigated_counts),\n",
    "                miti,noiseless_counts], \n",
    "               legend=['raw', 'mitigated','mitiq','noiseless'], color = ['red','orange','blue','green'])\n",
    "\n",
    "plot.savefig('histogram_hardware_GG1_1step_'+str(beta)+'.png')\n",
    "plot"
   ]
  },
  {
   "cell_type": "code",
   "execution_count": 20,
   "metadata": {
    "scrolled": true
   },
   "outputs": [
    {
     "name": "stdout",
     "output_type": "stream",
     "text": [
      "After optimization--------\n",
      "gates =  OrderedDict([('cx', 41), ('u2', 37), ('u3', 17), ('u1', 7), ('measure', 4), ('barrier', 1)])\n",
      "depth =  72\n"
     ]
    },
    {
     "name": "stderr",
     "output_type": "stream",
     "text": [
      "/opt/conda/lib/python3.7/site-packages/ipykernel_launcher.py:21: DeprecationWarning: Using `backend_options` kwarg has been deprecated as of qiskit-aer 0.7.0 and will be removed no earlier than 3 months from that release date. Runtime backend options should now be added directly using kwargs for each option.\n"
     ]
    },
    {
     "name": "stdout",
     "output_type": "stream",
     "text": [
      "After optimization--------\n",
      "gates =  OrderedDict([('cx', 47), ('u2', 38), ('u3', 16), ('u1', 10), ('measure', 2), ('barrier', 1)])\n",
      "depth =  80\n",
      "{'0 0': 1996, '0 1': 2077, '1 0': 2158, '1 1': 1961}\n",
      "{'0 0': 1968, '0 1': 2269, '1 0': 1870, '1 1': 2085}\n",
      "{'0 0': 1820, '0 1': 2186, '1 0': 1851, '1 1': 2335}\n",
      "0.23242187499999967\n"
     ]
    },
    {
     "data": {
      "image/png": "[encoded data removed]",
      "text/plain": [
       "<Figure size 504x360 with 1 Axes>"
      ]
     },
     "execution_count": 20,
     "metadata": {},
     "output_type": "execute_result"
    }
   ],
   "source": [
    "beta = 10000\n",
    "raw_counts, mitigated_counts = exe(beta = beta)\n",
    "noiseless_counts = exe_noiseless(beta = beta)\n",
    "# Executing the mitigation ----------------------------------------------------------\n",
    "miti = {}\n",
    "for i in range(4):\n",
    "    miti[np.binary_repr(i,width = 2)] = 0\n",
    "    \n",
    "miti['00'] = mitiq.execute_with_zne(circ_generator(beta = beta), backend_executor)\n",
    "\n",
    "print(miti['00'])\n",
    "plot = plot_histogram([calc_probabilities(raw_counts), \n",
    "                calc_probabilities(mitigated_counts),\n",
    "                miti,noiseless_counts], \n",
    "               legend=['raw', 'mitigated','mitiq','noiseless'], color = ['red','orange','blue','green'])\n",
    "\n",
    "plot.savefig('histogram_hardware_GG1_1step_'+str(beta)+'.png')\n",
    "plot"
   ]
  },
  {
   "cell_type": "markdown",
   "metadata": {},
   "source": [
    "However, the mitiq package is not really able to spot the correct answer. It is returning 1 for the measured"
   ]
  },
  {
   "cell_type": "code",
   "execution_count": null,
   "metadata": {},
   "outputs": [],
   "source": [
    "beta = 0\n",
    "raw_counts, mitigated_counts = exe(beta = beta)\n",
    "noiseless_counts = exe_noiseless(beta = beta)\n",
    "# Executing the mitigation ----------------------------------------------------------\n",
    "miti = {}\n",
    "for i in range(4):\n",
    "    miti[np.binary_repr(i,width = 2)] = 0\n",
    "    \n",
    "miti['11'] = mitiq.execute_with_zne(circ_generator(beta = beta), backend_executor)\n",
    "\n",
    "print(miti['11'])\n",
    "plot = plot_histogram([calc_probabilities(raw_counts), \n",
    "                calc_probabilities(mitigated_counts),\n",
    "                miti,noiseless_counts], \n",
    "               legend=['raw', 'mitigated','mitiq','noiseless'], color = ['red','orange','blue','green'])\n",
    "\n",
    "#plot.savefig('histogram_hardware_GG1_'+str(beta)+'.png')\n",
    "plot"
   ]
  },
  {
   "cell_type": "code",
   "execution_count": 24,
   "metadata": {},
   "outputs": [
    {
     "data": {
      "text/plain": [
       "0.3660323412732292"
      ]
     },
     "execution_count": 24,
     "metadata": {},
     "output_type": "execute_result"
    }
   ],
   "source": [
    "(1-1e-2)**100"
   ]
  },
  {
   "cell_type": "code",
   "execution_count": null,
   "metadata": {},
   "outputs": [],
   "source": []
  }
 ],
 "metadata": {
  "kernelspec": {
   "display_name": "Python 3",
   "language": "python",
   "name": "python3"
  },
  "language_info": {
   "codemirror_mode": {
    "name": "ipython",
    "version": 3
   },
   "file_extension": ".py",
   "mimetype": "text/x-python",
   "name": "python",
   "nbconvert_exporter": "python",
   "pygments_lexer": "ipython3",
   "version": "3.7.8"
  }
 },
 "nbformat": 4,
 "nbformat_minor": 4
}
