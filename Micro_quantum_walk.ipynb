{
 "cells": [
  {
   "cell_type": "code",
   "execution_count": 1,
   "metadata": {},
   "outputs": [
    {
     "name": "stderr",
     "output_type": "stream",
     "text": [
      "/opt/conda/lib/python3.7/site-packages/qiskit/providers/ibmq/ibmqfactory.py:192: UserWarning: Timestamps in IBMQ backend properties, jobs, and job results are all now in local time instead of UTC.\n",
      "  warnings.warn('Timestamps in IBMQ backend properties, jobs, and job results '\n"
     ]
    }
   ],
   "source": [
    "%matplotlib inline\n",
    "# Importing standard Qiskit libraries and configuring account\n",
    "from qiskit import QuantumCircuit, execute, Aer, IBMQ\n",
    "from qiskit.compiler import transpile, assemble\n",
    "from qiskit.tools.jupyter import *\n",
    "from qiskit.visualization import *\n",
    "# Loading your IBM Q account(s)\n",
    "provider = IBMQ.load_account()\n",
    "\n",
    "# Qiskit stuff\n",
    "from qiskit import QuantumCircuit, execute, Aer\n",
    "from qiskit.circuit import QuantumRegister, Qubit, Gate, ClassicalRegister\n",
    "from qiskit.aqua.components.oracles import Oracle, TruthTableOracle\n",
    "from qiskit.quantum_info import Statevector\n",
    "\n",
    "from qiskit.test.mock import FakeYorktown\n",
    "\n",
    "# Transpiling stuff\n",
    "from qiskit.compiler import transpile\n",
    "from qiskit.transpiler import PassManager\n",
    "from qiskit.transpiler.passes import Unroller\n",
    "from qiskit.transpiler.passes import BasicSwap, LookaheadSwap, StochasticSwap\n",
    "from qiskit.transpiler import CouplingMap, Layout\n",
    "\n",
    "#import utils\n",
    "from collections import OrderedDict\n",
    "import math\n",
    "import numpy as np\n",
    "\n",
    "# Import general libraries (needed for functions)\n",
    "import time\n",
    "\n",
    "# Import Qiskit classes\n",
    "import qiskit\n",
    "from qiskit.providers.aer import noise\n",
    "from qiskit.tools.visualization import plot_histogram\n",
    "\n",
    "# Import measurement calibration functions\n",
    "from qiskit.ignis.mitigation.measurement import (complete_meas_cal, tensored_meas_cal,\n",
    "                                                 CompleteMeasFitter, TensoredMeasFitter)"
   ]
  },
  {
   "cell_type": "code",
   "execution_count": 2,
   "metadata": {
    "scrolled": true
   },
   "outputs": [
    {
     "name": "stdout",
     "output_type": "stream",
     "text": [
      "Requirement already satisfied: mitiq in /opt/conda/lib/python3.7/site-packages (0.2.0)\n",
      "Collecting numpy~=1.18.1\n",
      "  Using cached numpy-1.18.5-cp37-cp37m-manylinux1_x86_64.whl (20.1 MB)\n",
      "Requirement already satisfied: cirq-unstable==0.9.0.dev20200813185757 in /opt/conda/lib/python3.7/site-packages (from mitiq) (0.9.0.dev20200813185757)\n",
      "Requirement already satisfied: scipy~=1.4.1 in /opt/conda/lib/python3.7/site-packages (from mitiq) (1.4.1)\n",
      "Requirement already satisfied: sympy in /opt/conda/lib/python3.7/site-packages (from cirq-unstable==0.9.0.dev20200813185757->mitiq) (1.6.2)\n",
      "Requirement already satisfied: typing-extensions in /opt/conda/lib/python3.7/site-packages (from cirq-unstable==0.9.0.dev20200813185757->mitiq) (3.7.4.3)\n",
      "Requirement already satisfied: networkx~=2.4 in /opt/conda/lib/python3.7/site-packages (from cirq-unstable==0.9.0.dev20200813185757->mitiq) (2.5)\n",
      "Requirement already satisfied: requests~=2.18 in /opt/conda/lib/python3.7/site-packages (from cirq-unstable==0.9.0.dev20200813185757->mitiq) (2.24.0)\n",
      "Requirement already satisfied: matplotlib~=3.0 in /opt/conda/lib/python3.7/site-packages (from cirq-unstable==0.9.0.dev20200813185757->mitiq) (3.3.2)\n",
      "Requirement already satisfied: freezegun~=0.3.15 in /opt/conda/lib/python3.7/site-packages (from cirq-unstable==0.9.0.dev20200813185757->mitiq) (0.3.15)\n",
      "Requirement already satisfied: sortedcontainers~=2.0 in /opt/conda/lib/python3.7/site-packages (from cirq-unstable==0.9.0.dev20200813185757->mitiq) (2.2.2)\n",
      "Requirement already satisfied: protobuf~=3.12.0 in /opt/conda/lib/python3.7/site-packages (from cirq-unstable==0.9.0.dev20200813185757->mitiq) (3.12.4)\n",
      "Requirement already satisfied: pandas in /opt/conda/lib/python3.7/site-packages (from cirq-unstable==0.9.0.dev20200813185757->mitiq) (1.1.3)\n",
      "Requirement already satisfied: google-api-core[grpc]<2.0.0dev,>=1.14.0 in /opt/conda/lib/python3.7/site-packages (from cirq-unstable==0.9.0.dev20200813185757->mitiq) (1.23.0)\n",
      "Requirement already satisfied: mpmath>=0.19 in /opt/conda/lib/python3.7/site-packages (from sympy->cirq-unstable==0.9.0.dev20200813185757->mitiq) (1.1.0)\n",
      "Requirement already satisfied: decorator>=4.3.0 in /opt/conda/lib/python3.7/site-packages (from networkx~=2.4->cirq-unstable==0.9.0.dev20200813185757->mitiq) (4.4.2)\n",
      "Requirement already satisfied: chardet<4,>=3.0.2 in /opt/conda/lib/python3.7/site-packages (from requests~=2.18->cirq-unstable==0.9.0.dev20200813185757->mitiq) (3.0.4)\n",
      "Requirement already satisfied: certifi>=2017.4.17 in /opt/conda/lib/python3.7/site-packages (from requests~=2.18->cirq-unstable==0.9.0.dev20200813185757->mitiq) (2020.6.20)\n",
      "Requirement already satisfied: idna<3,>=2.5 in /opt/conda/lib/python3.7/site-packages (from requests~=2.18->cirq-unstable==0.9.0.dev20200813185757->mitiq) (2.10)\n",
      "Requirement already satisfied: urllib3!=1.25.0,!=1.25.1,<1.26,>=1.21.1 in /opt/conda/lib/python3.7/site-packages (from requests~=2.18->cirq-unstable==0.9.0.dev20200813185757->mitiq) (1.25.11)\n",
      "Requirement already satisfied: pillow>=6.2.0 in /opt/conda/lib/python3.7/site-packages (from matplotlib~=3.0->cirq-unstable==0.9.0.dev20200813185757->mitiq) (8.0.1)\n",
      "Requirement already satisfied: pyparsing!=2.0.4,!=2.1.2,!=2.1.6,>=2.0.3 in /opt/conda/lib/python3.7/site-packages (from matplotlib~=3.0->cirq-unstable==0.9.0.dev20200813185757->mitiq) (2.4.7)\n",
      "Requirement already satisfied: kiwisolver>=1.0.1 in /opt/conda/lib/python3.7/site-packages (from matplotlib~=3.0->cirq-unstable==0.9.0.dev20200813185757->mitiq) (1.2.0)\n",
      "Requirement already satisfied: cycler>=0.10 in /opt/conda/lib/python3.7/site-packages (from matplotlib~=3.0->cirq-unstable==0.9.0.dev20200813185757->mitiq) (0.10.0)\n",
      "Requirement already satisfied: python-dateutil>=2.1 in /opt/conda/lib/python3.7/site-packages (from matplotlib~=3.0->cirq-unstable==0.9.0.dev20200813185757->mitiq) (2.8.1)\n",
      "Requirement already satisfied: six in /opt/conda/lib/python3.7/site-packages (from freezegun~=0.3.15->cirq-unstable==0.9.0.dev20200813185757->mitiq) (1.15.0)\n",
      "Requirement already satisfied: setuptools in /opt/conda/lib/python3.7/site-packages (from protobuf~=3.12.0->cirq-unstable==0.9.0.dev20200813185757->mitiq) (50.3.2)\n",
      "Requirement already satisfied: pytz>=2017.2 in /opt/conda/lib/python3.7/site-packages (from pandas->cirq-unstable==0.9.0.dev20200813185757->mitiq) (2020.1)\n",
      "Requirement already satisfied: googleapis-common-protos<2.0dev,>=1.6.0 in /opt/conda/lib/python3.7/site-packages (from google-api-core[grpc]<2.0.0dev,>=1.14.0->cirq-unstable==0.9.0.dev20200813185757->mitiq) (1.52.0)\n",
      "Requirement already satisfied: google-auth<2.0dev,>=1.21.1 in /opt/conda/lib/python3.7/site-packages (from google-api-core[grpc]<2.0.0dev,>=1.14.0->cirq-unstable==0.9.0.dev20200813185757->mitiq) (1.22.1)\n",
      "Requirement already satisfied: grpcio<2.0dev,>=1.29.0; extra == \"grpc\" in /opt/conda/lib/python3.7/site-packages (from google-api-core[grpc]<2.0.0dev,>=1.14.0->cirq-unstable==0.9.0.dev20200813185757->mitiq) (1.33.1)\n",
      "Requirement already satisfied: pyasn1-modules>=0.2.1 in /opt/conda/lib/python3.7/site-packages (from google-auth<2.0dev,>=1.21.1->google-api-core[grpc]<2.0.0dev,>=1.14.0->cirq-unstable==0.9.0.dev20200813185757->mitiq) (0.2.8)\n",
      "Requirement already satisfied: rsa<5,>=3.1.4; python_version >= \"3.5\" in /opt/conda/lib/python3.7/site-packages (from google-auth<2.0dev,>=1.21.1->google-api-core[grpc]<2.0.0dev,>=1.14.0->cirq-unstable==0.9.0.dev20200813185757->mitiq) (4.6)\n",
      "Requirement already satisfied: cachetools<5.0,>=2.0.0 in /opt/conda/lib/python3.7/site-packages (from google-auth<2.0dev,>=1.21.1->google-api-core[grpc]<2.0.0dev,>=1.14.0->cirq-unstable==0.9.0.dev20200813185757->mitiq) (4.1.1)\n",
      "Requirement already satisfied: pyasn1<0.5.0,>=0.4.6 in /opt/conda/lib/python3.7/site-packages (from pyasn1-modules>=0.2.1->google-auth<2.0dev,>=1.21.1->google-api-core[grpc]<2.0.0dev,>=1.14.0->cirq-unstable==0.9.0.dev20200813185757->mitiq) (0.4.8)\n",
      "\u001b[33mWARNING: Error parsing requirements for numpy: [Errno 2] No such file or directory: '/opt/conda/lib/python3.7/site-packages/numpy-1.19.2.dist-info/METADATA'\u001b[0m\n",
      "Installing collected packages: numpy\n",
      "  Attempting uninstall: numpy\n",
      "    Found existing installation: numpy 1.19.2\n",
      "\u001b[31mERROR: Could not install packages due to an EnvironmentError: [Errno 2] No such file or directory: '/opt/conda/lib/python3.7/site-packages/numpy-1.19.2.dist-info/RECORD'\n",
      "\u001b[0m\n"
     ]
    }
   ],
   "source": [
    "!pip install mitiq\n",
    "import mitiq"
   ]
  },
  {
   "cell_type": "code",
   "execution_count": 3,
   "metadata": {
    "scrolled": true
   },
   "outputs": [
    {
     "name": "stdout",
     "output_type": "stream",
     "text": [
      "<AccountProvider for IBMQ(hub='ibm-q-research', group='Pablo-Antonio-Mo', project='main')>\n",
      "ibmq_qasm_simulator\n",
      "ibmqx2\n",
      "ibmq_16_melbourne\n",
      "ibmq_vigo\n",
      "ibmq_ourense\n",
      "ibmq_valencia\n",
      "ibmq_armonk\n",
      "ibmq_athens\n",
      "ibmq_rome\n",
      "ibmq_santiago\n",
      "ibmq_bogota\n",
      "ibmq_casablanca\n"
     ]
    },
    {
     "data": {
      "application/vnd.jupyter.widget-view+json": {
       "model_id": "9ccbc36d76f34012bcdef4453ec0163b",
       "version_major": 2,
       "version_minor": 0
      },
      "text/plain": [
       "VBox(children=(HTML(value=\"<h1 style='color:#ffffff;background-color:#000000;padding-top: 1%;padding-bottom: 1…"
      ]
     },
     "metadata": {},
     "output_type": "display_data"
    },
    {
     "data": {
      "text/plain": [
       "<IBMQBackend('ibmq_casablanca') from IBMQ(hub='ibm-q-research', group='Pablo-Antonio-Mo', project='main')>"
      ]
     },
     "execution_count": 3,
     "metadata": {},
     "output_type": "execute_result"
    },
    {
     "data": {
      "image/png": "[encoded data removed]",
      "text/plain": [
       "<Figure size 792x648 with 5 Axes>"
      ]
     },
     "metadata": {
      "needs_background": "light"
     },
     "output_type": "display_data"
    }
   ],
   "source": [
    "# Loading your IBM Q account(s)\n",
    "provider = IBMQ.get_provider(hub='ibm-q-research', group='Pablo-Antonio-Mo', project='main') \n",
    "print(provider)\n",
    "backends = provider.backends()\n",
    "for backend in backends:\n",
    "    print(backend.name())\n",
    "\n",
    "backend = provider.backends(name = 'ibmq_casablanca')[0]\n",
    "properties = backend.properties() \n",
    "coupling_map = backend.configuration().coupling_map\n",
    "backend"
   ]
  },
  {
   "cell_type": "markdown",
   "metadata": {},
   "source": [
    "# A micro quantum walk"
   ]
  },
  {
   "cell_type": "markdown",
   "metadata": {},
   "source": [
    "The objective of this notebook is to explain how to perform a very small quantum walk over a space of only two positions for the rotation angle of a dipeptide. The objective is being able to implement it in real hardware and be able to measure the result without too much noise.\n",
    "The first thing we do is loading the deltas of energies, although in the end we will only use one of those, the one corresponding to the angle we are interested in"
   ]
  },
  {
   "cell_type": "code",
   "execution_count": 4,
   "metadata": {},
   "outputs": [
    {
     "name": "stdout",
     "output_type": "stream",
     "text": [
      "16\n",
      "Deltas of energy ------------------\n",
      "000 0.27042123529724904\n",
      "001 26.032737333542684\n",
      "010 0.24282032166763656\n",
      "011 -26.032737333542684\n",
      "100 -0.27042123529724904\n",
      "101 26.00513641991307\n",
      "110 -0.24282032166763656\n",
      "111 -26.00513641991307\n"
     ]
    }
   ],
   "source": [
    "# Loading the energies\n",
    "import json\n",
    "with open('delta_energies_glycylglycine_1_hardware.json') as json_file:\n",
    "    data = json.load(json_file)\n",
    "\n",
    "deltas_dictionary = data['deltas']\n",
    "deltas_dictionary = OrderedDict(sorted(deltas_dictionary.items()))\n",
    "print(len(deltas_dictionary))\n",
    "deltas = {}\n",
    "for (key,value) in deltas_dictionary.items():\n",
    "    deltas[key[:3]] = value\n",
    "\n",
    "print('Deltas of energy ------------------')\n",
    "for (key,value) in deltas.items():\n",
    "    print(key, value)"
   ]
  },
  {
   "cell_type": "markdown",
   "metadata": {},
   "source": [
    "What angle do we want to walk over? We can choose $\\phi$ or $\\psi$, to calculate $\\Delta E$. Notice that since we are in the hardware option, the index 00 will be the minimum of energy and thus both `deltas['000']>0` and `deltas['001']>0`.\n",
    "Let us now create a function that returns the circuit, depending on the angle, the number of W, `n_W`, and the beta schedule, $\\beta$`_schedule`."
   ]
  },
  {
   "cell_type": "code",
   "execution_count": 5,
   "metadata": {},
   "outputs": [],
   "source": [
    "def circuit_generator(angle = '𝜙', 𝛽_schedule = [0, 0.1, 1, 10, 10000]):\n",
    "    '''Returns a circuit performing the quantum walk with the 𝛽_schedule over the chosen angle'''   \n",
    "    \n",
    "    # Then calculate the delta of energy that is relevant\n",
    "    if angle == '𝜙':\n",
    "        Δ_𝐸 = deltas['000']\n",
    "    elif angle == '𝜓':\n",
    "        Δ_𝐸 = deltas['001']\n",
    "    \n",
    "    # Define a function that calculates the rotation angle, and then vectorize it\n",
    "    def calc_angle(Δ_𝐸, 𝛽):\n",
    "        probability = math.exp(-𝛽 * Δ_𝐸)\n",
    "        angle = math.pi - 2 * math.asin(math.sqrt(probability))\n",
    "        return angle\n",
    "        \n",
    "    calc_angles = np.vectorize(calc_angle)\n",
    "    angles = calc_angles(Δ_𝐸, 𝛽_schedule)\n",
    "    \n",
    "    # Let us now define the Walk step 𝑊=𝑅 𝑉^† 𝐵^† 𝐹 𝐵 𝑉. However, in our case we do not have to prepare V\n",
    "    def W_step(qc: QuantumCircuit, angle_reg: QuantumRegister, coin_reg: QuantumRegister, angle: float, last_W: bool):\n",
    "        # First prepare the coin\n",
    "        qc.x(coin_reg)\n",
    "        \n",
    "        qc.x(angle_reg)\n",
    "        qc.cu(-angle,-math.pi/2,math.pi/2,0,angle_reg,coin_reg)\n",
    "        qc.x(angle_reg)\n",
    "        \n",
    "        # Then perform the move with move with the probability given by coin_reg\n",
    "        qc.cx(coin_reg,angle_reg)\n",
    "        \n",
    "        if not last_W:\n",
    "            # Then uncompute the move \n",
    "            qc.x(angle_reg)\n",
    "            qc.cu(angle,-math.pi/2,math.pi/2,0,angle_reg,coin_reg)\n",
    "            qc.x(angle_reg)\n",
    "\n",
    "            ## qc.x(coin_reg)\n",
    "\n",
    "            # Finally, perform the reflection over the state |0> in the coin\n",
    "            ## qc.x(coin_reg)\n",
    "            qc.z(coin_reg)\n",
    "            qc.x(coin_reg)\n",
    "        \n",
    "    # Therefore the circuit is the following\n",
    "    coin_reg = QuantumRegister(1, name = 'coin')\n",
    "    angle_reg = QuantumRegister(1, name = 'angle')\n",
    "    bit_reg = ClassicalRegister(1, name = 'bit')\n",
    "    qc = QuantumCircuit(coin_reg, angle_reg, bit_reg)\n",
    "    \n",
    "    # Initialization\n",
    "    qc.h(angle_reg)\n",
    "    \n",
    "    # Perform the various steps\n",
    "    for i in range(len(𝛽_schedule)):\n",
    "        W_step(qc, angle_reg, coin_reg, angles[i], i == len(𝛽_schedule)-1)\n",
    "        \n",
    "    # Measurement\n",
    "    qc.measure(angle_reg, bit_reg)\n",
    "    \n",
    "    # Transpiling and optimization\n",
    "    layout = {5: coin_reg[0], 6: angle_reg[0]}\n",
    "    qc = transpile(qc, seed_transpiler=1, optimization_level=1, basis_gates = ['u1', 'u2', 'u3', 'cx'])\n",
    "    print('Before optimization--------')\n",
    "    print('gates = ', qc.count_ops())\n",
    "    print('depth = ', qc.depth())\n",
    "    qc = transpile(qc, backend = backend, seed_transpiler=1, optimization_level=3, initial_layout=layout, basis_gates = ['u1', 'u2', 'u3', 'cx'])\n",
    "    print('After optimization--------')\n",
    "    print('gates = ', qc.count_ops())\n",
    "    print('depth = ', qc.depth())\n",
    "    \n",
    "    return qc\n"
   ]
  },
  {
   "cell_type": "markdown",
   "metadata": {},
   "source": [
    "We will see that the circuit optimizer is in fact so powerful that for any reasonable number of steps, the circuit will have depth 6 if the number of steps is even, and 8 if it is odd"
   ]
  },
  {
   "cell_type": "code",
   "execution_count": 6,
   "metadata": {},
   "outputs": [
    {
     "name": "stdout",
     "output_type": "stream",
     "text": [
      "Before optimization--------\n",
      "gates =  OrderedDict([('u3', 21), ('cx', 19), ('u1', 4), ('u2', 3), ('measure', 1)])\n",
      "depth =  39\n",
      "After optimization--------\n",
      "gates =  OrderedDict([('u3', 6), ('cx', 3), ('u2', 2), ('measure', 1)])\n",
      "depth =  8\n"
     ]
    },
    {
     "data": {
      "image/png": "[encoded data removed]",
      "text/plain": [
       "<Figure size 961.931x505.68 with 1 Axes>"
      ]
     },
     "execution_count": 6,
     "metadata": {},
     "output_type": "execute_result"
    }
   ],
   "source": [
    "qc = circuit_generator(angle = '𝜙', 𝛽_schedule = [0,0.1,1,10,1000])\n",
    "qc.draw('mpl')"
   ]
  },
  {
   "cell_type": "markdown",
   "metadata": {},
   "source": [
    "Now, we would like to perform some noise mitigation to be able to correct the data. Let us start with measurement error mitigation from Qiskit. To do that we need to first calibrate the filter."
   ]
  },
  {
   "cell_type": "code",
   "execution_count": 12,
   "metadata": {},
   "outputs": [
    {
     "data": {
      "image/png": "[encoded data removed]",
      "text/plain": [
       "<Figure size 432x288 with 2 Axes>"
      ]
     },
     "metadata": {
      "needs_background": "light"
     },
     "output_type": "display_data"
    }
   ],
   "source": [
    "qr = qiskit.QuantumRegister(1)\n",
    "qubit_list = [0]\n",
    "\n",
    "meas_calibs, state_labels = complete_meas_cal(qubit_list=qubit_list, qr = qr, circlabel='mcal')\n",
    "\n",
    "layout = {6: qr[0]}\n",
    "\n",
    "\n",
    "# Execute the calibration circuits without noise\n",
    "job = qiskit.execute(meas_calibs, backend=backend, shots=1024, initial_layout=layout)\n",
    "cal_results = job.result()\n",
    "\n",
    "# Calculate the calibration matrix with the noise model\n",
    "meas_fitter = CompleteMeasFitter(cal_results, state_labels, qubit_list=qubit_list, circlabel='mcal')\n",
    "meas_filter = meas_fitter.filter\n",
    "\n",
    "# Plot the calibration matrix\n",
    "meas_fitter.plot_calibration()"
   ]
  },
  {
   "cell_type": "code",
   "execution_count": 13,
   "metadata": {},
   "outputs": [
    {
     "name": "stdout",
     "output_type": "stream",
     "text": [
      "Average Measurement Fidelity: 0.978516\n",
      "Average Measurement Fidelity of Q0: 1.000000\n"
     ]
    }
   ],
   "source": [
    "# What is the measurement fidelity?\n",
    "print(\"Average Measurement Fidelity: %f\" % meas_fitter.readout_fidelity())\n",
    "\n",
    "# What is the measurement fidelity of Q0?\n",
    "print(\"Average Measurement Fidelity of Q0: %f\" % meas_fitter.readout_fidelity(\n",
    "    label_list = [['0','1'],['0','1']]))"
   ]
  },
  {
   "cell_type": "markdown",
   "metadata": {},
   "source": [
    "Next we would like to use some mitigation that also takes into account the error from the gates. We will be using mitiq: https://mitiq.readthedocs.io/en/stable/guide/guide-ibmq-backends.html"
   ]
  },
  {
   "cell_type": "code",
   "execution_count": 9,
   "metadata": {},
   "outputs": [],
   "source": [
    "def backend_executor(circuit: QuantumCircuit, shots: int = 8192) -> float:\n",
    "    \"\"\"Returns the expectation value to be mitigated.\n",
    "\n",
    "    Args:\n",
    "        circuit: Circuit to run.\n",
    "        shots: Number of times to execute the circuit to compute the expectation value.\n",
    "    \"\"\"\n",
    "    # (1) Add measurements to the circuit\n",
    "    #circuit.measure(circuit.qregs[0], circuit.cregs[0])\n",
    "\n",
    "    # (2) Run the circuit\n",
    "    job = qiskit.execute(\n",
    "        experiments=circuit,\n",
    "        backend=backend,\n",
    "        optimization_level=0,  # Important!\n",
    "        shots=shots\n",
    "    )\n",
    "\n",
    "    # (3) Convert from raw measurement counts to the expectation value\n",
    "    counts = job.result().get_counts()\n",
    "    print(counts)\n",
    "    if counts.get(\"0\") is None:\n",
    "        expectation_value = 0.\n",
    "    else:\n",
    "        expectation_value = counts.get(\"0\") / shots\n",
    "    return expectation_value"
   ]
  },
  {
   "cell_type": "markdown",
   "metadata": {},
   "source": [
    "Let us run some experiments"
   ]
  },
  {
   "cell_type": "code",
   "execution_count": 10,
   "metadata": {},
   "outputs": [
    {
     "name": "stderr",
     "output_type": "stream",
     "text": [
      "/opt/conda/lib/python3.7/site-packages/ipykernel_launcher.py:4: DeprecationWarning: Using `backend_options` kwarg has been deprecated as of qiskit-aer 0.7.0 and will be removed no earlier than 3 months from that release date. Runtime backend options should now be added directly using kwargs for each option.\n",
      "  after removing the cwd from sys.path.\n"
     ]
    }
   ],
   "source": [
    "# Noiseless perfect simulation\n",
    "aerbackend = Aer.get_backend('statevector_simulator')\n",
    "backend_options = {\"method\" : \"statevector\"}\n",
    "experiment = execute(qc, aerbackend, backend_options=backend_options)\n",
    "state_vector = Statevector(experiment.result().get_statevector(qc))\n",
    "\n",
    "probabilities = state_vector.probabilities([0])\n",
    "noiseless_counts = {}\n",
    "noiseless_counts['0'] = float(probabilities[0])\n",
    "noiseless_counts['1'] = float(probabilities[1])"
   ]
  },
  {
   "cell_type": "code",
   "execution_count": 17,
   "metadata": {},
   "outputs": [
    {
     "name": "stdout",
     "output_type": "stream",
     "text": [
      "running_time 32.21305775642395\n",
      "{'0': 6799, '1': 1393}\n",
      "{'0': 6824, '1': 1368}\n",
      "{'0': 6450, '1': 1742}\n"
     ]
    }
   ],
   "source": [
    "# Running the circuit in real hardware\n",
    "job = execute(qc, backend, shots=8192)\n",
    "results = job.result()\n",
    "raw_counts = results.get_counts()\n",
    "running_time = job.result().time_taken\n",
    "print('running_time',running_time)\n",
    "\n",
    "# Results with measurement mitigation\n",
    "# Get the filter object\n",
    "meas_filter = meas_fitter.filter\n",
    "# Results with mitigation\n",
    "mitigated_results = meas_filter.apply(results)\n",
    "mm_counts = mitigated_results.get_counts()\n",
    "\n",
    "# Results with gate error mitigation\n",
    "gm_counts = {}\n",
    "gm_counts['0'] = mitiq.execute_with_zne(qc, backend_executor)\n",
    "gm_counts['1'] = 1 - gm_counts['0']"
   ]
  },
  {
   "cell_type": "markdown",
   "metadata": {},
   "source": [
    "Finally we can plot it"
   ]
  },
  {
   "cell_type": "code",
   "execution_count": 18,
   "metadata": {},
   "outputs": [
    {
     "data": {
      "image/png": "[encoded data removed]",
      "text/plain": [
       "<Figure size 504x360 with 1 Axes>"
      ]
     },
     "execution_count": 18,
     "metadata": {},
     "output_type": "execute_result"
    }
   ],
   "source": [
    "plot = plot_histogram([raw_counts, mm_counts, gm_counts,noiseless_counts], \n",
    "               legend=['raw', 'measure_mitigated','gate_mitigated','noiseless'], color = ['red','orange','blue','green'])\n",
    "\n",
    "plot.savefig('histogram_hardware_GG1.png')\n",
    "plot"
   ]
  },
  {
   "cell_type": "code",
   "execution_count": null,
   "metadata": {},
   "outputs": [],
   "source": [
    "qiskit.__qiskit_version__\n",
    "!python -V"
   ]
  },
  {
   "cell_type": "code",
   "execution_count": null,
   "metadata": {},
   "outputs": [],
   "source": []
  }
 ],
 "metadata": {
  "kernelspec": {
   "display_name": "Python 3",
   "language": "python",
   "name": "python3"
  },
  "language_info": {
   "codemirror_mode": {
    "name": "ipython",
    "version": 3
   },
   "file_extension": ".py",
   "mimetype": "text/x-python",
   "name": "python",
   "nbconvert_exporter": "python",
   "pygments_lexer": "ipython3",
   "version": "3.7.8"
  }
 },
 "nbformat": 4,
 "nbformat_minor": 4
}
