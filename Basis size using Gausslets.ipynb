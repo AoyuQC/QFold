{
 "cells": [
  {
   "cell_type": "markdown",
   "metadata": {},
   "source": [
    "# Basis size using Gausslets for arbitrary molecules"
   ]
  },
  {
   "cell_type": "markdown",
   "metadata": {},
   "source": [
    "In this notebook we want to estimate the size of the basis, $N$ we want to use in the phase estimation protocol of article \"Encoding Electronic Spectra in Quantum Circuits with Linear T Complexity\" (https://journals.aps.org/prx/pdf/10.1103/PhysRevX.8.041015) using Gausslets. Notice that the T Complexity of the algorithm will be \n",
    "$$\\frac{24\\sqrt{2}\\pi \\lambda}{\\Delta E}N,$$\n",
    "where $$\\lambda = O(N^2)$$ is the sum of the absolute values of the coefficients in the Hamiltonian. However, this basis cannot be the usual gaussian but rather needs to be the gausslet-based, for instance. Here we calculate the size of the basis $N$ for an arbitary molecule from psi4. We will follow appendix A from \"Supplemental Material for Multi-sliced Gausslet Basis Sets for Electronic Structure\" (https://arxiv.org/pdf/1809.10258.pdf)."
   ]
  },
  {
   "cell_type": "code",
   "execution_count": 1,
   "metadata": {},
   "outputs": [],
   "source": [
    "from scipy import integrate\n",
    "import numpy as np\n",
    "import scipy.optimize"
   ]
  },
  {
   "cell_type": "markdown",
   "metadata": {},
   "source": [
    "Let us suppose we have a list of atoms, saved at atom_list, and each atom having characteristics x, y and z. The first thing we need is to set the hyperparameters. Those are $b$ and $d$; and $s$ and $a$. We will use a similar choice as those in the article. However, we should be aware of a unit change: the Gausslet article works in atomic units, whereas psi4 works in amstrongs."
   ]
  },
  {
   "cell_type": "code",
   "execution_count": 2,
   "metadata": {},
   "outputs": [],
   "source": [
    "b = 13\n",
    "d = 9\n",
    "\n",
    "a = (.5) #**(1/3)\n",
    "s = (.5) #**(1/3)\n",
    "\n",
    "# 1 bohr = 0.529177210903 amstrongs\n",
    "bohr_to_amstrong = 0.529177210903"
   ]
  },
  {
   "cell_type": "code",
   "execution_count": 3,
   "metadata": {},
   "outputs": [],
   "source": [
    "class atom():\n",
    "    def __init__(self,x,y,z):\n",
    "        self.x = x\n",
    "        self.y = y\n",
    "        self.z = z\n",
    "\n",
    "# Substitute this list of atoms by the ones read out from our molecule.\n",
    "H1 = atom(0,0,0)\n",
    "H2 = atom(1,0,0)\n",
    "H3 = atom(0,1,0)\n",
    "H4 = atom(0,0,1)\n",
    "atoms = [H1, H2, H3, H4]"
   ]
  },
  {
   "cell_type": "markdown",
   "metadata": {},
   "source": [
    "Now we have to define the function indicating the density gausslets. That is\n",
    "$$\\rho(\\vec{x}) = \\left[ \\sum_\\alpha \\rho_\\alpha(\\vec{x})\\right]^{1/2} + \\frac{1}{d},$$ \n",
    "where $\\alpha$ represent the different atoms. On the other hand\n",
    "$$\\rho_{\\alpha,z}(\\vec{x}= (i,j,k)) = \\frac{1}{s\\sqrt{a_{\\alpha}^2 + (k-\\alpha.z)^2 }},$$\n",
    "where $\\alpha.z$ represents the coordinate $z$ of atom $\\alpha$, and similarly for $x$ and $y$.\n",
    "In two dimension that changes to \n",
    "$$\\rho_{\\alpha,y}(\\vec{x}= (i,j,k)) = \\frac{1}{s\\sqrt{a_{\\alpha}^2 + (j-\\alpha.y)^2 + d_{z= k}^2 }}; \\qquad d_{z=k} = \\min_\\alpha |k - \\alpha.z|.$$\n",
    "And for three dimensions\n",
    "$$\\rho_{\\alpha,x}(\\vec{x}= (i,j,k)) = \\frac{1}{s\\sqrt{a_{\\alpha}^2 + (i-\\alpha.x)^2 + d_{z= k, y= j}^2 }}; \\qquad d_{z= k, y= j} = \\min_\\alpha |(j,k) - (\\alpha.y,\\alpha.z)|.$$\n",
    "\n",
    "Finally we need to fit the $a_\\alpha$ such that the density at the atoms is $(as)^{-1}$, using the first and second equations. Finally\n",
    "$$\\rho_{\\alpha}(\\vec{x}= (i,j,k)) = \\rho_{\\alpha,z}\\rho_{\\alpha,y}\\rho_{\\alpha,x}.$$\n",
    "\n",
    "However, I feel that instead of $a_\\alpha$ and $s$ in the above formulas, one should attempt to have the cubic root such that 3d does not spoil it. Also, one would need to perform the fit of $a_\\alpha$ probably using the final (product of densities) function."
   ]
  },
  {
   "cell_type": "code",
   "execution_count": 4,
   "metadata": {},
   "outputs": [],
   "source": [
    "def rho_z_atom(x,y,z, atom, atoms, a = a, s = s):\n",
    "    density = 1/(s*np.sqrt(a**2 + (z-atom.z)**2))\n",
    "    return density\n",
    "\n",
    "def rho_y_atom(x,y,z, atom, atoms, a = a, s = s):\n",
    "    d_list = []\n",
    "    for at in atoms:\n",
    "        d_list += [np.abs(z-at.z)]\n",
    "    d = min(d_list)\n",
    "    \n",
    "    density = 1/(s*np.sqrt(a**2 + (y-atom.y)**2 + d**2))\n",
    "    return density\n",
    "\n",
    "def rho_x_atom(x,y,z, atom, atoms, a = a, s = s):\n",
    "    d_list = []\n",
    "    position = np.array([y,z])\n",
    "    for at in atoms:\n",
    "        at_position = np.array([at.y,at.z])\n",
    "        d_list += [np.linalg.norm(position - at.position)]\n",
    "    d = min(d_list)\n",
    "    \n",
    "    density = 1/(s*np.sqrt(a**2 + (x-atom.x)**2 + d**2))\n",
    "    return density"
   ]
  },
  {
   "cell_type": "code",
   "execution_count": 7,
   "metadata": {},
   "outputs": [],
   "source": [
    "def density(x,y,z, atoms, a_alpha_list = None ,a = a, s = s):\n",
    "    # First let us check that we are not too far away from any atom:\n",
    "    d_list = []\n",
    "    position = np.array([x,y,z])\n",
    "    for at in atoms:\n",
    "        at_position = np.array([at.x, at.y,at.z])\n",
    "        d_list += [np.linalg.norm(position - at_position)]\n",
    "    \n",
    "    d = min(d_list)\n",
    "    if d > b*bohr_to_amstrong:\n",
    "        return 0\n",
    "    \n",
    "    \n",
    "    if a_alpha_list == None:\n",
    "        dens = 0\n",
    "        for atom in atoms:\n",
    "            dens += rho_z_atom(x,y,z,atom, atoms)*rho_z_atom(x,y,z,atom, atoms)*rho_z_atom(x,y,z,atom, atoms)\n",
    "            return np.sqrt(dens) +1/(d*bohr_to_amstrong)\n",
    "\n",
    "    else:\n",
    "        for (atom, a_alpha) in zip(atoms, a_alpha_list):\n",
    "            dense = 0\n",
    "            dens += rho_z_atom(x,y,z,atom, atoms, a = a_alpha)*rho_z_atom(x,y,z,atom, atoms,a = a_alpha)*rho_z_atom(x,y,z,atom, atoms, a = a_alpha)\n",
    "\n",
    "            return np.sqrt(dens) + 1/(d*bohr_to_amstrong)"
   ]
  },
  {
   "cell_type": "markdown",
   "metadata": {},
   "source": [
    "Now we are in condition to integrate over the total density, and then we need to fit the $a_\\alpha$ such that the final density in the atomic nuclei is fixed at $(as)^{-3}$. Notice that the 3 appears because we are integrating in 3 dimensions."
   ]
  },
  {
   "cell_type": "code",
   "execution_count": 8,
   "metadata": {},
   "outputs": [
    {
     "name": "stdout",
     "output_type": "stream",
     "text": [
      "3425.6352433662164 200.46619880252416\n"
     ]
    }
   ],
   "source": [
    "# First calculate the integration limit\n",
    "x_list = []\n",
    "y_list = []\n",
    "z_list = []\n",
    "for atom in atoms:\n",
    "    x_list.append(atom.x)\n",
    "    y_list.append(atom.y)\n",
    "    z_list.append(atom.z)\n",
    "    \n",
    "upper_x_lim = max(x_list)+ b*bohr_to_amstrong\n",
    "upper_y_lim = max(y_list)+ b*bohr_to_amstrong\n",
    "upper_z_lim = max(z_list)+ b*bohr_to_amstrong\n",
    "\n",
    "lower_x_lim = min(x_list)- b*bohr_to_amstrong\n",
    "lower_y_lim = min(y_list)- b*bohr_to_amstrong\n",
    "lower_z_lim = min(z_list)- b*bohr_to_amstrong\n",
    "\n",
    "def density_func(z,y,x, a_alpha_list = None):\n",
    "\n",
    "    dens = density(x,y,z, atoms, a_alpha_list ,a = a, s = s)\n",
    "\n",
    "    return dens\n",
    "\n",
    "# TODO: integrate using this function\n",
    "(N, N_err)  = integrate.tplquad(density_func, \n",
    "                                lower_x_lim, upper_x_lim, \n",
    "                                lambda z: lower_y_lim, lambda z: upper_y_lim, \n",
    "                                lambda z, y: lower_z_lim, lambda z, y: upper_z_lim, \n",
    "                                epsabs = 1e-1, epsrel = 1e-1)\n",
    "print(N, N_err)"
   ]
  },
  {
   "cell_type": "code",
   "execution_count": null,
   "metadata": {},
   "outputs": [],
   "source": [
    "def F(a_alpha_list = [a]*len(atoms)):\n",
    "    result = []\n",
    "    for (atom, a_alpha) in zip(atoms, a_alpha_list):\n",
    "        z = float(atom.z)\n",
    "        y = float(atom.y)\n",
    "        x = float(atom.x)\n",
    "        print('x,y,z',x,y,z)\n",
    "        print(a_alpha_list)\n",
    "\n",
    "        dens = density_func(atom.z, atom.y, atom.x, list(a_alpha_list))\n",
    "        print('density d',d)\n",
    "        result.append(dens - (a*s)**(-3)-1/(d*bohr_to_amstrong))\n",
    "    \n",
    "    return result\n",
    "\n",
    "print('a, a, a',[a]*len(atoms))\n",
    "\n",
    "# TODO: I do not know how to indicate maximum and minimum values for the a_alphas... The following line fails\n",
    "a_alpha_list = scipy.optimize.broyden2(F, [a]*len(atoms), f_tol=1e-1)\n",
    "\n",
    "print(a_alpha_list)"
   ]
  },
  {
   "cell_type": "code",
   "execution_count": null,
   "metadata": {},
   "outputs": [],
   "source": [
    "lista = [0]*3\n",
    "print(lista)"
   ]
  },
  {
   "cell_type": "markdown",
   "metadata": {},
   "source": [
    "Let us now calculate the final cost. Assuming that we want a precision $\\Delta E$ such that $\\lambda / \\Delta E = 10^3 N^2$ we have the following"
   ]
  },
  {
   "cell_type": "code",
   "execution_count": 14,
   "metadata": {},
   "outputs": [
    {
     "name": "stdout",
     "output_type": "stream",
     "text": [
      "Number of T gates: 4.286467e+15\n",
      "Serial running time (s) assuming 100ns per T gate 4.286467e+08\n"
     ]
    }
   ],
   "source": [
    "lam_delta = 1e3 # NOTICE: This number has to be checked!\n",
    "\n",
    "cost = lam_delta * N**3 *24 *np.sqrt(2)* np.pi\n",
    "t = cost * 100e-9\n",
    "cost = format(cost , 'e')\n",
    "t = format(t , 'e')\n",
    "print('Number of T gates:', cost)\n",
    "print('Serial running time (s) assuming 100ns per T gate', t)\n",
    "# Un mes son 2.628e+6 segundos\n"
   ]
  },
  {
   "cell_type": "code",
   "execution_count": null,
   "metadata": {},
   "outputs": [],
   "source": []
  }
 ],
 "metadata": {
  "kernelspec": {
   "display_name": "Python 3.7.4 64-bit ('anaconda3': virtualenv)",
   "language": "python",
   "name": "python37464bitanaconda3virtualenvff803ead33984303a5dad786abd2d5b1"
  },
  "language_info": {
   "codemirror_mode": {
    "name": "ipython",
    "version": 3
   },
   "file_extension": ".py",
   "mimetype": "text/x-python",
   "name": "python",
   "nbconvert_exporter": "python",
   "pygments_lexer": "ipython3",
   "version": "3.7.4"
  }
 },
 "nbformat": 4,
 "nbformat_minor": 4
}
